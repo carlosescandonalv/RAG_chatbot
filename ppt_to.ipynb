{
 "cells": [
  {
   "cell_type": "code",
   "execution_count": 1,
   "metadata": {},
   "outputs": [],
   "source": [
    "from pptx import Presentation\n",
    "\n",
    "def extract_text_from_pptx(file_path):\n",
    "    prs = Presentation(file_path)\n",
    "    text = []\n",
    "    \n",
    "    for slide in prs.slides:\n",
    "        for shape in slide.shapes:\n",
    "            if hasattr(shape, \"text\"):\n",
    "                text.append(shape.text)\n",
    "    \n",
    "    return \"\\n\".join(text)\n",
    "\n",
    "# Example usage:\n",
    "pptx_file = \"C:/Users/carlo/Github_Projects_Carlos/ia_example/Mammals__fish__birds__reptiles_and_amphibians.pptx\"  # Replace with your file path\n",
    "text_content = extract_text_from_pptx(pptx_file)\n",
    "\n"
   ]
  },
  {
   "cell_type": "code",
   "execution_count": 5,
   "metadata": {},
   "outputs": [
    {
     "data": {
      "text/plain": [
       "'Classifying Animals\\nVertebrates\\nInvertebrates\\nAnimals \\x0bwith a Backbone \\x0bor Spinal Column\\nMost animals at the zoo are vertebrates.\\nThere are 5 main groups!\\n\\n\\nAnimals \\x0bwithout a Backbone\\x0bor Spinal Column\\nThere are more invertebrates on earth than vertebrate on Earth!  98% of animals on earth are invertebrates.\\n\\n\\nVertebrates\\nMammals\\n\\nFish\\nBirds\\nReptiles\\nAmphibians\\n\\nClassifying Animal\\nMammals\\x0bhttps://www.youtube.com/watch?v=FMfziR-VTPc\\x0b\\x0bhttp://www.neok12.com/video/Mammals/zX6d6165767b617e5b075273.htm\\nHave hair or fur\\nGive birth to live young\\nMammal mothers nurse their young milk\\nHave lungs and need air to breathe\\nAre warm blooded\\nFast and smart\\nAre vertebrates\\n\\n\\nClassifying Animal\\nFish\\nBreathe underwater using gills.\\nHave scales and fins that help them move underwater.\\nAre cold blooded.\\nLay eggs to their babies.\\nNot all living things that live underwater are fish!\\nHave scales\\nAre vertebrates\\n\\n\\n\\nClassifying Animal\\nBirds\\x0bhttps://www.youtube.com/watch?v=8vL_2rF8JHU\\nHave feathers,  two wings,  four limbs, and a beak.\\nBreathe using their lungs.\\nLay eggs.\\nAre warm blooded.\\nMost birds fly!\\nAre vertebrates\\n\\n\\nClassifying Animal\\nReptiles\\nHave scales to cover body\\nHave lungs\\nLay eggs on land\\nAre cold blooded\\nUse the sun to keep warm\\nDo not have ears\\nAre vertebrates\\nMost hibernate\\nLive on land and water\\nMost live in warm places\\nSome can be venomous\\n\\n\\nAmphibians\\nLive in land and water\\nMany undergo metamorphosis – start living underwater and using gills, and develop lungs to live in land\\nAre cold-blooded\\nUse the sun to keep warm\\nLay eggs in water\\nHave moist skin\\nHave webbed feet\\nBreath through the skin\\nAre vertebrates\\nAmphibians mean double life\\nCamouflage\\nSome can be poisonous \\nInvertebrates\\nArthropods\\nSponges\\nWorms\\nCoelenterates\\nEchinoderms\\nMollusks\\n\\nClassifying Animal\\nActivity\\nCreate your own animal!\\nWrite a “Fact Sheet” about your animal (5 characteristics).\\nDraw a picture.\\nWrite a story about your animal.\\n'"
      ]
     },
     "execution_count": 5,
     "metadata": {},
     "output_type": "execute_result"
    }
   ],
   "source": [
    "text_content"
   ]
  },
  {
   "cell_type": "code",
   "execution_count": 18,
   "metadata": {},
   "outputs": [
    {
     "name": "stdout",
     "output_type": "stream",
     "text": [
      "✅ PDF guardado en: C:\\Users\\carlo\\Github_Projects_Carlos\\ia_example\\Mammals__fish__birds__reptiles_and_amphibians.pdf\n"
     ]
    }
   ],
   "source": [
    "import comtypes.client\n",
    "import os\n",
    "\n",
    "def pptx_to_pdf(input_path, output_path=None):\n",
    "    try:\n",
    "        powerpoint = comtypes.client.CreateObject(\"PowerPoint.Application\")\n",
    "        powerpoint.Visible = 1\n",
    "\n",
    "        # Normaliza las rutas\n",
    "        input_path = os.path.abspath(input_path)\n",
    "        if output_path is None:\n",
    "            output_path = os.path.splitext(input_path)[0] + \".pdf\"\n",
    "        else:\n",
    "            output_path = os.path.abspath(output_path)\n",
    "\n",
    "        # Abre la presentación\n",
    "        presentation = powerpoint.Presentations.Open(input_path, WithWindow=False)\n",
    "\n",
    "        # Guarda como PDF\n",
    "        presentation.SaveAs(output_path, 32)  # 32 = PDF\n",
    "        presentation.Close()\n",
    "        print(f\"✅ PDF guardado en: {output_path}\")\n",
    "\n",
    "    except Exception as e:\n",
    "        print(\"❌ Error al convertir a PDF:\", e)\n",
    "\n",
    "    finally:\n",
    "        powerpoint.Quit()\n",
    "\n",
    "# Ruta de ejemplo (usa doble barra \\\\ o una r raw string)\n",
    "pptx_to_pdf(r\"C:\\Users\\carlo\\Github_Projects_Carlos\\ia_example\\Mammals__fish__birds__reptiles_and_amphibians.pptx\")"
   ]
  }
 ],
 "metadata": {
  "kernelspec": {
   "display_name": "Python 3",
   "language": "python",
   "name": "python3"
  },
  "language_info": {
   "codemirror_mode": {
    "name": "ipython",
    "version": 3
   },
   "file_extension": ".py",
   "mimetype": "text/x-python",
   "name": "python",
   "nbconvert_exporter": "python",
   "pygments_lexer": "ipython3",
   "version": "3.13.1"
  }
 },
 "nbformat": 4,
 "nbformat_minor": 2
}
