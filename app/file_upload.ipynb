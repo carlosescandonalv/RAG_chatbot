{
 "cells": [
  {
   "cell_type": "code",
   "execution_count": 19,
   "id": "3428d05a",
   "metadata": {},
   "outputs": [],
   "source": [
    "from functions import * \n",
    "from langchain.document_loaders import PyPDFLoader\n",
    "from langchain.text_splitter import RecursiveCharacterTextSplitter\n",
    "from langchain_openai import OpenAIEmbeddings, ChatOpenAI\n",
    "from langchain.vectorstores import Chroma\n",
    "from langchain_core.runnables import RunnablePassthrough\n",
    "from langchain_core.prompts import ChatPromptTemplate\n",
    "from langchain_core.pydantic_v1 import BaseModel, Field\n",
    "\n",
    "import os\n",
    "import tempfile\n",
    "import uuid\n",
    "import pandas as pd\n",
    "import re\n",
    "from dotenv import load_dotenv"
   ]
  },
  {
   "cell_type": "code",
   "execution_count": 20,
   "id": "2890fd4a",
   "metadata": {},
   "outputs": [],
   "source": [
    "load_dotenv()\n",
    "OPENAI_API_KEY = os.environ.get(\"OPENAI_API_KEY\")"
   ]
  },
  {
   "cell_type": "code",
   "execution_count": 21,
   "id": "49ff6b3e",
   "metadata": {},
   "outputs": [],
   "source": [
    "file_path = \"../documents/Laws_of_the Game_2024_25.pdf\"\n",
    "loader = PyPDFLoader(file_path)\n",
    "pages = loader.load()\n",
    "document_name = os.path.basename(file_path)\n",
    "for page in pages:\n",
    "    page.metadata[\"document_name\"] = document_name\n",
    "text_splitter = RecursiveCharacterTextSplitter(chunk_size = 1500, \n",
    "                                               chunk_overlap=200, \n",
    "                                               length_function=len, separators = [\"\\n\\n\", \"\\n\", \"\"])\n",
    "chunks = text_splitter.split_documents(pages)"
   ]
  },
  {
   "cell_type": "code",
   "execution_count": 22,
   "id": "d3543e07",
   "metadata": {},
   "outputs": [],
   "source": [
    "chunks = calculate_chunk_ids(chunks)"
   ]
  },
  {
   "cell_type": "code",
   "execution_count": 23,
   "id": "49c9b314",
   "metadata": {},
   "outputs": [
    {
     "name": "stdout",
     "output_type": "stream",
     "text": [
      "Number of existing documents in DB: 0\n",
      "👉 Adding new documents: 287\n"
     ]
    }
   ],
   "source": [
    "add_to_chroma(chunks, \"db_carlos_final\", OPENAI_API_KEY)"
   ]
  },
  {
   "cell_type": "code",
   "execution_count": null,
   "id": "e728d6cc",
   "metadata": {},
   "outputs": [],
   "source": [
    "def upload_file_in_db(file_path:str, OPENAI_API_KEY:str):\n",
    "    loader = PyPDFLoader(file_path)\n",
    "    pages = loader.load()\n",
    "\n",
    "    text_splitter = RecursiveCharacterTextSplitter(chunk_size = 1500, \n",
    "                                                chunk_overlap=200, \n",
    "                                                length_function=len, separators = [\"\\n\\n\", \"\\n\", \"\"])\n",
    "    chunks = text_splitter.split_documents(pages)   \n",
    "    chunks = calculate_chunk_ids(chunks)\n",
    "    add_to_chroma(chunks, \"vectorstore_chroma\", OPENAI_API_KEY)"
   ]
  }
 ],
 "metadata": {
  "kernelspec": {
   "display_name": "venv",
   "language": "python",
   "name": "python3"
  },
  "language_info": {
   "codemirror_mode": {
    "name": "ipython",
    "version": 3
   },
   "file_extension": ".py",
   "mimetype": "text/x-python",
   "name": "python",
   "nbconvert_exporter": "python",
   "pygments_lexer": "ipython3",
   "version": "3.13.1"
  }
 },
 "nbformat": 4,
 "nbformat_minor": 5
}
