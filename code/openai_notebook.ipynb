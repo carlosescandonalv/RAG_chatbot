{
 "cells": [
  {
   "cell_type": "code",
   "execution_count": 1,
   "metadata": {},
   "outputs": [
    {
     "name": "stderr",
     "output_type": "stream",
     "text": [
      "c:\\Users\\carlo\\Github_Projects_Carlos\\ia_example\\venv\\Lib\\site-packages\\IPython\\core\\interactiveshell.py:3549: LangChainDeprecationWarning: As of langchain-core 0.3.0, LangChain uses pydantic v2 internally. The langchain_core.pydantic_v1 module was a compatibility shim for pydantic v1, and should no longer be used. Please update the code to import from Pydantic directly.\n",
      "\n",
      "For example, replace imports like: `from langchain_core.pydantic_v1 import BaseModel`\n",
      "with: `from pydantic import BaseModel`\n",
      "or the v1 compatibility namespace if you are working in a code base that has not been fully upgraded to pydantic 2 yet. \tfrom pydantic.v1 import BaseModel\n",
      "\n",
      "  exec(code_obj, self.user_global_ns, self.user_ns)\n"
     ]
    }
   ],
   "source": [
    "from langchain.document_loaders import PyPDFLoader\n",
    "from langchain.text_splitter import RecursiveCharacterTextSplitter\n",
    "from langchain_openai import OpenAIEmbeddings, ChatOpenAI\n",
    "from langchain.vectorstores import Chroma\n",
    "from langchain_core.runnables import RunnablePassthrough\n",
    "from langchain_core.prompts import ChatPromptTemplate\n",
    "from langchain_core.pydantic_v1 import BaseModel, Field\n",
    "\n",
    "import os\n",
    "import tempfile\n",
    "import uuid\n",
    "import pandas as pd\n",
    "import re\n",
    "from dotenv import load_dotenv"
   ]
  },
  {
   "cell_type": "code",
   "execution_count": 2,
   "metadata": {},
   "outputs": [
    {
     "data": {
      "text/plain": [
       "True"
      ]
     },
     "execution_count": 2,
     "metadata": {},
     "output_type": "execute_result"
    }
   ],
   "source": [
    "load_dotenv()"
   ]
  },
  {
   "cell_type": "code",
   "execution_count": 3,
   "metadata": {},
   "outputs": [],
   "source": [
    "OPENAI_API_KEY = os.environ.get(\"OPENAI_API_KEY\")"
   ]
  },
  {
   "cell_type": "code",
   "execution_count": 11,
   "metadata": {},
   "outputs": [
    {
     "data": {
      "text/plain": [
       "AIMessage(content='Why was the cat sitting on the computer?\\n\\nBecause it wanted to keep an eye on the mouse!', additional_kwargs={'refusal': None}, response_metadata={'token_usage': {'completion_tokens': 21, 'prompt_tokens': 13, 'total_tokens': 34, 'completion_tokens_details': {'accepted_prediction_tokens': 0, 'audio_tokens': 0, 'reasoning_tokens': 0, 'rejected_prediction_tokens': 0}, 'prompt_tokens_details': {'audio_tokens': 0, 'cached_tokens': 0}}, 'model_name': 'gpt-4o-mini-2024-07-18', 'system_fingerprint': 'fp_0392822090', 'id': 'chatcmpl-BPWgHQ6iQNzyIwIj3c0kk8PMLcG9i', 'finish_reason': 'stop', 'logprobs': None}, id='run-1f1bda49-cc75-47ef-9fb2-d9642a452423-0', usage_metadata={'input_tokens': 13, 'output_tokens': 21, 'total_tokens': 34, 'input_token_details': {'audio': 0, 'cache_read': 0}, 'output_token_details': {'audio': 0, 'reasoning': 0}})"
      ]
     },
     "execution_count": 11,
     "metadata": {},
     "output_type": "execute_result"
    }
   ],
   "source": [
    "llm = ChatOpenAI(model=\"gpt-4o-mini\", api_key=OPENAI_API_KEY)\n",
    "llm.invoke(\"Tell me a joke about cats\")"
   ]
  },
  {
   "cell_type": "markdown",
   "metadata": {},
   "source": [
    "## 1. Process PDF\n",
    "\n",
    "The pdf is loaded and split in pages, this pages are split then in chunks of size n. The chunks store content information and some metadata such as page or document of origin\n"
   ]
  },
  {
   "cell_type": "code",
   "execution_count": 12,
   "metadata": {},
   "outputs": [],
   "source": [
    "file_path = \"../documents/FIFA MEMO QA.pdf\"\n",
    "loader = PyPDFLoader(file_path)\n",
    "pages = loader.load()\n",
    "document_name = os.path.basename(file_path)\n",
    "for page in pages:\n",
    "    page.metadata[\"document_name\"] = document_name"
   ]
  },
  {
   "cell_type": "code",
   "execution_count": 13,
   "metadata": {},
   "outputs": [],
   "source": [
    "text_splitter = RecursiveCharacterTextSplitter(chunk_size = 1500, \n",
    "                                               chunk_overlap=200, \n",
    "                                               length_function=len, separators = [\"\\n\\n\", \"\\n\", \"\"])\n",
    "chunks = text_splitter.split_documents(pages)"
   ]
  },
  {
   "cell_type": "code",
   "execution_count": 14,
   "metadata": {},
   "outputs": [
    {
     "data": {
      "text/plain": [
       "[Document(metadata={'producer': 'Mac OS X 10.10.5 Quartz PDFContext', 'creator': 'Word', 'creationdate': '2016-06-27T12:13:07+00:00', 'aapl:keywords': '[]', 'keywords': '', 'moddate': '2017-03-21T14:43:23-04:00', 'title': 'Microsoft Word - IFAB_LoG_FAQ_v4.0 (clean).docx', 'source': '../documents/FIFA MEMO QA.pdf', 'total_pages': 12, 'page': 0, 'page_label': '1', 'document_name': 'FIFA MEMO QA.pdf'}, page_content='The International Football Association Board Münstergasse 9    8001 Zurich    Switzerland  T: +41 (0)44 245 1886    F: +41 (0)44 245 1887    theifab.com \\n1/12'),\n",
       " Document(metadata={'producer': 'Mac OS X 10.10.5 Quartz PDFContext', 'creator': 'Word', 'creationdate': '2016-06-27T12:13:07+00:00', 'aapl:keywords': '[]', 'keywords': '', 'moddate': '2017-03-21T14:43:23-04:00', 'title': 'Microsoft Word - IFAB_LoG_FAQ_v4.0 (clean).docx', 'source': '../documents/FIFA MEMO QA.pdf', 'total_pages': 12, 'page': 0, 'page_label': '1', 'document_name': 'FIFA MEMO QA.pdf'}, page_content='Revision of the Laws of the Game  Questions and Answers  01\\t\\r \\xa0The\\t\\r \\xa0Field\\t\\r \\xa0of\\t\\r \\xa0Play\\t\\r \\xa0Q1:\\t\\r \\xa0Why\\t\\r \\xa0is\\t\\r \\xa0it\\t\\r \\xa0not\\t\\r \\xa0allowed\\t\\r \\xa0for\\t\\r \\xa0the\\t\\r \\xa0field\\t\\r \\xa0of\\t\\r \\xa0play\\t\\r \\xa0to\\t\\r \\xa0have\\t\\r \\xa0some\\t\\r \\xa0parts\\t\\r \\xa0which\\t\\r \\xa0are\\t\\r \\xa0grass\\t\\r \\xa0and\\t\\r \\xa0some\\t\\r \\xa0which\\t\\r \\xa0are\\t\\r \\xa0artificial?\\t\\r \\xa0This\\t\\r \\xa0is\\t\\r \\xa0for\\t\\r \\xa0safety\\t\\r \\xa0reasons\\t\\r \\xa0as\\t\\r \\xa0different\\t\\r \\xa0footwear\\t\\r \\xa0is\\t\\r \\xa0needed\\t\\r \\xa0for\\t\\r \\xa0artificial\\t\\r \\xa0and\\t\\r \\xa0grass\\t\\r \\xa0surfaces,\\t\\r \\xa0especially\\t\\r \\xa0in\\t\\r \\xa0wet\\t\\r \\xa0weather\\t\\r \\xa0conditions.\\t\\r \\xa0There\\t\\r \\xa0is\\t\\r \\xa0also\\t\\r \\xa0a\\t\\r \\xa0potential\\t\\r \\xa0danger\\t\\r \\xa0that\\t\\r \\xa0the\\t\\r \\xa0‘boundary’\\t\\r \\xa0where\\t\\r \\xa0grass\\t\\r \\xa0and\\t\\r \\xa0artificial\\t\\r \\xa0surfaces\\t\\r \\xa0meet\\t\\r \\xa0could\\t\\r \\xa0become\\t\\r \\xa0uneven\\t\\r \\xa0and\\t\\r \\xa0dangerous.\\t\\r \\xa0\\t\\r \\xa0\\t\\r \\xa0Q2:\\t\\r \\xa0Why\\t\\r \\xa0is\\t\\r \\xa0it\\t\\r \\xa0suggested\\t\\r \\xa0in\\t\\r \\xa0the\\t\\r \\xa0Practical\\t\\r \\xa0Guidelines\\t\\r \\xa0that\\t\\r \\xa0if\\t\\r \\xa0there\\t\\r \\xa0is\\t\\r \\xa0a\\t\\r \\xa0corner\\t\\r \\xa0flag\\t\\r \\xa0missing\\t\\r \\xa0the\\t\\r \\xa0game\\t\\r \\xa0should\\t\\r \\xa0be\\t\\r \\xa0played?\\t\\r \\xa0The\\t\\r \\xa0IFAB\\t\\r \\xa0wants\\t\\r \\xa0to\\t\\r \\xa0encourage\\t\\r \\xa0football,\\t\\r \\xa0especially\\t\\r \\xa0at\\t\\r \\xa0the\\t\\r \\xa0lowest\\t\\r \\xa0levels,\\t\\r \\xa0and\\t\\r \\xa0if,\\t\\r \\xa0for\\t\\r \\xa0example,\\t\\r \\xa0a\\t\\r \\xa0corner\\t\\r \\xa0flag(s)\\t\\r \\xa0is\\t\\r \\xa0missing\\t\\r \\xa0the\\t\\r \\xa0game\\t\\r \\xa0can\\t\\r \\xa0still\\t\\r \\xa0be\\t\\r \\xa0played\\t\\r \\xa0without\\t\\r \\xa0problems.\\t\\r \\xa0The\\t\\r \\xa0matter\\t\\r \\xa0must\\t\\r \\xa0be\\t\\r \\xa0reported\\t\\r \\xa0afterwards\\t\\r \\xa0but\\t\\r \\xa0at\\t\\r \\xa0least\\t\\r \\xa0everyone\\t\\r \\xa0will\\t\\r \\xa0have\\t\\r \\xa0played\\t\\r \\xa0in\\t\\r \\xa0a\\t\\r \\xa0match.\\t\\r \\xa0\\t\\r \\xa0Q3:\\t\\r \\xa0Why\\t\\r \\xa0are\\t\\r \\xa0(non-\\xad‐commercial)\\t\\r \\xa0logos\\t\\r \\xa0allowed\\t\\r \\xa0on\\t\\r \\xa0corner\\t\\r \\xa0flags?\\t\\r \\xa0The\\t\\r \\xa0IFAB\\t\\r \\xa0is\\t\\r \\xa0applying\\t\\r \\xa0the\\t\\r \\xa0same\\t\\r \\xa0standards\\t\\r \\xa0used\\t\\r \\xa0for\\t\\r \\xa0the\\t\\r \\xa0balls.\\t\\r \\xa0A\\t\\r \\xa0club\\t\\r \\xa0or\\t\\r \\xa0competition\\t\\r \\xa0can\\t\\r \\xa0have\\t\\r \\xa0their\\t\\r \\xa0logo\\t\\r \\xa0on\\t\\r \\xa0the'),\n",
       " Document(metadata={'producer': 'Mac OS X 10.10.5 Quartz PDFContext', 'creator': 'Word', 'creationdate': '2016-06-27T12:13:07+00:00', 'aapl:keywords': '[]', 'keywords': '', 'moddate': '2017-03-21T14:43:23-04:00', 'title': 'Microsoft Word - IFAB_LoG_FAQ_v4.0 (clean).docx', 'source': '../documents/FIFA MEMO QA.pdf', 'total_pages': 12, 'page': 0, 'page_label': '1', 'document_name': 'FIFA MEMO QA.pdf'}, page_content='ed\\t\\r \\xa0on\\t\\r \\xa0corner\\t\\r \\xa0flags?\\t\\r \\xa0The\\t\\r \\xa0IFAB\\t\\r \\xa0is\\t\\r \\xa0applying\\t\\r \\xa0the\\t\\r \\xa0same\\t\\r \\xa0standards\\t\\r \\xa0used\\t\\r \\xa0for\\t\\r \\xa0the\\t\\r \\xa0balls.\\t\\r \\xa0A\\t\\r \\xa0club\\t\\r \\xa0or\\t\\r \\xa0competition\\t\\r \\xa0can\\t\\r \\xa0have\\t\\r \\xa0their\\t\\r \\xa0logo\\t\\r \\xa0on\\t\\r \\xa0the\\t\\r \\xa0flag\\t\\r \\xa0(but\\t\\r \\xa0not\\t\\r \\xa0on\\t\\r \\xa0the\\t\\r \\xa0flagposts)\\t\\r \\xa0as\\t\\r \\xa0long\\t\\r \\xa0as\\t\\r \\xa0there\\t\\r \\xa0is\\t\\r \\xa0no\\t\\r \\xa0commercial\\t\\r \\xa0advertising.\\t\\r \\xa0\\t\\r \\xa002\\t\\r \\xa0The\\t\\r \\xa0Ball\\t\\r \\xa0Q1:\\t\\r \\xa0Why\\t\\r \\xa0is\\t\\r \\xa0Law\\t\\r \\xa02\\t\\r \\xa0the\\t\\r \\xa0only\\t\\r \\xa0Law\\t\\r \\xa0which\\t\\r \\xa0has\\t\\r \\xa0no\\t\\r \\xa0changes?\\t\\r \\xa0The\\t\\r \\xa0IFAB\\t\\r \\xa0has\\t\\r \\xa0looked\\t\\r \\xa0carefully\\t\\r \\xa0at\\t\\r \\xa0the\\t\\r \\xa0wording\\t\\r \\xa0and,\\t\\r \\xa0apart\\t\\r \\xa0from\\t\\r \\xa0some\\t\\r \\xa0English\\t\\r \\xa0text\\t\\r \\xa0changes,\\t\\r \\xa0nothing\\t\\r \\xa0about\\t\\r \\xa0the\\t\\r \\xa0content\\t\\r \\xa0needed\\t\\r \\xa0changing.\\t\\r \\xa0\\t\\r \\xa0\\t\\r \\xa003\\t\\r \\xa0The\\t\\r \\xa0Players\\t\\r \\xa0Q1:\\t\\r \\xa0Why\\t\\r \\xa0does\\t\\r \\xa0it\\t\\r \\xa0say\\t\\r \\xa0that\\t\\r \\xa0a\\t\\r \\xa0match\\t\\r \\xa0can\\t\\r \\xa0not\\t\\r \\xa0continue\\t\\r \\xa0if\\t\\r \\xa0a\\t\\r \\xa0team\\t\\r \\xa0has\\t\\r \\xa0fewer\\t\\r \\xa0than\\t\\r \\xa07\\t\\r \\xa0players\\t\\r \\xa0as\\t\\r \\xa0many\\t\\r \\xa0people\\t\\r \\xa0thought\\t\\r \\xa0this\\t\\r \\xa0was\\t\\r \\xa0already\\t\\r \\xa0the\\t\\r \\xa0Law?\\t\\r \\xa0Until\\t\\r \\xa0now\\t\\r \\xa0it\\t\\r \\xa0was\\t\\r \\xa0only\\t\\r \\xa0a\\t\\r \\xa0recommendation\\t\\r \\xa0from\\t\\r \\xa0The\\t\\r \\xa0IFAB\\t\\r \\xa0that\\t\\r \\xa0a\\t\\r \\xa0match\\t\\r \\xa0should\\t\\r \\xa0not\\t\\r \\xa0continue\\t\\r \\xa0with\\t\\r \\xa0fewer\\t\\r \\xa0than\\t\\r \\xa0seven\\t\\r \\xa0players\\t\\r \\xa0in\\t\\r \\xa0a\\t\\r \\xa0team;\\t\\r \\xa0National\\t\\r \\xa0FAs\\t\\r \\xa0were\\t\\r \\xa0allowed\\t\\r \\xa0to\\t\\r \\xa0make\\t\\r \\xa0a\\t\\r \\xa0ruling\\t\\r \\xa0but\\t\\r \\xa0most\\t\\r \\xa0did\\t\\r \\xa0not.\\t\\r \\xa0The\\t\\r \\xa0Laws\\t\\r \\xa0always\\t\\r \\xa0said\\t\\r \\xa0that\\t\\r \\xa0a\\t\\r \\xa0match\\t\\r \\xa0could\\t\\r \\xa0not\\t\\r \\xa0start\\t\\r \\xa0if\\t\\r \\xa0a\\t\\r \\xa0team\\t\\r \\xa0has\\t\\r \\xa0fewer\\t\\r \\xa0than\\t\\r \\xa0seven\\t\\r \\xa0players,\\t\\r \\xa0so\\t\\r \\xa0it\\t\\r \\xa0is\\t\\r \\xa0logical\\t\\r \\xa0that\\t\\r \\xa0this\\t\\r \\xa0should\\t\\r \\xa0also\\t\\r \\xa0apply\\t\\r \\xa0during\\t\\r \\xa0the\\t\\r \\xa0match.'),\n",
       " Document(metadata={'producer': 'Mac OS X 10.10.5 Quartz PDFContext', 'creator': 'Word', 'creationdate': '2016-06-27T12:13:07+00:00', 'aapl:keywords': '[]', 'keywords': '', 'moddate': '2017-03-21T14:43:23-04:00', 'title': 'Microsoft Word - IFAB_LoG_FAQ_v4.0 (clean).docx', 'source': '../documents/FIFA MEMO QA.pdf', 'total_pages': 12, 'page': 1, 'page_label': '2', 'document_name': 'FIFA MEMO QA.pdf'}, page_content='2/12'),\n",
       " Document(metadata={'producer': 'Mac OS X 10.10.5 Quartz PDFContext', 'creator': 'Word', 'creationdate': '2016-06-27T12:13:07+00:00', 'aapl:keywords': '[]', 'keywords': '', 'moddate': '2017-03-21T14:43:23-04:00', 'title': 'Microsoft Word - IFAB_LoG_FAQ_v4.0 (clean).docx', 'source': '../documents/FIFA MEMO QA.pdf', 'total_pages': 12, 'page': 1, 'page_label': '2', 'document_name': 'FIFA MEMO QA.pdf'}, page_content='Q2:\\t\\r \\xa0Why\\t\\r \\xa0is\\t\\r \\xa0it\\t\\r \\xa0now\\t\\r \\xa0a\\t\\r \\xa0direct\\t\\r \\xa0free\\t\\r \\xa0kick\\t\\r \\xa0if\\t\\r \\xa0a\\t\\r \\xa0substitute\\t\\r \\xa0or\\t\\r \\xa0team\\t\\r \\xa0official\\t\\r \\xa0interferes\\t\\r \\xa0with\\t\\r \\xa0play\\t\\r \\xa0or\\t\\r \\xa0an\\t\\r \\xa0opponent\\t\\r \\xa0when\\t\\r \\xa0it\\t\\r \\xa0used\\t\\r \\xa0to\\t\\r \\xa0be\\t\\r \\xa0an\\t\\r \\xa0indirect\\t\\r \\xa0free\\t\\r \\xa0kick?\\t\\r \\xa0There\\t\\r \\xa0is\\t\\r \\xa0a\\t\\r \\xa0growing\\t\\r \\xa0problem\\t\\r \\xa0of\\t\\r \\xa0interference\\t\\r \\xa0with\\t\\r \\xa0play\\t\\r \\xa0or\\t\\r \\xa0an\\t\\r \\xa0opponent\\t\\r \\xa0by\\t\\r \\xa0substitutes\\t\\r \\xa0warming\\t\\r \\xa0up\\t\\r \\xa0behind\\t\\r \\xa0the\\t\\r \\xa0goal\\t\\r \\xa0line,\\t\\r \\xa0or\\t\\r \\xa0team\\t\\r \\xa0officials,\\t\\r \\xa0and\\t\\r \\xa0this\\t\\r \\xa0must\\t\\r \\xa0be\\t\\r \\xa0discouraged.\\t\\r \\xa0A\\t\\r \\xa0direct\\t\\r \\xa0free\\t\\r \\xa0kick\\t\\r \\xa0(and\\t\\r \\xa0a\\t\\r \\xa0penalty\\t\\r \\xa0if\\t\\r \\xa0in\\t\\r \\xa0their\\t\\r \\xa0own\\t\\r \\xa0penalty\\t\\r \\xa0area)\\t\\r \\xa0is\\t\\r \\xa0a\\t\\r \\xa0strong\\t\\r \\xa0sanction\\t\\r \\xa0-\\xad‐\\t\\r \\xa0this\\t\\r \\xa0is\\t\\r \\xa0especially\\t\\r \\xa0important\\t\\r \\xa0if\\t\\r \\xa0a\\t\\r \\xa0substitute\\t\\r \\xa0or\\t\\r \\xa0team\\t\\r \\xa0officials\\t\\r \\xa0enters\\t\\r \\xa0the\\t\\r \\xa0penalty\\t\\r \\xa0area\\t\\r \\xa0and\\t\\r \\xa0stops\\t\\r \\xa0a\\t\\r \\xa0goal.\\t\\r \\xa0‘Fair\\t\\r \\xa0play’\\t\\r \\xa0says\\t\\r \\xa0that\\t\\r \\xa0awarding\\t\\r \\xa0a\\t\\r \\xa0penalty\\t\\r \\xa0kick\\t\\r \\xa0restores\\t\\r \\xa0the\\t\\r \\xa0lost\\t\\r \\xa0opportunity\\t\\r \\xa0to\\t\\r \\xa0score.\\t\\r \\xa0\\t\\r \\xa0Q3:\\t\\r \\xa0Why\\t\\r \\xa0can\\t\\r \\xa0the\\t\\r \\xa0referee\\t\\r \\xa0now\\t\\r \\xa0allow\\t\\r \\xa0a\\t\\r \\xa0goal\\t\\r \\xa0if\\t\\r \\xa0someone\\t\\r \\xa0other\\t\\r \\xa0than\\t\\r \\xa0player\\t\\r \\xa0touches\\t\\r \\xa0the\\t\\r \\xa0ball\\t\\r \\xa0and\\t\\r \\xa0it\\t\\r \\xa0still\\t\\r \\xa0goes\\t\\r \\xa0in\\t\\r \\xa0the\\t\\r \\xa0goal?\\t\\r \\xa0This\\t\\r \\xa0is\\t\\r \\xa0a\\t\\r \\xa0‘fair\\t\\r \\xa0play’\\t\\r \\xa0change\\t\\r \\xa0which\\t\\r \\xa0applies\\t\\r \\xa0the\\t\\r \\xa0advantage\\t\\r \\xa0principle\\t\\r \\xa0so\\t\\r \\xa0that\\t\\r \\xa0if\\t\\r \\xa0someone\\t\\r \\xa0or\\t\\r \\xa0something\\t\\r \\xa0touches\\t\\r \\xa0the\\t\\r \\xa0ball\\t\\r \\xa0but\\t\\r \\xa0it\\t\\r \\xa0still\\t\\r \\xa0goes\\t\\r \\xa0in\\t\\r \\xa0the\\t\\r \\xa0goal,\\t\\r \\xa0and\\t\\r \\xa0the\\t\\r \\xa0defenders\\t\\r \\xa0were\\t\\r \\xa0not\\t\\r \\xa0prevented\\t\\r \\xa0from\\t\\r \\xa0playing\\t\\r \\xa0the\\t\\r \\xa0ball,\\t\\r \\xa0the\\t\\r \\xa0goal\\t\\r \\xa0should\\t\\r \\xa0be\\t\\r \\xa0allowed\\t\\r \\xa0as\\t\\r \\xa0this\\t\\r \\xa0is\\t\\r \\xa0what')]"
      ]
     },
     "execution_count": 14,
     "metadata": {},
     "output_type": "execute_result"
    }
   ],
   "source": [
    "chunks[:5]"
   ]
  },
  {
   "cell_type": "code",
   "execution_count": null,
   "metadata": {},
   "outputs": [],
   "source": [
    "def calculate_chunk_ids(chunks):\n",
    "\n",
    "    # This will create IDs like \"data/monopoly.pdf:6:2\"\n",
    "    # Page Source : Page Number : Chunk Index\n",
    "\n",
    "    last_page_id = None\n",
    "    current_chunk_index = 0\n",
    "    \n",
    "    for chunk in chunks:\n",
    "        source = chunk.metadata.get(\"source\")\n",
    "        page = chunk.metadata.get(\"page\")\n",
    "        current_page_id = f\"{document_name}:{page}\"\n",
    "\n",
    "        # If the page ID is the same as the last one, increment the index.\n",
    "        if current_page_id == last_page_id:\n",
    "            current_chunk_index += 1\n",
    "        else:\n",
    "            current_chunk_index = 0\n",
    "\n",
    "        # Calculate the chunk ID.\n",
    "        chunk_id = f\"{current_page_id}:{current_chunk_index}\"\n",
    "        last_page_id = current_page_id\n",
    "\n",
    "        # Add it to the page meta-data.\n",
    "        chunk.metadata[\"id\"] = chunk_id\n",
    "\n",
    "    return chunks"
   ]
  },
  {
   "cell_type": "code",
   "execution_count": 9,
   "metadata": {},
   "outputs": [
    {
     "data": {
      "text/plain": [
       "[Document(metadata={'producer': 'Mac OS X 10.10.5 Quartz PDFContext', 'creator': 'Word', 'creationdate': '2016-06-27T12:13:07+00:00', 'aapl:keywords': '[]', 'keywords': '', 'moddate': '2017-03-21T14:43:23-04:00', 'title': 'Microsoft Word - IFAB_LoG_FAQ_v4.0 (clean).docx', 'source': '../documents/FIFA MEMO QA.pdf', 'total_pages': 12, 'page': 0, 'page_label': '1', 'id': '../documents/FIFA MEMO QA.pdf:0:0'}, page_content='The International Football Association Board Münstergasse 9    8001 Zurich    Switzerland  T: +41 (0)44 245 1886    F: +41 (0)44 245 1887    theifab.com \\n1/12'),\n",
       " Document(metadata={'producer': 'Mac OS X 10.10.5 Quartz PDFContext', 'creator': 'Word', 'creationdate': '2016-06-27T12:13:07+00:00', 'aapl:keywords': '[]', 'keywords': '', 'moddate': '2017-03-21T14:43:23-04:00', 'title': 'Microsoft Word - IFAB_LoG_FAQ_v4.0 (clean).docx', 'source': '../documents/FIFA MEMO QA.pdf', 'total_pages': 12, 'page': 0, 'page_label': '1', 'id': '../documents/FIFA MEMO QA.pdf:0:1'}, page_content='Revision of the Laws of the Game  Questions and Answers  01\\t\\r \\xa0The\\t\\r \\xa0Field\\t\\r \\xa0of\\t\\r \\xa0Play\\t\\r \\xa0Q1:\\t\\r \\xa0Why\\t\\r \\xa0is\\t\\r \\xa0it\\t\\r \\xa0not\\t\\r \\xa0allowed\\t\\r \\xa0for\\t\\r \\xa0the\\t\\r \\xa0field\\t\\r \\xa0of\\t\\r \\xa0play\\t\\r \\xa0to\\t\\r \\xa0have\\t\\r \\xa0some\\t\\r \\xa0parts\\t\\r \\xa0which\\t\\r \\xa0are\\t\\r \\xa0grass\\t\\r \\xa0and\\t\\r \\xa0some\\t\\r \\xa0which\\t\\r \\xa0are\\t\\r \\xa0artificial?\\t\\r \\xa0This\\t\\r \\xa0is\\t\\r \\xa0for\\t\\r \\xa0safety\\t\\r \\xa0reasons\\t\\r \\xa0as\\t\\r \\xa0different\\t\\r \\xa0footwear\\t\\r \\xa0is\\t\\r \\xa0needed\\t\\r \\xa0for\\t\\r \\xa0artificial\\t\\r \\xa0and\\t\\r \\xa0grass\\t\\r \\xa0surfaces,\\t\\r \\xa0especially\\t\\r \\xa0in\\t\\r \\xa0wet\\t\\r \\xa0weather\\t\\r \\xa0conditions.\\t\\r \\xa0There\\t\\r \\xa0is\\t\\r \\xa0also\\t\\r \\xa0a\\t\\r \\xa0potential\\t\\r \\xa0danger\\t\\r \\xa0that\\t\\r \\xa0the\\t\\r \\xa0‘boundary’\\t\\r \\xa0where\\t\\r \\xa0grass\\t\\r \\xa0and\\t\\r \\xa0artificial\\t\\r \\xa0surfaces\\t\\r \\xa0meet\\t\\r \\xa0could\\t\\r \\xa0become\\t\\r \\xa0uneven\\t\\r \\xa0and\\t\\r \\xa0dangerous.\\t\\r \\xa0\\t\\r \\xa0\\t\\r \\xa0Q2:\\t\\r \\xa0Why\\t\\r \\xa0is\\t\\r \\xa0it\\t\\r \\xa0suggested\\t\\r \\xa0in\\t\\r \\xa0the\\t\\r \\xa0Practical\\t\\r \\xa0Guidelines\\t\\r \\xa0that\\t\\r \\xa0if\\t\\r \\xa0there\\t\\r \\xa0is\\t\\r \\xa0a\\t\\r \\xa0corner\\t\\r \\xa0flag\\t\\r \\xa0missing\\t\\r \\xa0the\\t\\r \\xa0game\\t\\r \\xa0should\\t\\r \\xa0be\\t\\r \\xa0played?\\t\\r \\xa0The\\t\\r \\xa0IFAB\\t\\r \\xa0wants\\t\\r \\xa0to\\t\\r \\xa0encourage\\t\\r \\xa0football,\\t\\r \\xa0especially\\t\\r \\xa0at\\t\\r \\xa0the\\t\\r \\xa0lowest\\t\\r \\xa0levels,\\t\\r \\xa0and\\t\\r \\xa0if,\\t\\r \\xa0for\\t\\r \\xa0example,\\t\\r \\xa0a\\t\\r \\xa0corner\\t\\r \\xa0flag(s)\\t\\r \\xa0is\\t\\r \\xa0missing\\t\\r \\xa0the\\t\\r \\xa0game\\t\\r \\xa0can\\t\\r \\xa0still\\t\\r \\xa0be\\t\\r \\xa0played\\t\\r \\xa0without\\t\\r \\xa0problems.\\t\\r \\xa0The\\t\\r \\xa0matter\\t\\r \\xa0must\\t\\r \\xa0be\\t\\r \\xa0reported\\t\\r \\xa0afterwards\\t\\r \\xa0but\\t\\r \\xa0at\\t\\r \\xa0least\\t\\r \\xa0everyone\\t\\r \\xa0will\\t\\r \\xa0have\\t\\r \\xa0played\\t\\r \\xa0in\\t\\r \\xa0a\\t\\r \\xa0match.\\t\\r \\xa0\\t\\r \\xa0Q3:\\t\\r \\xa0Why\\t\\r \\xa0are\\t\\r \\xa0(non-\\xad‐commercial)\\t\\r \\xa0logos\\t\\r \\xa0allowed\\t\\r \\xa0on\\t\\r \\xa0corner\\t\\r \\xa0flags?\\t\\r \\xa0The\\t\\r \\xa0IFAB\\t\\r \\xa0is\\t\\r \\xa0applying\\t\\r \\xa0the\\t\\r \\xa0same\\t\\r \\xa0standards\\t\\r \\xa0used\\t\\r \\xa0for\\t\\r \\xa0the\\t\\r \\xa0balls.\\t\\r \\xa0A\\t\\r \\xa0club\\t\\r \\xa0or\\t\\r \\xa0competition\\t\\r \\xa0can\\t\\r \\xa0have\\t\\r \\xa0their\\t\\r \\xa0logo\\t\\r \\xa0on\\t\\r \\xa0the'),\n",
       " Document(metadata={'producer': 'Mac OS X 10.10.5 Quartz PDFContext', 'creator': 'Word', 'creationdate': '2016-06-27T12:13:07+00:00', 'aapl:keywords': '[]', 'keywords': '', 'moddate': '2017-03-21T14:43:23-04:00', 'title': 'Microsoft Word - IFAB_LoG_FAQ_v4.0 (clean).docx', 'source': '../documents/FIFA MEMO QA.pdf', 'total_pages': 12, 'page': 0, 'page_label': '1', 'id': '../documents/FIFA MEMO QA.pdf:0:2'}, page_content='ed\\t\\r \\xa0on\\t\\r \\xa0corner\\t\\r \\xa0flags?\\t\\r \\xa0The\\t\\r \\xa0IFAB\\t\\r \\xa0is\\t\\r \\xa0applying\\t\\r \\xa0the\\t\\r \\xa0same\\t\\r \\xa0standards\\t\\r \\xa0used\\t\\r \\xa0for\\t\\r \\xa0the\\t\\r \\xa0balls.\\t\\r \\xa0A\\t\\r \\xa0club\\t\\r \\xa0or\\t\\r \\xa0competition\\t\\r \\xa0can\\t\\r \\xa0have\\t\\r \\xa0their\\t\\r \\xa0logo\\t\\r \\xa0on\\t\\r \\xa0the\\t\\r \\xa0flag\\t\\r \\xa0(but\\t\\r \\xa0not\\t\\r \\xa0on\\t\\r \\xa0the\\t\\r \\xa0flagposts)\\t\\r \\xa0as\\t\\r \\xa0long\\t\\r \\xa0as\\t\\r \\xa0there\\t\\r \\xa0is\\t\\r \\xa0no\\t\\r \\xa0commercial\\t\\r \\xa0advertising.\\t\\r \\xa0\\t\\r \\xa002\\t\\r \\xa0The\\t\\r \\xa0Ball\\t\\r \\xa0Q1:\\t\\r \\xa0Why\\t\\r \\xa0is\\t\\r \\xa0Law\\t\\r \\xa02\\t\\r \\xa0the\\t\\r \\xa0only\\t\\r \\xa0Law\\t\\r \\xa0which\\t\\r \\xa0has\\t\\r \\xa0no\\t\\r \\xa0changes?\\t\\r \\xa0The\\t\\r \\xa0IFAB\\t\\r \\xa0has\\t\\r \\xa0looked\\t\\r \\xa0carefully\\t\\r \\xa0at\\t\\r \\xa0the\\t\\r \\xa0wording\\t\\r \\xa0and,\\t\\r \\xa0apart\\t\\r \\xa0from\\t\\r \\xa0some\\t\\r \\xa0English\\t\\r \\xa0text\\t\\r \\xa0changes,\\t\\r \\xa0nothing\\t\\r \\xa0about\\t\\r \\xa0the\\t\\r \\xa0content\\t\\r \\xa0needed\\t\\r \\xa0changing.\\t\\r \\xa0\\t\\r \\xa0\\t\\r \\xa003\\t\\r \\xa0The\\t\\r \\xa0Players\\t\\r \\xa0Q1:\\t\\r \\xa0Why\\t\\r \\xa0does\\t\\r \\xa0it\\t\\r \\xa0say\\t\\r \\xa0that\\t\\r \\xa0a\\t\\r \\xa0match\\t\\r \\xa0can\\t\\r \\xa0not\\t\\r \\xa0continue\\t\\r \\xa0if\\t\\r \\xa0a\\t\\r \\xa0team\\t\\r \\xa0has\\t\\r \\xa0fewer\\t\\r \\xa0than\\t\\r \\xa07\\t\\r \\xa0players\\t\\r \\xa0as\\t\\r \\xa0many\\t\\r \\xa0people\\t\\r \\xa0thought\\t\\r \\xa0this\\t\\r \\xa0was\\t\\r \\xa0already\\t\\r \\xa0the\\t\\r \\xa0Law?\\t\\r \\xa0Until\\t\\r \\xa0now\\t\\r \\xa0it\\t\\r \\xa0was\\t\\r \\xa0only\\t\\r \\xa0a\\t\\r \\xa0recommendation\\t\\r \\xa0from\\t\\r \\xa0The\\t\\r \\xa0IFAB\\t\\r \\xa0that\\t\\r \\xa0a\\t\\r \\xa0match\\t\\r \\xa0should\\t\\r \\xa0not\\t\\r \\xa0continue\\t\\r \\xa0with\\t\\r \\xa0fewer\\t\\r \\xa0than\\t\\r \\xa0seven\\t\\r \\xa0players\\t\\r \\xa0in\\t\\r \\xa0a\\t\\r \\xa0team;\\t\\r \\xa0National\\t\\r \\xa0FAs\\t\\r \\xa0were\\t\\r \\xa0allowed\\t\\r \\xa0to\\t\\r \\xa0make\\t\\r \\xa0a\\t\\r \\xa0ruling\\t\\r \\xa0but\\t\\r \\xa0most\\t\\r \\xa0did\\t\\r \\xa0not.\\t\\r \\xa0The\\t\\r \\xa0Laws\\t\\r \\xa0always\\t\\r \\xa0said\\t\\r \\xa0that\\t\\r \\xa0a\\t\\r \\xa0match\\t\\r \\xa0could\\t\\r \\xa0not\\t\\r \\xa0start\\t\\r \\xa0if\\t\\r \\xa0a\\t\\r \\xa0team\\t\\r \\xa0has\\t\\r \\xa0fewer\\t\\r \\xa0than\\t\\r \\xa0seven\\t\\r \\xa0players,\\t\\r \\xa0so\\t\\r \\xa0it\\t\\r \\xa0is\\t\\r \\xa0logical\\t\\r \\xa0that\\t\\r \\xa0this\\t\\r \\xa0should\\t\\r \\xa0also\\t\\r \\xa0apply\\t\\r \\xa0during\\t\\r \\xa0the\\t\\r \\xa0match.'),\n",
       " Document(metadata={'producer': 'Mac OS X 10.10.5 Quartz PDFContext', 'creator': 'Word', 'creationdate': '2016-06-27T12:13:07+00:00', 'aapl:keywords': '[]', 'keywords': '', 'moddate': '2017-03-21T14:43:23-04:00', 'title': 'Microsoft Word - IFAB_LoG_FAQ_v4.0 (clean).docx', 'source': '../documents/FIFA MEMO QA.pdf', 'total_pages': 12, 'page': 1, 'page_label': '2', 'id': '../documents/FIFA MEMO QA.pdf:1:0'}, page_content='2/12'),\n",
       " Document(metadata={'producer': 'Mac OS X 10.10.5 Quartz PDFContext', 'creator': 'Word', 'creationdate': '2016-06-27T12:13:07+00:00', 'aapl:keywords': '[]', 'keywords': '', 'moddate': '2017-03-21T14:43:23-04:00', 'title': 'Microsoft Word - IFAB_LoG_FAQ_v4.0 (clean).docx', 'source': '../documents/FIFA MEMO QA.pdf', 'total_pages': 12, 'page': 1, 'page_label': '2', 'id': '../documents/FIFA MEMO QA.pdf:1:1'}, page_content='Q2:\\t\\r \\xa0Why\\t\\r \\xa0is\\t\\r \\xa0it\\t\\r \\xa0now\\t\\r \\xa0a\\t\\r \\xa0direct\\t\\r \\xa0free\\t\\r \\xa0kick\\t\\r \\xa0if\\t\\r \\xa0a\\t\\r \\xa0substitute\\t\\r \\xa0or\\t\\r \\xa0team\\t\\r \\xa0official\\t\\r \\xa0interferes\\t\\r \\xa0with\\t\\r \\xa0play\\t\\r \\xa0or\\t\\r \\xa0an\\t\\r \\xa0opponent\\t\\r \\xa0when\\t\\r \\xa0it\\t\\r \\xa0used\\t\\r \\xa0to\\t\\r \\xa0be\\t\\r \\xa0an\\t\\r \\xa0indirect\\t\\r \\xa0free\\t\\r \\xa0kick?\\t\\r \\xa0There\\t\\r \\xa0is\\t\\r \\xa0a\\t\\r \\xa0growing\\t\\r \\xa0problem\\t\\r \\xa0of\\t\\r \\xa0interference\\t\\r \\xa0with\\t\\r \\xa0play\\t\\r \\xa0or\\t\\r \\xa0an\\t\\r \\xa0opponent\\t\\r \\xa0by\\t\\r \\xa0substitutes\\t\\r \\xa0warming\\t\\r \\xa0up\\t\\r \\xa0behind\\t\\r \\xa0the\\t\\r \\xa0goal\\t\\r \\xa0line,\\t\\r \\xa0or\\t\\r \\xa0team\\t\\r \\xa0officials,\\t\\r \\xa0and\\t\\r \\xa0this\\t\\r \\xa0must\\t\\r \\xa0be\\t\\r \\xa0discouraged.\\t\\r \\xa0A\\t\\r \\xa0direct\\t\\r \\xa0free\\t\\r \\xa0kick\\t\\r \\xa0(and\\t\\r \\xa0a\\t\\r \\xa0penalty\\t\\r \\xa0if\\t\\r \\xa0in\\t\\r \\xa0their\\t\\r \\xa0own\\t\\r \\xa0penalty\\t\\r \\xa0area)\\t\\r \\xa0is\\t\\r \\xa0a\\t\\r \\xa0strong\\t\\r \\xa0sanction\\t\\r \\xa0-\\xad‐\\t\\r \\xa0this\\t\\r \\xa0is\\t\\r \\xa0especially\\t\\r \\xa0important\\t\\r \\xa0if\\t\\r \\xa0a\\t\\r \\xa0substitute\\t\\r \\xa0or\\t\\r \\xa0team\\t\\r \\xa0officials\\t\\r \\xa0enters\\t\\r \\xa0the\\t\\r \\xa0penalty\\t\\r \\xa0area\\t\\r \\xa0and\\t\\r \\xa0stops\\t\\r \\xa0a\\t\\r \\xa0goal.\\t\\r \\xa0‘Fair\\t\\r \\xa0play’\\t\\r \\xa0says\\t\\r \\xa0that\\t\\r \\xa0awarding\\t\\r \\xa0a\\t\\r \\xa0penalty\\t\\r \\xa0kick\\t\\r \\xa0restores\\t\\r \\xa0the\\t\\r \\xa0lost\\t\\r \\xa0opportunity\\t\\r \\xa0to\\t\\r \\xa0score.\\t\\r \\xa0\\t\\r \\xa0Q3:\\t\\r \\xa0Why\\t\\r \\xa0can\\t\\r \\xa0the\\t\\r \\xa0referee\\t\\r \\xa0now\\t\\r \\xa0allow\\t\\r \\xa0a\\t\\r \\xa0goal\\t\\r \\xa0if\\t\\r \\xa0someone\\t\\r \\xa0other\\t\\r \\xa0than\\t\\r \\xa0player\\t\\r \\xa0touches\\t\\r \\xa0the\\t\\r \\xa0ball\\t\\r \\xa0and\\t\\r \\xa0it\\t\\r \\xa0still\\t\\r \\xa0goes\\t\\r \\xa0in\\t\\r \\xa0the\\t\\r \\xa0goal?\\t\\r \\xa0This\\t\\r \\xa0is\\t\\r \\xa0a\\t\\r \\xa0‘fair\\t\\r \\xa0play’\\t\\r \\xa0change\\t\\r \\xa0which\\t\\r \\xa0applies\\t\\r \\xa0the\\t\\r \\xa0advantage\\t\\r \\xa0principle\\t\\r \\xa0so\\t\\r \\xa0that\\t\\r \\xa0if\\t\\r \\xa0someone\\t\\r \\xa0or\\t\\r \\xa0something\\t\\r \\xa0touches\\t\\r \\xa0the\\t\\r \\xa0ball\\t\\r \\xa0but\\t\\r \\xa0it\\t\\r \\xa0still\\t\\r \\xa0goes\\t\\r \\xa0in\\t\\r \\xa0the\\t\\r \\xa0goal,\\t\\r \\xa0and\\t\\r \\xa0the\\t\\r \\xa0defenders\\t\\r \\xa0were\\t\\r \\xa0not\\t\\r \\xa0prevented\\t\\r \\xa0from\\t\\r \\xa0playing\\t\\r \\xa0the\\t\\r \\xa0ball,\\t\\r \\xa0the\\t\\r \\xa0goal\\t\\r \\xa0should\\t\\r \\xa0be\\t\\r \\xa0allowed\\t\\r \\xa0as\\t\\r \\xa0this\\t\\r \\xa0is\\t\\r \\xa0what'),\n",
       " Document(metadata={'producer': 'Mac OS X 10.10.5 Quartz PDFContext', 'creator': 'Word', 'creationdate': '2016-06-27T12:13:07+00:00', 'aapl:keywords': '[]', 'keywords': '', 'moddate': '2017-03-21T14:43:23-04:00', 'title': 'Microsoft Word - IFAB_LoG_FAQ_v4.0 (clean).docx', 'source': '../documents/FIFA MEMO QA.pdf', 'total_pages': 12, 'page': 1, 'page_label': '2', 'id': '../documents/FIFA MEMO QA.pdf:1:2'}, page_content='still\\t\\r \\xa0goes\\t\\r \\xa0in\\t\\r \\xa0the\\t\\r \\xa0goal,\\t\\r \\xa0and\\t\\r \\xa0the\\t\\r \\xa0defenders\\t\\r \\xa0were\\t\\r \\xa0not\\t\\r \\xa0prevented\\t\\r \\xa0from\\t\\r \\xa0playing\\t\\r \\xa0the\\t\\r \\xa0ball,\\t\\r \\xa0the\\t\\r \\xa0goal\\t\\r \\xa0should\\t\\r \\xa0be\\t\\r \\xa0allowed\\t\\r \\xa0as\\t\\r \\xa0this\\t\\r \\xa0is\\t\\r \\xa0what\\t\\r \\xa0football\\t\\r \\xa0would\\t\\r \\xa0expect.\\t\\r \\xa0For\\t\\r \\xa0example,\\t\\r \\xa0if\\t\\r \\xa0a\\t\\r \\xa0substitute/team\\t\\r \\xa0official\\t\\r \\xa0tries\\t\\r \\xa0unsuccessfully\\t\\r \\xa0to\\t\\r \\xa0stop\\t\\r \\xa0an\\t\\r \\xa0opponents’\\t\\r \\xa0shot\\t\\r \\xa0going\\t\\r \\xa0into\\t\\r \\xa0the\\t\\r \\xa0goal\\t\\r \\xa0then\\t\\r \\xa0it\\t\\r \\xa0is\\t\\r \\xa0clearly\\t\\r \\xa0‘fair\\t\\r \\xa0play’\\t\\r \\xa0to\\t\\r \\xa0allow\\t\\r \\xa0the\\t\\r \\xa0goal\\t\\r \\xa0to\\t\\r \\xa0be\\t\\r \\xa0awarded.\\t\\r \\xa0The\\t\\r \\xa0exception\\t\\r \\xa0is\\t\\r \\xa0that\\t\\r \\xa0the\\t\\r \\xa0goal\\t\\r \\xa0can\\t\\r \\xa0not\\t\\r \\xa0be\\t\\r \\xa0allowed\\t\\r \\xa0if\\t\\r \\xa0it\\t\\r \\xa0is\\t\\r \\xa0scored\\t\\r \\xa0against\\t\\r \\xa0the\\t\\r \\xa0opponents.\\t\\r \\xa0\\t\\r \\xa004\\t\\r \\xa0The\\t\\r \\xa0Players’\\t\\r \\xa0Equipment\\t\\r \\xa0Q1:\\t\\r \\xa0Why\\t\\r \\xa0has\\t\\r \\xa0the\\t\\r \\xa0wording\\t\\r \\xa0for\\t\\r \\xa0tape\\t\\r \\xa0on\\t\\r \\xa0socks\\t\\r \\xa0been\\t\\r \\xa0changed\\t\\r \\xa0to\\t\\r \\xa0include\\t\\r \\xa0other\\t\\r \\xa0material?\\t\\r \\xa0This\\t\\r \\xa0was\\t\\r \\xa0changed\\t\\r \\xa0because\\t\\r \\xa0some\\t\\r \\xa0players\\t\\r \\xa0were\\t\\r \\xa0wearing/using\\t\\r \\xa0material\\t\\r \\xa0which\\t\\r \\xa0was\\t\\r \\xa0not\\t\\r \\xa0tape\\t\\r \\xa0(e.g.\\t\\r \\xa0ankle\\t\\r \\xa0socks)\\t\\r \\xa0and\\t\\r \\xa0which\\t\\r \\xa0was\\t\\r \\xa0a\\t\\r \\xa0different\\t\\r \\xa0colour\\t\\r \\xa0to\\t\\r \\xa0the\\t\\r \\xa0sock.\\t\\r \\xa0\\t\\r \\xa0Q2:\\t\\r \\xa0Why\\t\\r \\xa0can\\t\\r \\xa0a\\t\\r \\xa0player\\t\\r \\xa0who\\t\\r \\xa0loses\\t\\r \\xa0a\\t\\r \\xa0shinguard\\t\\r \\xa0or\\t\\r \\xa0boot\\t\\r \\xa0accidentally\\t\\r \\xa0be\\t\\r \\xa0allowed\\t\\r \\xa0to\\t\\r \\xa0carry\\t\\r \\xa0on\\t\\r \\xa0playing?\\t\\r \\xa0It\\t\\r \\xa0is\\t\\r \\xa0unfair\\t\\r \\xa0that\\t\\r \\xa0a\\t\\r \\xa0player\\t\\r \\xa0who\\t\\r \\xa0loses\\t\\r \\xa0a\\t\\r \\xa0boot\\t\\r \\xa0or\\t\\r \\xa0shinguard\\t\\r \\xa0by\\t\\r \\xa0accident\\t\\r \\xa0has\\t\\r \\xa0to\\t\\r \\xa0stop\\t\\r \\xa0playing\\t\\r \\xa0immediately\\t\\r \\xa0–\\t\\r \\xa0it\\t\\r \\xa0seems\\t\\r \\xa0fair\\t\\r \\xa0to\\t\\r \\xa0allow\\t\\r \\xa0the\\t\\r \\xa0player\\t\\r \\xa0to\\t\\r \\xa0have\\t\\r \\xa0until\\t\\r \\xa0the\\t\\r \\xa0next\\t\\r \\xa0restart\\t\\r \\xa0of\\t\\r \\xa0play\\t\\r \\xa0to\\t\\r \\xa0put\\t\\r \\xa0it\\t\\r \\xa0back\\t\\r \\xa0on.'),\n",
       " Document(metadata={'producer': 'Mac OS X 10.10.5 Quartz PDFContext', 'creator': 'Word', 'creationdate': '2016-06-27T12:13:07+00:00', 'aapl:keywords': '[]', 'keywords': '', 'moddate': '2017-03-21T14:43:23-04:00', 'title': 'Microsoft Word - IFAB_LoG_FAQ_v4.0 (clean).docx', 'source': '../documents/FIFA MEMO QA.pdf', 'total_pages': 12, 'page': 1, 'page_label': '2', 'id': '../documents/FIFA MEMO QA.pdf:1:3'}, page_content='to\\t\\r \\xa0stop\\t\\r \\xa0playing\\t\\r \\xa0immediately\\t\\r \\xa0–\\t\\r \\xa0it\\t\\r \\xa0seems\\t\\r \\xa0fair\\t\\r \\xa0to\\t\\r \\xa0allow\\t\\r \\xa0the\\t\\r \\xa0player\\t\\r \\xa0to\\t\\r \\xa0have\\t\\r \\xa0until\\t\\r \\xa0the\\t\\r \\xa0next\\t\\r \\xa0restart\\t\\r \\xa0of\\t\\r \\xa0play\\t\\r \\xa0to\\t\\r \\xa0put\\t\\r \\xa0it\\t\\r \\xa0back\\t\\r \\xa0on.\\t\\r \\xa0\\t\\r \\xa0Q3:\\t\\r \\xa0Why\\t\\r \\xa0does\\t\\r \\xa0the\\t\\r \\xa0Law\\t\\r \\xa0mention\\t\\r \\xa0the\\t\\r \\xa0lower\\t\\r \\xa0edge\\t\\r \\xa0(hem)\\t\\r \\xa0of\\t\\r \\xa0the\\t\\r \\xa0shorts\\t\\r \\xa0in\\t\\r \\xa0relation\\t\\r \\xa0to\\t\\r \\xa0the\\t\\r \\xa0colour\\t\\r \\xa0of\\t\\r \\xa0undershorts/tights?\\t\\r \\xa0The\\t\\r \\xa0Laws\\t\\r \\xa0should\\t\\r \\xa0be\\t\\r \\xa0relevant\\t\\r \\xa0to\\t\\r \\xa0modern\\t\\r \\xa0football\\t\\r \\xa0and\\t\\r \\xa0as\\t\\r \\xa0shorts\\t\\r \\xa0are\\t\\r \\xa0now\\t\\r \\xa0being\\t\\r \\xa0designed\\t\\r \\xa0with\\t\\r \\xa0a\\t\\r \\xa0different\\t\\r \\xa0colour\\t\\r \\xa0lower\\t\\r \\xa0edge\\t\\r \\xa0(hem)\\t\\r \\xa0it\\t\\r \\xa0is\\t\\r \\xa0now\\t\\r \\xa0clear\\t\\r \\xa0that\\t\\r \\xa0the\\t\\r \\xa0undershorts/tights\\t\\r \\xa0can\\t\\r \\xa0be\\t\\r \\xa0the\\t\\r \\xa0colour\\t\\r \\xa0of\\t\\r \\xa0the\\t\\r \\xa0shorts\\t\\r \\xa0or\\t\\r \\xa0the\\t\\r \\xa0hem,\\t\\r \\xa0but\\t\\r \\xa0the\\t\\r \\xa0whole\\t\\r \\xa0team\\t\\r \\xa0must\\t\\r \\xa0wear\\t\\r \\xa0the\\t\\r \\xa0same\\t\\r \\xa0colour.\\t\\r \\xa0\\t\\r \\xa0This\\t\\r \\xa0does\\t\\r \\xa0NOT\\t\\r \\xa0apply\\t\\r \\xa0to\\t\\r \\xa0shirts\\t\\r \\xa0-\\xad‐\\t\\r \\xa0the\\t\\r \\xa0colour\\t\\r \\xa0of\\t\\r \\xa0the\\t\\r \\xa0undershirts\\t\\r \\xa0must\\t\\r \\xa0be\\t\\r \\xa0the\\t\\r \\xa0same\\t\\r \\xa0colour\\t\\r \\xa0as\\t\\r \\xa0the\\t\\r \\xa0main\\t\\r \\xa0colour\\t\\r \\xa0of\\t\\r \\xa0the\\t\\r \\xa0sleeve\\t\\r \\xa0as\\t\\r \\xa0this\\t\\r \\xa0is\\t\\r \\xa0important\\t\\r \\xa0for\\t\\r \\xa0detecting\\t\\r \\xa0offences\\t\\r \\xa0such\\t\\r \\xa0as\\t\\r \\xa0handball.\\t\\r \\xa0\\t\\r \\xa0Q4:\\t\\r \\xa0Why\\t\\r \\xa0can\\t\\r \\xa0a\\t\\r \\xa0player\\t\\r \\xa0return\\t\\r \\xa0during\\t\\r \\xa0play\\t\\r \\xa0after\\t\\r \\xa0changing\\t\\r \\xa0equipment?\\t\\r \\xa0It\\t\\r \\xa0was\\t\\r \\xa0widely\\t\\r \\xa0regarded\\t\\r \\xa0as\\t\\r \\xa0unfair\\t\\r \\xa0that\\t\\r \\xa0a\\t\\r \\xa0player\\t\\r \\xa0who\\t\\r \\xa0has\\t\\r \\xa0gone\\t\\r \\xa0off\\t\\r \\xa0the\\t\\r \\xa0field\\t\\r \\xa0of\\t\\r \\xa0play\\t\\r \\xa0to\\t\\r \\xa0change\\t\\r \\xa0boots,\\t\\r \\xa0shorts,\\t\\r \\xa0shirt\\t\\r \\xa0etc...\\t\\r \\xa0and\\t\\r \\xa0has\\t\\r \\xa0been\\t\\r \\xa0checked\\t\\r \\xa0by\\t\\r \\xa0one\\t\\r \\xa0of\\t\\r \\xa0the\\t\\r \\xa0match\\t\\r \\xa0officials\\t\\r \\xa0has\\t\\r \\xa0to\\t\\r \\xa0wait\\t\\r \\xa0for\\t\\r \\xa0play\\t\\r \\xa0to\\t\\r \\xa0stop\\t\\r \\xa0before'),\n",
       " Document(metadata={'producer': 'Mac OS X 10.10.5 Quartz PDFContext', 'creator': 'Word', 'creationdate': '2016-06-27T12:13:07+00:00', 'aapl:keywords': '[]', 'keywords': '', 'moddate': '2017-03-21T14:43:23-04:00', 'title': 'Microsoft Word - IFAB_LoG_FAQ_v4.0 (clean).docx', 'source': '../documents/FIFA MEMO QA.pdf', 'total_pages': 12, 'page': 1, 'page_label': '2', 'id': '../documents/FIFA MEMO QA.pdf:1:4'}, page_content='y\\t\\r \\xa0to\\t\\r \\xa0change\\t\\r \\xa0boots,\\t\\r \\xa0shorts,\\t\\r \\xa0shirt\\t\\r \\xa0etc...\\t\\r \\xa0and\\t\\r \\xa0has\\t\\r \\xa0been\\t\\r \\xa0checked\\t\\r \\xa0by\\t\\r \\xa0one\\t\\r \\xa0of\\t\\r \\xa0the\\t\\r \\xa0match\\t\\r \\xa0officials\\t\\r \\xa0has\\t\\r \\xa0to\\t\\r \\xa0wait\\t\\r \\xa0for\\t\\r \\xa0play\\t\\r \\xa0to\\t\\r \\xa0stop\\t\\r \\xa0before\\t\\r \\xa0being\\t\\r \\xa0allowed\\t\\r \\xa0to\\t\\r \\xa0return\\t\\r \\xa0to\\t\\r \\xa0the\\t\\r \\xa0field;\\t\\r \\xa0this\\t\\r \\xa0does\\t\\r \\xa0not\\t\\r \\xa0happen\\t\\r \\xa0for'),\n",
       " Document(metadata={'producer': 'Mac OS X 10.10.5 Quartz PDFContext', 'creator': 'Word', 'creationdate': '2016-06-27T12:13:07+00:00', 'aapl:keywords': '[]', 'keywords': '', 'moddate': '2017-03-21T14:43:23-04:00', 'title': 'Microsoft Word - IFAB_LoG_FAQ_v4.0 (clean).docx', 'source': '../documents/FIFA MEMO QA.pdf', 'total_pages': 12, 'page': 2, 'page_label': '3', 'id': '../documents/FIFA MEMO QA.pdf:2:0'}, page_content='3/12'),\n",
       " Document(metadata={'producer': 'Mac OS X 10.10.5 Quartz PDFContext', 'creator': 'Word', 'creationdate': '2016-06-27T12:13:07+00:00', 'aapl:keywords': '[]', 'keywords': '', 'moddate': '2017-03-21T14:43:23-04:00', 'title': 'Microsoft Word - IFAB_LoG_FAQ_v4.0 (clean).docx', 'source': '../documents/FIFA MEMO QA.pdf', 'total_pages': 12, 'page': 2, 'page_label': '3', 'id': '../documents/FIFA MEMO QA.pdf:2:1'}, page_content='a\\t\\r \\xa0player\\t\\r \\xa0returning\\t\\r \\xa0after\\t\\r \\xa0an\\t\\r \\xa0injury.\\t\\r \\xa0Allowing\\t\\r \\xa0the\\t\\r \\xa0player\\t\\r \\xa0to\\t\\r \\xa0return\\t\\r \\xa0(after\\t\\r \\xa0the\\t\\r \\xa0check)\\t\\r \\xa0during\\t\\r \\xa0play\\t\\r \\xa0removes\\t\\r \\xa0an\\t\\r \\xa0‘unfair’\\t\\r \\xa0situation\\t\\r \\xa0which\\t\\r \\xa0is\\t\\r \\xa0often\\t\\r \\xa0a\\t\\r \\xa0source\\t\\r \\xa0of\\t\\r \\xa0conflict\\t\\r \\xa0between\\t\\r \\xa0players\\t\\r \\xa0and\\t\\r \\xa0officials;\\t\\r \\xa0however,\\t\\r \\xa0the\\t\\r \\xa0player\\t\\r \\xa0must\\t\\r \\xa0wait\\t\\r \\xa0for\\t\\r \\xa0a\\t\\r \\xa0signal\\t\\r \\xa0to\\t\\r \\xa0re-\\xad‐enter\\t\\r \\xa0from\\t\\r \\xa0the\\t\\r \\xa0referee.\\t\\r \\xa0\\t\\r \\xa005\\t\\r \\xa0The\\t\\r \\xa0Referee\\t\\r \\xa0Q1:\\t\\r \\xa0Why\\t\\r \\xa0has\\t\\r \\xa0reference\\t\\r \\xa0to\\t\\r \\xa0‘left\\t\\r \\xa0the\\t\\r \\xa0field\\t\\r \\xa0of\\t\\r \\xa0play\\t\\r \\xa0at\\t\\r \\xa0the\\t\\r \\xa0end\\t\\r \\xa0of\\t\\r \\xa0the\\t\\r \\xa0half’\\t\\r \\xa0been\\t\\r \\xa0added\\t\\r \\xa0to\\t\\r \\xa0when\\t\\r \\xa0a\\t\\r \\xa0referee\\t\\r \\xa0can\\t\\r \\xa0no\\t\\r \\xa0longer\\t\\r \\xa0change\\t\\r \\xa0a\\t\\r \\xa0decision?\\t\\r \\xa0This\\t\\r \\xa0is\\t\\r \\xa0because\\t\\r \\xa0there\\t\\r \\xa0have\\t\\r \\xa0been\\t\\r \\xa0examples\\t\\r \\xa0of\\t\\r \\xa0referees\\t\\r \\xa0during\\t\\r \\xa0half-\\xad‐time\\t\\r \\xa0wrongly\\t\\r \\xa0changing\\t\\r \\xa0a\\t\\r \\xa0decision\\t\\r \\xa0made\\t\\r \\xa0just\\t\\r \\xa0before\\t\\r \\xa0the\\t\\r \\xa0whistle\\t\\r \\xa0to\\t\\r \\xa0end\\t\\r \\xa0the\\t\\r \\xa0half\\t\\r \\xa0(because\\t\\r \\xa0it\\t\\r \\xa0was\\t\\r \\xa0claimed\\t\\r \\xa0that\\t\\r \\xa0play\\t\\r \\xa0had\\t\\r \\xa0not\\t\\r \\xa0restarted).\\t\\r \\xa0\\t\\r \\xa0Q2:\\t\\r \\xa0Why\\t\\r \\xa0can\\t\\r \\xa0a\\t\\r \\xa0referee\\t\\r \\xa0now\\t\\r \\xa0send\\t\\r \\xa0a\\t\\r \\xa0player\\t\\r \\xa0off\\t\\r \\xa0before\\t\\r \\xa0the\\t\\r \\xa0kick-\\xad‐off?\\t\\r \\xa0This\\t\\r \\xa0brings\\t\\r \\xa0the\\t\\r \\xa0Law\\t\\r \\xa0up\\t\\r \\xa0to\\t\\r \\xa0date\\t\\r \\xa0by\\t\\r \\xa0giving\\t\\r \\xa0the\\t\\r \\xa0referee\\t\\r \\xa0the\\t\\r \\xa0authority\\t\\r \\xa0to\\t\\r \\xa0send\\t\\r \\xa0a\\t\\r \\xa0player\\t\\r \\xa0off\\t\\r \\xa0before\\t\\r \\xa0the\\t\\r \\xa0match\\t\\r \\xa0for\\t\\r \\xa0serious\\t\\r \\xa0misconduct\\t\\r \\xa0such\\t\\r \\xa0as\\t\\r \\xa0that\\t\\r \\xa0committed\\t\\r \\xa0in\\t\\r \\xa0the\\t\\r \\xa0pre-\\xad‐match\\t\\r \\xa0warm\\t\\r \\xa0up\\t\\r \\xa0on\\t\\r \\xa0the\\t\\r \\xa0field\\t\\r \\xa0of\\t\\r \\xa0play\\t\\r \\xa0or\\t\\r \\xa0lining\\t\\r \\xa0up\\t\\r \\xa0in\\t\\r \\xa0the\\t\\r \\xa0tunnel\\t\\r \\xa0pre-\\xad‐match,\\t\\r \\xa0instead\\t\\r \\xa0of\\t\\r \\xa0only\\t\\r \\xa0reporting\\t\\r \\xa0the\\t\\r \\xa0misconduct.\\t\\r \\xa0\\t\\r \\xa0For'),\n",
       " Document(metadata={'producer': 'Mac OS X 10.10.5 Quartz PDFContext', 'creator': 'Word', 'creationdate': '2016-06-27T12:13:07+00:00', 'aapl:keywords': '[]', 'keywords': '', 'moddate': '2017-03-21T14:43:23-04:00', 'title': 'Microsoft Word - IFAB_LoG_FAQ_v4.0 (clean).docx', 'source': '../documents/FIFA MEMO QA.pdf', 'total_pages': 12, 'page': 2, 'page_label': '3', 'id': '../documents/FIFA MEMO QA.pdf:2:2'}, page_content='pre-\\xad‐match\\t\\r \\xa0warm\\t\\r \\xa0up\\t\\r \\xa0on\\t\\r \\xa0the\\t\\r \\xa0field\\t\\r \\xa0of\\t\\r \\xa0play\\t\\r \\xa0or\\t\\r \\xa0lining\\t\\r \\xa0up\\t\\r \\xa0in\\t\\r \\xa0the\\t\\r \\xa0tunnel\\t\\r \\xa0pre-\\xad‐match,\\t\\r \\xa0instead\\t\\r \\xa0of\\t\\r \\xa0only\\t\\r \\xa0reporting\\t\\r \\xa0the\\t\\r \\xa0misconduct.\\t\\r \\xa0\\t\\r \\xa0For\\t\\r \\xa0example,\\t\\r \\xa0if\\t\\r \\xa0two\\t\\r \\xa0players\\t\\r \\xa0had\\t\\r \\xa0a\\t\\r \\xa0fight\\t\\r \\xa0pre-\\xad‐match\\t\\r \\xa0would\\t\\r \\xa0be\\t\\r \\xa0bad\\t\\r \\xa0for\\t\\r \\xa0the\\t\\r \\xa0image\\t\\r \\xa0of\\t\\r \\xa0the\\t\\r \\xa0game\\t\\r \\xa0and\\t\\r \\xa0would\\t\\r \\xa0be\\t\\r \\xa0a\\t\\r \\xa0threat\\t\\r \\xa0to\\t\\r \\xa0behaviour\\t\\r \\xa0on\\t\\r \\xa0the\\t\\r \\xa0field\\t\\r \\xa0if\\t\\r \\xa0they\\t\\r \\xa0were\\t\\r \\xa0allowed\\t\\r \\xa0to\\t\\r \\xa0play\\t\\r \\xa0in\\t\\r \\xa0the\\t\\r \\xa0match.\\t\\r \\xa0\\t\\r \\xa0Q3:\\t\\r \\xa0Why\\t\\r \\xa0can\\t\\r \\xa0a\\t\\r \\xa0referee\\t\\r \\xa0send\\t\\r \\xa0off\\t\\r \\xa0(RC)\\t\\r \\xa0but\\t\\r \\xa0not\\t\\r \\xa0caution\\t\\r \\xa0(YC)\\t\\r \\xa0a\\t\\r \\xa0player\\t\\r \\xa0before\\t\\r \\xa0kick-\\xad‐off?\\t\\r \\xa0\\t\\r \\xa0Red\\t\\r \\xa0card\\t\\r \\xa0offences\\t\\r \\xa0are\\t\\r \\xa0serious\\t\\r \\xa0and\\t\\r \\xa0players\\t\\r \\xa0who\\t\\r \\xa0commit\\t\\r \\xa0such\\t\\r \\xa0offences\\t\\r \\xa0should\\t\\r \\xa0not\\t\\r \\xa0play\\t\\r \\xa0in\\t\\r \\xa0the\\t\\r \\xa0match\\t\\r \\xa0but\\t\\r \\xa0it\\t\\r \\xa0would\\t\\r \\xa0become\\t\\r \\xa0complicated\\t\\r \\xa0if\\t\\r \\xa0a\\t\\r \\xa0caution\\t\\r \\xa0(YC)\\t\\r \\xa0could\\t\\r \\xa0be\\t\\r \\xa0given\\t\\r \\xa0pre-\\xad‐match\\t\\r \\xa0as\\t\\r \\xa0people\\t\\r \\xa0would\\t\\r \\xa0not\\t\\r \\xa0know\\t\\r \\xa0that\\t\\r \\xa0a\\t\\r \\xa0player\\t\\r \\xa0has\\t\\r \\xa0a\\t\\r \\xa0caution\\t\\r \\xa0(YC)\\t\\r \\xa0when\\t\\r \\xa0the\\t\\r \\xa0match\\t\\r \\xa0starts.\\t\\r \\xa0It\\t\\r \\xa0is\\t\\r \\xa0better\\t\\r \\xa0that\\t\\r \\xa0these\\t\\r \\xa0offences\\t\\r \\xa0are\\t\\r \\xa0reported.\\t\\r \\xa0\\t\\r \\xa0Q4:\\t\\r \\xa0The\\t\\r \\xa0Law\\t\\r \\xa0was\\t\\r \\xa0changed\\t\\r \\xa0many\\t\\r \\xa0years\\t\\r \\xa0ago\\t\\r \\xa0to\\t\\r \\xa0ban\\t\\r \\xa0treatment\\t\\r \\xa0on\\t\\r \\xa0the\\t\\r \\xa0field\\t\\r \\xa0to\\t\\r \\xa0stop\\t\\r \\xa0players\\t\\r \\xa0behaving\\t\\r \\xa0unfairly\\t\\r \\xa0by\\t\\r \\xa0pretending\\t\\r \\xa0to\\t\\r \\xa0be\\t\\r \\xa0injured\\t\\r \\xa0to\\t\\r \\xa0break\\t\\r \\xa0the\\t\\r \\xa0flow\\t\\r \\xa0of\\t\\r \\xa0the\\t\\r \\xa0game,\\t\\r \\xa0waste\\t\\r \\xa0time\\t\\r \\xa0etc…\\t\\r \\xa0Why\\t\\r \\xa0has\\t\\r \\xa0this\\t\\r \\xa0now\\t\\r \\xa0changed?\\t\\r \\xa0The\\t\\r \\xa0IFAB\\t\\r \\xa0does\\t\\r \\xa0not\\t\\r \\xa0want\\t\\r \\xa0to\\t\\r \\xa0return\\t\\r \\xa0to\\t\\r \\xa0former\\t\\r \\xa0times\\t\\r \\xa0when'),\n",
       " Document(metadata={'producer': 'Mac OS X 10.10.5 Quartz PDFContext', 'creator': 'Word', 'creationdate': '2016-06-27T12:13:07+00:00', 'aapl:keywords': '[]', 'keywords': '', 'moddate': '2017-03-21T14:43:23-04:00', 'title': 'Microsoft Word - IFAB_LoG_FAQ_v4.0 (clean).docx', 'source': '../documents/FIFA MEMO QA.pdf', 'total_pages': 12, 'page': 2, 'page_label': '3', 'id': '../documents/FIFA MEMO QA.pdf:2:3'}, page_content='break\\t\\r \\xa0the\\t\\r \\xa0flow\\t\\r \\xa0of\\t\\r \\xa0the\\t\\r \\xa0game,\\t\\r \\xa0waste\\t\\r \\xa0time\\t\\r \\xa0etc…\\t\\r \\xa0Why\\t\\r \\xa0has\\t\\r \\xa0this\\t\\r \\xa0now\\t\\r \\xa0changed?\\t\\r \\xa0The\\t\\r \\xa0IFAB\\t\\r \\xa0does\\t\\r \\xa0not\\t\\r \\xa0want\\t\\r \\xa0to\\t\\r \\xa0return\\t\\r \\xa0to\\t\\r \\xa0former\\t\\r \\xa0times\\t\\r \\xa0when\\t\\r \\xa0such\\t\\r \\xa0behaviour\\t\\r \\xa0occurred\\t\\r \\xa0but\\t\\r \\xa0it\\t\\r \\xa0is\\t\\r \\xa0also\\t\\r \\xa0unfair\\t\\r \\xa0that\\t\\r \\xa0when\\t\\r \\xa0a\\t\\r \\xa0player\\t\\r \\xa0is\\t\\r \\xa0injured\\t\\r \\xa0as\\t\\r \\xa0a\\t\\r \\xa0result\\t\\r \\xa0of\\t\\r \\xa0a\\t\\r \\xa0challenge\\t\\r \\xa0punished\\t\\r \\xa0by\\t\\r \\xa0a\\t\\r \\xa0caution\\t\\r \\xa0(YC)\\t\\r \\xa0/sending-\\xad‐off\\t\\r \\xa0(RC)\\t\\r \\xa0and\\t\\r \\xa0the\\t\\r \\xa0injured\\t\\r \\xa0player\\t\\r \\xa0has\\t\\r \\xa0to\\t\\r \\xa0leave\\t\\r \\xa0the\\t\\r \\xa0field\\t\\r \\xa0of\\t\\r \\xa0play,\\t\\r \\xa0the\\t\\r \\xa0offending\\t\\r \\xa0team\\t\\r \\xa0benefits\\t\\r \\xa0from\\t\\r \\xa0having\\t\\r \\xa0a\\t\\r \\xa0numerical\\t\\r \\xa0advantage.\\t\\r \\xa0This\\t\\r \\xa0change\\t\\r \\xa0is\\t\\r \\xa0an\\t\\r \\xa0attempt\\t\\r \\xa0to\\t\\r \\xa0achieve\\t\\r \\xa0a\\t\\r \\xa0‘fair\\t\\r \\xa0play’\\t\\r \\xa0balance\\t\\r \\xa0but\\t\\r \\xa0the\\t\\r \\xa0treatment/assessment\\t\\r \\xa0must\\t\\r \\xa0be\\t\\r \\xa0quick\\t\\r \\xa0otherwise\\t\\r \\xa0the\\t\\r \\xa0player\\t\\r \\xa0will\\t\\r \\xa0have\\t\\r \\xa0still\\t\\r \\xa0to\\t\\r \\xa0go\\t\\r \\xa0off.\\t\\r \\xa0\\t\\r \\xa0Q5:\\t\\r \\xa0Why\\t\\r \\xa0do\\t\\r \\xa0the\\t\\r \\xa0Laws\\t\\r \\xa0refer\\t\\r \\xa0to\\t\\r \\xa0‘spirit\\t\\r \\xa0of\\t\\r \\xa0the\\t\\r \\xa0game’?\\t\\r \\xa0Referees\\t\\r \\xa0should\\t\\r \\xa0apply\\t\\r \\xa0the\\t\\r \\xa0Laws\\t\\r \\xa0of\\t\\r \\xa0the\\t\\r \\xa0Game\\t\\r \\xa0correctly\\t\\r \\xa0but\\t\\r \\xa0with\\t\\r \\xa0sensitivity\\t\\r \\xa0and\\t\\r \\xa0common\\t\\r \\xa0sense\\t\\r \\xa0to\\t\\r \\xa0create\\t\\r \\xa0a\\t\\r \\xa0positive\\t\\r \\xa0atmosphere\\t\\r \\xa0on\\t\\r \\xa0the\\t\\r \\xa0field\\t\\r \\xa0of\\t\\r \\xa0play.\\t\\r \\xa0It\\t\\r \\xa0is\\t\\r \\xa0very\\t\\r \\xa0important\\t\\r \\xa0that\\t\\r \\xa0referees\\t\\r \\xa0officiate\\t\\r \\xa0in\\t\\r \\xa0a\\t\\r \\xa0way\\t\\r \\xa0which\\t\\r \\xa0benefits\\t\\r \\xa0the\\t\\r \\xa0game\\t\\r \\xa0and\\t\\r \\xa0is\\t\\r \\xa0in\\t\\r \\xa0‘sympathy’\\t\\r \\xa0with\\t\\r \\xa0the\\t\\r \\xa0emotions\\t\\r \\xa0and\\t\\r \\xa0requirements\\t\\r \\xa0of\\t\\r \\xa0each\\t\\r \\xa0match,\\t\\r \\xa0no\\t\\r \\xa0matter\\t\\r \\xa0what\\t\\r \\xa0the\\t\\r \\xa0level.\\t\\r \\xa0At\\t\\r \\xa0the\\t\\r \\xa0lowest\\t\\r \\xa0levels\\t\\r \\xa0of\\t\\r \\xa0football,\\t\\r \\xa0the\\t\\r \\xa0referees\\t\\r \\xa0must\\t\\r \\xa0use'),\n",
       " Document(metadata={'producer': 'Mac OS X 10.10.5 Quartz PDFContext', 'creator': 'Word', 'creationdate': '2016-06-27T12:13:07+00:00', 'aapl:keywords': '[]', 'keywords': '', 'moddate': '2017-03-21T14:43:23-04:00', 'title': 'Microsoft Word - IFAB_LoG_FAQ_v4.0 (clean).docx', 'source': '../documents/FIFA MEMO QA.pdf', 'total_pages': 12, 'page': 2, 'page_label': '3', 'id': '../documents/FIFA MEMO QA.pdf:2:4'}, page_content='with\\t\\r \\xa0the\\t\\r \\xa0emotions\\t\\r \\xa0and\\t\\r \\xa0requirements\\t\\r \\xa0of\\t\\r \\xa0each\\t\\r \\xa0match,\\t\\r \\xa0no\\t\\r \\xa0matter\\t\\r \\xa0what\\t\\r \\xa0the\\t\\r \\xa0level.\\t\\r \\xa0At\\t\\r \\xa0the\\t\\r \\xa0lowest\\t\\r \\xa0levels\\t\\r \\xa0of\\t\\r \\xa0football,\\t\\r \\xa0the\\t\\r \\xa0referees\\t\\r \\xa0must\\t\\r \\xa0use\\t\\r \\xa0‘common\\t\\r \\xa0sense’\\t\\r \\xa0when\\t\\r \\xa0deciding\\t\\r \\xa0if\\t\\r \\xa0a\\t\\r \\xa0match\\t\\r \\xa0goes\\t\\r \\xa0ahead\\t\\r \\xa0if\\t\\r \\xa0there\\t\\r \\xa0is\\t\\r \\xa0a\\t\\r \\xa0(minor)\\t\\r \\xa0problem\\t\\r \\xa0with\\t\\r \\xa0the\\t\\r \\xa0field\\t\\r \\xa0of\\t\\r \\xa0play\\t\\r \\xa0or\\t\\r \\xa0the\\t\\r \\xa0equipment.\\t\\r \\xa0The\\t\\r \\xa0IFAB\\t\\r \\xa0believes'),\n",
       " Document(metadata={'producer': 'Mac OS X 10.10.5 Quartz PDFContext', 'creator': 'Word', 'creationdate': '2016-06-27T12:13:07+00:00', 'aapl:keywords': '[]', 'keywords': '', 'moddate': '2017-03-21T14:43:23-04:00', 'title': 'Microsoft Word - IFAB_LoG_FAQ_v4.0 (clean).docx', 'source': '../documents/FIFA MEMO QA.pdf', 'total_pages': 12, 'page': 3, 'page_label': '4', 'id': '../documents/FIFA MEMO QA.pdf:3:0'}, page_content='4/12'),\n",
       " Document(metadata={'producer': 'Mac OS X 10.10.5 Quartz PDFContext', 'creator': 'Word', 'creationdate': '2016-06-27T12:13:07+00:00', 'aapl:keywords': '[]', 'keywords': '', 'moddate': '2017-03-21T14:43:23-04:00', 'title': 'Microsoft Word - IFAB_LoG_FAQ_v4.0 (clean).docx', 'source': '../documents/FIFA MEMO QA.pdf', 'total_pages': 12, 'page': 3, 'page_label': '4', 'id': '../documents/FIFA MEMO QA.pdf:3:1'}, page_content='that\\t\\r \\xa0the\\t\\r \\xa0referee\\t\\r \\xa0should\\t\\r \\xa0try\\t\\r \\xa0to\\t\\r \\xa0play\\t\\r \\xa0a\\t\\r \\xa0match\\t\\r \\xa0unless\\t\\r \\xa0there\\t\\r \\xa0is\\t\\r \\xa0a\\t\\r \\xa0risk\\t\\r \\xa0or\\t\\r \\xa0danger\\t\\r \\xa0to\\t\\r \\xa0the\\t\\r \\xa0participants.\\t\\r \\xa0\\t\\r \\xa0Q6:\\t\\r \\xa0Why\\t\\r \\xa0was\\t\\r \\xa0the\\t\\r \\xa0Law\\t\\r \\xa0relating\\t\\r \\xa0to\\t\\r \\xa0several\\t\\r \\xa0offences\\t\\r \\xa0occurring\\t\\r \\xa0at\\t\\r \\xa0the\\t\\r \\xa0same\\t\\r \\xa0time\\t\\r \\xa0changed?\\t\\r \\xa0The\\t\\r \\xa0‘old’\\t\\r \\xa0Law\\t\\r \\xa0said\\t\\r \\xa0that\\t\\r \\xa0if\\t\\r \\xa0several\\t\\r \\xa0players\\t\\r \\xa0commit\\t\\r \\xa0an\\t\\r \\xa0offence\\t\\r \\xa0at\\t\\r \\xa0the\\t\\r \\xa0same\\t\\r \\xa0time\\t\\r \\xa0the\\t\\r \\xa0restart\\t\\r \\xa0is\\t\\r \\xa0a\\t\\r \\xa0dropped\\t\\r \\xa0ball.\\t\\r \\xa0However,\\t\\r \\xa0football\\t\\r \\xa0would\\t\\r \\xa0find\\t\\r \\xa0it\\t\\r \\xa0very\\t\\r \\xa0strange\\t\\r \\xa0if,\\t\\r \\xa0as\\t\\r \\xa0a\\t\\r \\xa0player\\t\\r \\xa0handles\\t\\r \\xa0the\\t\\r \\xa0ball,\\t\\r \\xa0the\\t\\r \\xa0opponent\\t\\r \\xa0commits\\t\\r \\xa0a\\t\\r \\xa0serious\\t\\r \\xa0foul\\t\\r \\xa0and,\\t\\r \\xa0after\\t\\r \\xa0the\\t\\r \\xa0referee\\t\\r \\xa0has\\t\\r \\xa0sent\\t\\r \\xa0off\\t\\r \\xa0the\\t\\r \\xa0offending\\t\\r \\xa0player,\\t\\r \\xa0play\\t\\r \\xa0restarts\\t\\r \\xa0with\\t\\r \\xa0a\\t\\r \\xa0dropped\\t\\r \\xa0ball.\\t\\r \\xa0\\t\\r \\xa0Football\\t\\r \\xa0would\\t\\r \\xa0expect,\\t\\r \\xa0and\\t\\r \\xa0it\\t\\r \\xa0is\\t\\r \\xa0common-\\xad‐sense,\\t\\r \\xa0that\\t\\r \\xa0when\\t\\r \\xa0several\\t\\r \\xa0offences\\t\\r \\xa0occur\\t\\r \\xa0at\\t\\r \\xa0the\\t\\r \\xa0same\\t\\r \\xa0time,\\t\\r \\xa0the\\t\\r \\xa0most\\t\\r \\xa0serious\\t\\r \\xa0is\\t\\r \\xa0penalised.\\t\\r \\xa0Deciding\\t\\r \\xa0which\\t\\r \\xa0offence\\t\\r \\xa0is\\t\\r \\xa0the\\t\\r \\xa0most\\t\\r \\xa0serious\\t\\r \\xa0will\\t\\r \\xa0depend\\t\\r \\xa0on:\\t\\r \\xa0• Disciplinary\\t\\r \\xa0sanction\\t\\r \\xa0–\\t\\r \\xa0e.g.\\t\\r \\xa0sending-\\xad‐off\\t\\r \\xa0offence\\t\\r \\xa0(RC)\\t\\r \\xa0is\\t\\r \\xa0more\\t\\r \\xa0serious\\t\\r \\xa0than\\t\\r \\xa0a\\t\\r \\xa0cautionable\\t\\r \\xa0(YC)\\t\\r \\xa0offence\\t\\r \\xa0• Restart\\t\\r \\xa0–\\t\\r \\xa0a\\t\\r \\xa0direct\\t\\r \\xa0free\\t\\r \\xa0kick\\t\\r \\xa0offence\\t\\r \\xa0is\\t\\r \\xa0more\\t\\r \\xa0serious\\t\\r \\xa0than\\t\\r \\xa0an\\t\\r \\xa0indirect\\t\\r \\xa0free\\t\\r \\xa0kick\\t\\r \\xa0offence\\t\\r \\xa0• Nature\\t\\r \\xa0of\\t\\r \\xa0the\\t\\r \\xa0foul\\t\\r \\xa0–\\t\\r \\xa0a\\t\\r \\xa0foul\\t\\r \\xa0tackle\\t\\r \\xa0is\\t\\r \\xa0more\\t\\r \\xa0serious\\t\\r \\xa0than\\t\\r \\xa0handball\\t\\r \\xa0or\\t\\r \\xa0shirt\\t\\r \\xa0pulling\\t\\r \\xa0• Tactical'),\n",
       " Document(metadata={'producer': 'Mac OS X 10.10.5 Quartz PDFContext', 'creator': 'Word', 'creationdate': '2016-06-27T12:13:07+00:00', 'aapl:keywords': '[]', 'keywords': '', 'moddate': '2017-03-21T14:43:23-04:00', 'title': 'Microsoft Word - IFAB_LoG_FAQ_v4.0 (clean).docx', 'source': '../documents/FIFA MEMO QA.pdf', 'total_pages': 12, 'page': 3, 'page_label': '4', 'id': '../documents/FIFA MEMO QA.pdf:3:2'}, page_content='than\\t\\r \\xa0an\\t\\r \\xa0indirect\\t\\r \\xa0free\\t\\r \\xa0kick\\t\\r \\xa0offence\\t\\r \\xa0• Nature\\t\\r \\xa0of\\t\\r \\xa0the\\t\\r \\xa0foul\\t\\r \\xa0–\\t\\r \\xa0a\\t\\r \\xa0foul\\t\\r \\xa0tackle\\t\\r \\xa0is\\t\\r \\xa0more\\t\\r \\xa0serious\\t\\r \\xa0than\\t\\r \\xa0handball\\t\\r \\xa0or\\t\\r \\xa0shirt\\t\\r \\xa0pulling\\t\\r \\xa0• Tactical\\t\\r \\xa0impact\\t\\r \\xa0–\\t\\r \\xa0an\\t\\r \\xa0offence\\t\\r \\xa0which\\t\\r \\xa0stops\\t\\r \\xa0an\\t\\r \\xa0opponent’s\\t\\r \\xa0attack\\t\\r \\xa0is\\t\\r \\xa0more\\t\\r \\xa0important\\t\\r \\xa0than\\t\\r \\xa0one\\t\\r \\xa0which\\t\\r \\xa0ends\\t\\r \\xa0a\\t\\r \\xa0player’s\\t\\r \\xa0own\\t\\r \\xa0team\\t\\r \\xa0attack\\t\\r \\xa0\\t\\r \\xa0\\t\\r \\xa0Q7:\\t\\r \\xa0Why\\t\\r \\xa0has\\t\\r \\xa0the\\t\\r \\xa0referee’s\\t\\r \\xa0equipment\\t\\r \\xa0been\\t\\r \\xa0listed?\\t\\r \\xa0This\\t\\r \\xa0is\\t\\r \\xa0to\\t\\r \\xa0make\\t\\r \\xa0it\\t\\r \\xa0clear\\t\\r \\xa0what\\t\\r \\xa0equipment\\t\\r \\xa0a\\t\\r \\xa0referee\\t\\r \\xa0must\\t\\r \\xa0use\\t\\r \\xa0and\\t\\r \\xa0what\\t\\r \\xa0equipment\\t\\r \\xa0the\\t\\r \\xa0national\\t\\r \\xa0FA\\t\\r \\xa0may\\t\\r \\xa0allow\\t\\r \\xa0the\\t\\r \\xa0referee\\t\\r \\xa0to\\t\\r \\xa0use.\\t\\r \\xa0It\\t\\r \\xa0is\\t\\r \\xa0also\\t\\r \\xa0important\\t\\r \\xa0to\\t\\r \\xa0make\\t\\r \\xa0it\\t\\r \\xa0clear\\t\\r \\xa0that\\t\\r \\xa0any\\t\\r \\xa0electronic\\t\\r \\xa0equipment\\t\\r \\xa0not\\t\\r \\xa0mentioned\\t\\r \\xa0in\\t\\r \\xa0Law\\t\\r \\xa05\\t\\r \\xa0can\\t\\r \\xa0NOT\\t\\r \\xa0be\\t\\r \\xa0used\\t\\r \\xa0e.g.\\t\\r \\xa0cameras\\t\\r \\xa0and\\t\\r \\xa0microphones\\t\\r \\xa0(except\\t\\r \\xa0the\\t\\r \\xa0referee\\t\\r \\xa0team’s\\t\\r \\xa0communication\\t\\r \\xa0system).\\t\\r \\xa0\\t\\r \\xa0Q8:\\t\\r \\xa0Why\\t\\r \\xa0has\\t\\r \\xa0another\\t\\r \\xa0advantage\\t\\r \\xa0signal\\t\\r \\xa0been\\t\\r \\xa0added?\\t\\r \\xa0Many\\t\\r \\xa0referees\\t\\r \\xa0have\\t\\r \\xa0said\\t\\r \\xa0that\\t\\r \\xa0it\\t\\r \\xa0is\\t\\r \\xa0not\\t\\r \\xa0easy\\t\\r \\xa0to\\t\\r \\xa0run\\t\\r \\xa0with\\t\\r \\xa0both\\t\\r \\xa0arms\\t\\r \\xa0extended\\t\\r \\xa0-\\xad‐\\t\\r \\xa0this\\t\\r \\xa0has\\t\\r \\xa0been\\t\\r \\xa0confirmed\\t\\r \\xa0by\\t\\r \\xa0athletics\\t\\r \\xa0coaches\\t\\r \\xa0-\\xad‐\\t\\r \\xa0so\\t\\r \\xa0referees\\t\\r \\xa0now\\t\\r \\xa0have\\t\\r \\xa0the\\t\\r \\xa0option\\t\\r \\xa0to\\t\\r \\xa0show\\t\\r \\xa0advantage\\t\\r \\xa0with\\t\\r \\xa0one\\t\\r \\xa0arm.\\t\\r \\xa0\\t\\r \\xa006\\t\\r \\xa0The\\t\\r \\xa0Other\\t\\r \\xa0Match\\t\\r \\xa0Officials\\t\\r \\xa0Q1:\\t\\r \\xa0What\\t\\r \\xa0is\\t\\r \\xa0the\\t\\r \\xa0correct\\t\\r \\xa0position\\t\\r \\xa0for\\t\\r \\xa0an\\t\\r \\xa0assistant\\t\\r \\xa0referee\\t\\r \\xa0at\\t\\r \\xa0a\\t\\r \\xa0penalty\\t\\r \\xa0kick\\t\\r \\xa0when\\t\\r \\xa0there\\t\\r \\xa0are'),\n",
       " Document(metadata={'producer': 'Mac OS X 10.10.5 Quartz PDFContext', 'creator': 'Word', 'creationdate': '2016-06-27T12:13:07+00:00', 'aapl:keywords': '[]', 'keywords': '', 'moddate': '2017-03-21T14:43:23-04:00', 'title': 'Microsoft Word - IFAB_LoG_FAQ_v4.0 (clean).docx', 'source': '../documents/FIFA MEMO QA.pdf', 'total_pages': 12, 'page': 3, 'page_label': '4', 'id': '../documents/FIFA MEMO QA.pdf:3:3'}, page_content='ne\\t\\r \\xa0arm.\\t\\r \\xa0\\t\\r \\xa006\\t\\r \\xa0The\\t\\r \\xa0Other\\t\\r \\xa0Match\\t\\r \\xa0Officials\\t\\r \\xa0Q1:\\t\\r \\xa0What\\t\\r \\xa0is\\t\\r \\xa0the\\t\\r \\xa0correct\\t\\r \\xa0position\\t\\r \\xa0for\\t\\r \\xa0an\\t\\r \\xa0assistant\\t\\r \\xa0referee\\t\\r \\xa0at\\t\\r \\xa0a\\t\\r \\xa0penalty\\t\\r \\xa0kick\\t\\r \\xa0when\\t\\r \\xa0there\\t\\r \\xa0are\\t\\r \\xa0AARs?\\t\\r \\xa0The\\t\\r \\xa0AAR\\t\\r \\xa0is\\t\\r \\xa0positioned\\t\\r \\xa0on\\t\\r \\xa0the\\t\\r \\xa0goal\\t\\r \\xa0line\\t\\r \\xa0to\\t\\r \\xa0observe\\t\\r \\xa0the\\t\\r \\xa0movement\\t\\r \\xa0of\\t\\r \\xa0the\\t\\r \\xa0goalkeeper\\t\\r \\xa0and\\t\\r \\xa0to\\t\\r \\xa0judge\\t\\r \\xa0whether\\t\\r \\xa0or\\t\\r \\xa0not\\t\\r \\xa0the\\t\\r \\xa0whole\\t\\r \\xa0of\\t\\r \\xa0the\\t\\r \\xa0ball\\t\\r \\xa0passes\\t\\r \\xa0over\\t\\r \\xa0the\\t\\r \\xa0goal\\t\\r \\xa0line,\\t\\r \\xa0so\\t\\r \\xa0the\\t\\r \\xa0AR\\t\\r \\xa0takes\\t\\r \\xa0a\\t\\r \\xa0position\\t\\r \\xa0in\\t\\r \\xa0line\\t\\r \\xa0with\\t\\r \\xa0the\\t\\r \\xa0ball\\t\\r \\xa0(on\\t\\r \\xa0the\\t\\r \\xa0penalty\\t\\r \\xa0mark)\\t\\r \\xa0as\\t\\r \\xa0this\\t\\r \\xa0is\\t\\r \\xa0the\\t\\r \\xa0offside\\t\\r \\xa0line.\\t\\r \\xa0If\\t\\r \\xa0the\\t\\r \\xa0ball\\t\\r \\xa0rebounds\\t\\r \\xa0from\\t\\r \\xa0the\\t\\r \\xa0goalkeeper\\t\\r \\xa0or\\t\\r \\xa0the\\t\\r \\xa0goalposts/crossbar,\\t\\r \\xa0the\\t\\r \\xa0AR\\t\\r \\xa0is\\t\\r \\xa0in\\t\\r \\xa0position\\t\\r \\xa0to\\t\\r \\xa0judge\\t\\r \\xa0any\\t\\r \\xa0offside\\t\\r \\xa0which\\t\\r \\xa0may\\t\\r \\xa0then\\t\\r \\xa0occur.'),\n",
       " Document(metadata={'producer': 'Mac OS X 10.10.5 Quartz PDFContext', 'creator': 'Word', 'creationdate': '2016-06-27T12:13:07+00:00', 'aapl:keywords': '[]', 'keywords': '', 'moddate': '2017-03-21T14:43:23-04:00', 'title': 'Microsoft Word - IFAB_LoG_FAQ_v4.0 (clean).docx', 'source': '../documents/FIFA MEMO QA.pdf', 'total_pages': 12, 'page': 4, 'page_label': '5', 'id': '../documents/FIFA MEMO QA.pdf:4:0'}, page_content='5/12'),\n",
       " Document(metadata={'producer': 'Mac OS X 10.10.5 Quartz PDFContext', 'creator': 'Word', 'creationdate': '2016-06-27T12:13:07+00:00', 'aapl:keywords': '[]', 'keywords': '', 'moddate': '2017-03-21T14:43:23-04:00', 'title': 'Microsoft Word - IFAB_LoG_FAQ_v4.0 (clean).docx', 'source': '../documents/FIFA MEMO QA.pdf', 'total_pages': 12, 'page': 4, 'page_label': '5', 'id': '../documents/FIFA MEMO QA.pdf:4:1'}, page_content='07\\t\\r \\xa0The\\t\\r \\xa0Duration\\t\\r \\xa0of\\t\\r \\xa0the\\t\\r \\xa0Match\\t\\r \\xa0Q1:\\t\\r \\xa0Why\\t\\r \\xa0have\\t\\r \\xa0medical/drinks\\t\\r \\xa0breaks\\t\\r \\xa0been\\t\\r \\xa0added\\t\\r \\xa0to\\t\\r \\xa0the\\t\\r \\xa0list\\t\\r \\xa0of\\t\\r \\xa0reasons\\t\\r \\xa0for\\t\\r \\xa0allowing\\t\\r \\xa0additional\\t\\r \\xa0time\\t\\r \\xa0at\\t\\r \\xa0the\\t\\r \\xa0end\\t\\r \\xa0of\\t\\r \\xa0a\\t\\r \\xa0half?\\t\\r \\xa0\\t\\r \\xa0This\\t\\r \\xa0is\\t\\r \\xa0because\\t\\r \\xa0there\\t\\r \\xa0is\\t\\r \\xa0medical\\t\\r \\xa0evidence\\t\\r \\xa0that\\t\\r \\xa0in\\t\\r \\xa0some\\t\\r \\xa0weather\\t\\r \\xa0conditions\\t\\r \\xa0it\\t\\r \\xa0is\\t\\r \\xa0very\\t\\r \\xa0important\\t\\r \\xa0for\\t\\r \\xa0players\\t\\r \\xa0to\\t\\r \\xa0drink\\t\\r \\xa0fluids\\t\\r \\xa0regularly.\\t\\r \\xa0Reference\\t\\r \\xa0to\\t\\r \\xa0these\\t\\r \\xa0breaks\\t\\r \\xa0in\\t\\r \\xa0Law\\t\\r \\xa07\\t\\r \\xa0means\\t\\r \\xa0that\\t\\r \\xa0competitions\\t\\r \\xa0can\\t\\r \\xa0include\\t\\r \\xa0medical\\t\\r \\xa0drinks\\t\\r \\xa0breaks\\t\\r \\xa0in\\t\\r \\xa0their\\t\\r \\xa0rules.\\t\\r \\xa0\\t\\r \\xa008\\t\\r \\xa0The\\t\\r \\xa0Start\\t\\r \\xa0and\\t\\r \\xa0Restart\\t\\r \\xa0of\\t\\r \\xa0Play\\t\\r \\xa0Q1:\\t\\r \\xa0Can\\t\\r \\xa0the\\t\\r \\xa0kick-\\xad‐off\\t\\r \\xa0be\\t\\r \\xa0kicked\\t\\r \\xa0backwards?\\t\\r \\xa0YES\\t\\r \\xa0-\\xad‐\\t\\r \\xa0the\\t\\r \\xa0kick-\\xad‐off\\t\\r \\xa0can\\t\\r \\xa0now\\t\\r \\xa0be\\t\\r \\xa0kicked\\t\\r \\xa0in\\t\\r \\xa0any\\t\\r \\xa0direction\\t\\r \\xa0and\\t\\r \\xa0referees\\t\\r \\xa0are\\t\\r \\xa0now\\t\\r \\xa0expected\\t\\r \\xa0to\\t\\r \\xa0stop\\t\\r \\xa0a\\t\\r \\xa0player\\t\\r \\xa0of\\t\\r \\xa0the\\t\\r \\xa0team\\t\\r \\xa0taking\\t\\r \\xa0the\\t\\r \\xa0kick-\\xad‐off\\t\\r \\xa0standing\\t\\r \\xa0in\\t\\r \\xa0the\\t\\r \\xa0opponents’\\t\\r \\xa0half\\t\\r \\xa0as\\t\\r \\xa0this\\t\\r \\xa0is\\t\\r \\xa0now\\t\\r \\xa0not\\t\\r \\xa0necessary.\\t\\r \\xa0\\t\\r \\xa0Q2:\\t\\r \\xa0What\\t\\r \\xa0does\\t\\r \\xa0clearly\\t\\r \\xa0moves\\t\\r \\xa0mean?\\t\\r \\xa0There\\t\\r \\xa0is\\t\\r \\xa0a\\t\\r \\xa0growing\\t\\r \\xa0‘fair\\t\\r \\xa0play’\\t\\r \\xa0problem\\t\\r \\xa0where,\\t\\r \\xa0especially\\t\\r \\xa0at\\t\\r \\xa0a\\t\\r \\xa0corner\\t\\r \\xa0kick,\\t\\r \\xa0a\\t\\r \\xa0player\\t\\r \\xa0just\\t\\r \\xa0touches\\t\\r \\xa0the\\t\\r \\xa0ball\\t\\r \\xa0and\\t\\r \\xa0then\\t\\r \\xa0unfairly\\t\\r \\xa0pretends/acts\\t\\r \\xa0as\\t\\r \\xa0if\\t\\r \\xa0the\\t\\r \\xa0ball\\t\\r \\xa0is\\t\\r \\xa0not\\t\\r \\xa0in\\t\\r \\xa0play\\t\\r \\xa0so\\t\\r \\xa0that\\t\\r \\xa0a\\t\\r \\xa0team-\\xad‐mate\\t\\r \\xa0can\\t\\r \\xa0then\\t\\r \\xa0go\\t\\r \\xa0and\\t\\r \\xa0dribble\\t\\r \\xa0the\\t\\r \\xa0ball\\t\\r \\xa0towards\\t\\r \\xa0the\\t\\r \\xa0penalty\\t\\r \\xa0area.\\t\\r \\xa0\\t\\r \\xa0The\\t\\r \\xa0La'),\n",
       " Document(metadata={'producer': 'Mac OS X 10.10.5 Quartz PDFContext', 'creator': 'Word', 'creationdate': '2016-06-27T12:13:07+00:00', 'aapl:keywords': '[]', 'keywords': '', 'moddate': '2017-03-21T14:43:23-04:00', 'title': 'Microsoft Word - IFAB_LoG_FAQ_v4.0 (clean).docx', 'source': '../documents/FIFA MEMO QA.pdf', 'total_pages': 12, 'page': 4, 'page_label': '5', 'id': '../documents/FIFA MEMO QA.pdf:4:2'}, page_content='cts\\t\\r \\xa0as\\t\\r \\xa0if\\t\\r \\xa0the\\t\\r \\xa0ball\\t\\r \\xa0is\\t\\r \\xa0not\\t\\r \\xa0in\\t\\r \\xa0play\\t\\r \\xa0so\\t\\r \\xa0that\\t\\r \\xa0a\\t\\r \\xa0team-\\xad‐mate\\t\\r \\xa0can\\t\\r \\xa0then\\t\\r \\xa0go\\t\\r \\xa0and\\t\\r \\xa0dribble\\t\\r \\xa0the\\t\\r \\xa0ball\\t\\r \\xa0towards\\t\\r \\xa0the\\t\\r \\xa0penalty\\t\\r \\xa0area.\\t\\r \\xa0\\t\\r \\xa0The\\t\\r \\xa0Law\\t\\r \\xa0now\\t\\r \\xa0states\\t\\r \\xa0that\\t\\r \\xa0if\\t\\r \\xa0the\\t\\r \\xa0ball\\t\\r \\xa0does\\t\\r \\xa0not\\t\\r \\xa0CLEARLY\\t\\r \\xa0move\\t\\r \\xa0it\\t\\r \\xa0is\\t\\r \\xa0not\\t\\r \\xa0in\\t\\r \\xa0play;\\t\\r \\xa0if\\t\\r \\xa0it\\t\\r \\xa0does\\t\\r \\xa0CLEARLY\\t\\r \\xa0move\\t\\r \\xa0then\\t\\r \\xa0it\\t\\r \\xa0is\\t\\r \\xa0in\\t\\r \\xa0play\\t\\r \\xa0and\\t\\r \\xa0the\\t\\r \\xa0opponents\\t\\r \\xa0may\\t\\r \\xa0move\\t\\r \\xa0within\\t\\r \\xa09.15m\\t\\r \\xa0and\\t\\r \\xa0play\\t\\r \\xa0or\\t\\r \\xa0challenge\\t\\r \\xa0for\\t\\r \\xa0the\\t\\r \\xa0ball.\\t\\r \\xa0\\t\\r \\xa0Q3:\\t\\r \\xa0Why\\t\\r \\xa0are\\t\\r \\xa0referees\\t\\r \\xa0not\\t\\r \\xa0allowed\\t\\r \\xa0to\\t\\r \\xa0‘manufacture’\\t\\r \\xa0a\\t\\r \\xa0dropped\\t\\r \\xa0ball?\\t\\r \\xa0The\\t\\r \\xa0wording\\t\\r \\xa0makes\\t\\r \\xa0it\\t\\r \\xa0clear\\t\\r \\xa0that\\t\\r \\xa0the\\t\\r \\xa0referee\\t\\r \\xa0has\\t\\r \\xa0no\\t\\r \\xa0authority\\t\\r \\xa0to\\t\\r \\xa0decide\\t\\r \\xa0who\\t\\r \\xa0can\\t\\r \\xa0challenge\\t\\r \\xa0for\\t\\r \\xa0a\\t\\r \\xa0dropped\\t\\r \\xa0ball\\t\\r \\xa0and/or\\t\\r \\xa0where\\t\\r \\xa0the\\t\\r \\xa0dropped\\t\\r \\xa0ball\\t\\r \\xa0is\\t\\r \\xa0to\\t\\r \\xa0be\\t\\r \\xa0kicked.\\t\\r \\xa0If,\\t\\r \\xa0for\\t\\r \\xa0‘fair\\t\\r \\xa0play’\\t\\r \\xa0reasons,\\t\\r \\xa0the\\t\\r \\xa0players\\t\\r \\xa0agree\\t\\r \\xa0who\\t\\r \\xa0will\\t\\r \\xa0kick\\t\\r \\xa0the\\t\\r \\xa0ball\\t\\r \\xa0and\\t\\r \\xa0where\\t\\r \\xa0they\\t\\r \\xa0will\\t\\r \\xa0kick\\t\\r \\xa0it,\\t\\r \\xa0the\\t\\r \\xa0referee\\t\\r \\xa0can\\t\\r \\xa0agree\\t\\r \\xa0but\\t\\r \\xa0it\\t\\r \\xa0must\\t\\r \\xa0come\\t\\r \\xa0from\\t\\r \\xa0the\\t\\r \\xa0players\\t\\r \\xa0–\\t\\r \\xa0it\\t\\r \\xa0can\\t\\r \\xa0not\\t\\r \\xa0be\\t\\r \\xa0an\\t\\r \\xa0instruction\\t\\r \\xa0from\\t\\r \\xa0the\\t\\r \\xa0referee\\t\\r \\xa0as\\t\\r \\xa0\\t\\r \\xa0a\\t\\r \\xa0dropped\\t\\r \\xa0ball\\t\\r \\xa0is\\t\\r \\xa0a\\t\\r \\xa0‘neutral’\\t\\r \\xa0restart\\t\\r \\xa0which\\t\\r \\xa0is\\t\\r \\xa0supposed\\t\\r \\xa0to\\t\\r \\xa0be\\t\\r \\xa0‘fair’\\t\\r \\xa0for\\t\\r \\xa0both\\t\\r \\xa0teams.\\t\\r \\xa0\\t\\r \\xa009\\t\\r \\xa0The\\t\\r \\xa0Ball\\t\\r \\xa0In\\t\\r \\xa0and\\t\\r \\xa0Out\\t\\r \\xa0of\\t\\r \\xa0Play\\t\\r \\xa0Q1:\\t\\r \\xa0Is\\t\\r \\xa0the\\t\\r \\xa0ball\\t\\r \\xa0in\\t\\r \\xa0play\\t\\r \\xa0if\\t\\r \\xa0it\\t\\r \\xa0rebounds\\t\\r \\xa0off\\t\\r \\xa0an\\t\\r \\xa0assistant\\t\\r \\xa0referee\\t\\r \\xa0or\\t\\r \\xa0AAR?\\t\\r \\xa0The'),\n",
       " Document(metadata={'producer': 'Mac OS X 10.10.5 Quartz PDFContext', 'creator': 'Word', 'creationdate': '2016-06-27T12:13:07+00:00', 'aapl:keywords': '[]', 'keywords': '', 'moddate': '2017-03-21T14:43:23-04:00', 'title': 'Microsoft Word - IFAB_LoG_FAQ_v4.0 (clean).docx', 'source': '../documents/FIFA MEMO QA.pdf', 'total_pages': 12, 'page': 4, 'page_label': '5', 'id': '../documents/FIFA MEMO QA.pdf:4:3'}, page_content='both\\t\\r \\xa0teams.\\t\\r \\xa0\\t\\r \\xa009\\t\\r \\xa0The\\t\\r \\xa0Ball\\t\\r \\xa0In\\t\\r \\xa0and\\t\\r \\xa0Out\\t\\r \\xa0of\\t\\r \\xa0Play\\t\\r \\xa0Q1:\\t\\r \\xa0Is\\t\\r \\xa0the\\t\\r \\xa0ball\\t\\r \\xa0in\\t\\r \\xa0play\\t\\r \\xa0if\\t\\r \\xa0it\\t\\r \\xa0rebounds\\t\\r \\xa0off\\t\\r \\xa0an\\t\\r \\xa0assistant\\t\\r \\xa0referee\\t\\r \\xa0or\\t\\r \\xa0AAR?\\t\\r \\xa0The\\t\\r \\xa0match\\t\\r \\xa0officials\\t\\r \\xa0are\\t\\r \\xa0part\\t\\r \\xa0of\\t\\r \\xa0the\\t\\r \\xa0game\\t\\r \\xa0and\\t\\r \\xa0if\\t\\r \\xa0the\\t\\r \\xa0ball\\t\\r \\xa0hits\\t\\r \\xa0any\\t\\r \\xa0match\\t\\r \\xa0official\\t\\r \\xa0and\\t\\r \\xa0has\\t\\r \\xa0not\\t\\r \\xa0wholly\\t\\r \\xa0passed\\t\\r \\xa0over\\t\\r \\xa0the\\t\\r \\xa0goal\\t\\r \\xa0line\\t\\r \\xa0or\\t\\r \\xa0touchline\\t\\r \\xa0then\\t\\r \\xa0it\\t\\r \\xa0remains\\t\\r \\xa0‘in\\t\\r \\xa0play’\\t\\r \\xa0–\\t\\r \\xa0this\\t\\r \\xa0is\\t\\r \\xa0true\\t\\r \\xa0not\\t\\r \\xa0just\\t\\r \\xa0for\\t\\r \\xa0the\\t\\r \\xa0referee\\t\\r \\xa0but\\t\\r \\xa0also\\t\\r \\xa0for\\t\\r \\xa0assistant\\t\\r \\xa0referees\\t\\r \\xa0and\\t\\r \\xa0AARs\\t\\r \\xa0(even\\t\\r \\xa0if\\t\\r \\xa0they\\t\\r \\xa0are\\t\\r \\xa0off\\t\\r \\xa0the\\t\\r \\xa0field\\t\\r \\xa0of\\t\\r \\xa0play)\\t\\r \\xa0as\\t\\r \\xa0it\\t\\r \\xa0whether\\t\\r \\xa0the\\t\\r \\xa0ball\\t\\r \\xa0wholly\\t\\r \\xa0left\\t\\r \\xa0the\\t\\r \\xa0field\\t\\r \\xa0of\\t\\r \\xa0play\\t\\r \\xa0that\\t\\r \\xa0must\\t\\r \\xa0be\\t\\r \\xa0judged.'),\n",
       " Document(metadata={'producer': 'Mac OS X 10.10.5 Quartz PDFContext', 'creator': 'Word', 'creationdate': '2016-06-27T12:13:07+00:00', 'aapl:keywords': '[]', 'keywords': '', 'moddate': '2017-03-21T14:43:23-04:00', 'title': 'Microsoft Word - IFAB_LoG_FAQ_v4.0 (clean).docx', 'source': '../documents/FIFA MEMO QA.pdf', 'total_pages': 12, 'page': 5, 'page_label': '6', 'id': '../documents/FIFA MEMO QA.pdf:5:0'}, page_content='6/12'),\n",
       " Document(metadata={'producer': 'Mac OS X 10.10.5 Quartz PDFContext', 'creator': 'Word', 'creationdate': '2016-06-27T12:13:07+00:00', 'aapl:keywords': '[]', 'keywords': '', 'moddate': '2017-03-21T14:43:23-04:00', 'title': 'Microsoft Word - IFAB_LoG_FAQ_v4.0 (clean).docx', 'source': '../documents/FIFA MEMO QA.pdf', 'total_pages': 12, 'page': 5, 'page_label': '6', 'id': '../documents/FIFA MEMO QA.pdf:5:1'}, page_content='10\\t\\r \\xa0Determining\\t\\r \\xa0the\\t\\r \\xa0Outcome\\t\\r \\xa0of\\t\\r \\xa0a\\t\\r \\xa0Match\\t\\r \\xa0Q1:\\t\\r \\xa0Why\\t\\r \\xa0do\\t\\r \\xa0the\\t\\r \\xa0Laws\\t\\r \\xa0now\\t\\r \\xa0say\\t\\r \\xa0that\\t\\r \\xa0the\\t\\r \\xa0referee\\t\\r \\xa0must\\t\\r \\xa0toss\\t\\r \\xa0a\\t\\r \\xa0coin\\t\\r \\xa0to\\t\\r \\xa0decide\\t\\r \\xa0which\\t\\r \\xa0goal\\t\\r \\xa0to\\t\\r \\xa0use\\t\\r \\xa0for\\t\\r \\xa0Kicks\\t\\r \\xa0From\\t\\r \\xa0the\\t\\r \\xa0Penalty\\t\\r \\xa0Mark\\t\\r \\xa0(KFPM)?\\t\\r \\xa0\\t\\r \\xa0It\\t\\r \\xa0is\\t\\r \\xa0not\\t\\r \\xa0easy\\t\\r \\xa0for\\t\\r \\xa0the\\t\\r \\xa0referee\\t\\r \\xa0to\\t\\r \\xa0decide\\t\\r \\xa0which\\t\\r \\xa0goal\\t\\r \\xa0to\\t\\r \\xa0choose\\t\\r \\xa0especially\\t\\r \\xa0if\\t\\r \\xa0one\\t\\r \\xa0end\\t\\r \\xa0has\\t\\r \\xa0one\\t\\r \\xa0set\\t\\r \\xa0of\\t\\r \\xa0supporters\\t\\r \\xa0and\\t\\r \\xa0the\\t\\r \\xa0other\\t\\r \\xa0end\\t\\r \\xa0the\\t\\r \\xa0other\\t\\r \\xa0supporters.\\t\\r \\xa0When\\t\\r \\xa0there\\t\\r \\xa0are\\t\\r \\xa0no\\t\\r \\xa0other\\t\\r \\xa0considerations\\t\\r \\xa0(safety,\\t\\r \\xa0ground\\t\\r \\xa0conditions\\t\\r \\xa0etc...)\\t\\r \\xa0tossing\\t\\r \\xa0a\\t\\r \\xa0coin\\t\\r \\xa0is\\t\\r \\xa0the\\t\\r \\xa0best\\t\\r \\xa0‘fair\\t\\r \\xa0play’\\t\\r \\xa0method\\t\\r \\xa0and\\t\\r \\xa0is\\t\\r \\xa0consistent\\t\\r \\xa0with\\t\\r \\xa0deciding\\t\\r \\xa0which\\t\\r \\xa0ends\\t\\r \\xa0the\\t\\r \\xa0teams\\t\\r \\xa0will\\t\\r \\xa0attack\\t\\r \\xa0at\\t\\r \\xa0the\\t\\r \\xa0start\\t\\r \\xa0of\\t\\r \\xa0the\\t\\r \\xa0match.\\t\\r \\xa0This\\t\\r \\xa0practice\\t\\r \\xa0was\\t\\r \\xa0already\\t\\r \\xa0used\\t\\r \\xa0by\\t\\r \\xa0sensible\\t\\r \\xa0referees.\\t\\r \\xa0\\t\\r \\xa0Q2:\\t\\r \\xa0Why\\t\\r \\xa0must\\t\\r \\xa0both\\t\\r \\xa0teams\\t\\r \\xa0have\\t\\r \\xa0the\\t\\r \\xa0same\\t\\r \\xa0number\\t\\r \\xa0of\\t\\r \\xa0players\\t\\r \\xa0throughout\\t\\r \\xa0the\\t\\r \\xa0KFPM\\t\\r \\xa0and\\t\\r \\xa0not\\t\\r \\xa0just\\t\\r \\xa0at\\t\\r \\xa0the\\t\\r \\xa0start?\\t\\r \\xa0If\\t\\r \\xa0one\\t\\r \\xa0team\\t\\r \\xa0has\\t\\r \\xa010\\t\\r \\xa0players\\t\\r \\xa0and\\t\\r \\xa0the\\t\\r \\xa0other\\t\\r \\xa0team\\t\\r \\xa0has\\t\\r \\xa011\\t\\r \\xa0players,\\t\\r \\xa0the\\t\\r \\xa0team\\t\\r \\xa0with\\t\\r \\xa010\\t\\r \\xa0has\\t\\r \\xa0a\\t\\r \\xa0benefit\\t\\r \\xa0if\\t\\r \\xa0KFPM\\t\\r \\xa0go\\t\\r \\xa0to\\t\\r \\xa0an\\t\\r \\xa011th\\t\\r \\xa0kick\\t\\r \\xa0because\\t\\r \\xa0the\\t\\r \\xa0team\\t\\r \\xa0with\\t\\r \\xa010\\t\\r \\xa0players\\t\\r \\xa0will\\t\\r \\xa0have\\t\\r \\xa0their\\t\\r \\xa0best\\t\\r \\xa0kicker\\t\\r \\xa0take\\t\\r \\xa0a\\t\\r \\xa02nd\\t\\r \\xa0kick\\t\\r \\xa0against\\t\\r \\xa0the\\t\\r \\xa0other\\t\\r \\xa0team’s\\t\\r \\xa011th\\t\\r \\xa0(worst)\\t\\r \\xa0player.\\t\\r \\xa0This\\t\\r \\xa0principle\\t\\r \\xa0used\\t\\r \\xa0t'),\n",
       " Document(metadata={'producer': 'Mac OS X 10.10.5 Quartz PDFContext', 'creator': 'Word', 'creationdate': '2016-06-27T12:13:07+00:00', 'aapl:keywords': '[]', 'keywords': '', 'moddate': '2017-03-21T14:43:23-04:00', 'title': 'Microsoft Word - IFAB_LoG_FAQ_v4.0 (clean).docx', 'source': '../documents/FIFA MEMO QA.pdf', 'total_pages': 12, 'page': 5, 'page_label': '6', 'id': '../documents/FIFA MEMO QA.pdf:5:2'}, page_content='eam\\t\\r \\xa0with\\t\\r \\xa010\\t\\r \\xa0players\\t\\r \\xa0will\\t\\r \\xa0have\\t\\r \\xa0their\\t\\r \\xa0best\\t\\r \\xa0kicker\\t\\r \\xa0take\\t\\r \\xa0a\\t\\r \\xa02nd\\t\\r \\xa0kick\\t\\r \\xa0against\\t\\r \\xa0the\\t\\r \\xa0other\\t\\r \\xa0team’s\\t\\r \\xa011th\\t\\r \\xa0(worst)\\t\\r \\xa0player.\\t\\r \\xa0This\\t\\r \\xa0principle\\t\\r \\xa0used\\t\\r \\xa0to\\t\\r \\xa0apply\\t\\r \\xa0only\\t\\r \\xa0before\\t\\r \\xa0KFPM\\t\\r \\xa0started\\t\\r \\xa0but\\t\\r \\xa0it\\t\\r \\xa0is\\t\\r \\xa0logical\\t\\r \\xa0that\\t\\r \\xa0it\\t\\r \\xa0continues\\t\\r \\xa0throughout\\t\\r \\xa0KFPM.\\t\\r \\xa0It\\t\\r \\xa0applies\\t\\r \\xa0if\\t\\r \\xa0a\\t\\r \\xa0team\\t\\r \\xa0‘loses’\\t\\r \\xa0a\\t\\r \\xa0player\\t\\r \\xa0because\\t\\r \\xa0of\\t\\r \\xa0injury\\t\\r \\xa0or\\t\\r \\xa0illness\\t\\r \\xa0as\\t\\r \\xa0well\\t\\r \\xa0as\\t\\r \\xa0if\\t\\r \\xa0a\\t\\r \\xa0player\\t\\r \\xa0is\\t\\r \\xa0sent\\t\\r \\xa0off.\\t\\r \\xa0\\t\\r \\xa0Q3:\\t\\r \\xa0Why\\t\\r \\xa0doesn’t\\t\\r \\xa0the\\t\\r \\xa0referee\\t\\r \\xa0need\\t\\r \\xa0to\\t\\r \\xa0know\\t\\r \\xa0the\\t\\r \\xa0order\\t\\r \\xa0of\\t\\r \\xa0the\\t\\r \\xa0kickers\\t\\r \\xa0and\\t\\r \\xa0their\\t\\r \\xa0numbers\\t\\r \\xa0before\\t\\r \\xa0the\\t\\r \\xa0KFPM\\t\\r \\xa0start?\\t\\r \\xa0The\\t\\r \\xa0order\\t\\r \\xa0in\\t\\r \\xa0which\\t\\r \\xa0players\\t\\r \\xa0take\\t\\r \\xa0a\\t\\r \\xa0kick\\t\\r \\xa0is\\t\\r \\xa0the\\t\\r \\xa0tactical\\t\\r \\xa0responsibility\\t\\r \\xa0of\\t\\r \\xa0the\\t\\r \\xa0teams.\\t\\r \\xa0The\\t\\r \\xa0referee’s\\t\\r \\xa0responsibility\\t\\r \\xa0is\\t\\r \\xa0to\\t\\r \\xa0make\\t\\r \\xa0sure\\t\\r \\xa0that\\t\\r \\xa0no\\t\\r \\xa0player\\t\\r \\xa0takes\\t\\r \\xa0a\\t\\r \\xa02nd\\t\\r \\xa0kick\\t\\r \\xa0before\\t\\r \\xa0every\\t\\r \\xa0other\\t\\r \\xa0team\\t\\r \\xa0member\\t\\r \\xa0has\\t\\r \\xa0taken\\t\\r \\xa0their\\t\\r \\xa01st\\t\\r \\xa0kick.\\t\\r \\xa0\\t\\r \\xa0Q4:\\t\\r \\xa0Can\\t\\r \\xa0an\\t\\r \\xa0injured\\t\\r \\xa0player\\t\\r \\xa0who\\t\\r \\xa0is\\t\\r \\xa0off\\t\\r \\xa0the\\t\\r \\xa0field\\t\\r \\xa0of\\t\\r \\xa0play\\t\\r \\xa0being\\t\\r \\xa0treated\\t\\r \\xa0at\\t\\r \\xa0the\\t\\r \\xa0final\\t\\r \\xa0whistle\\t\\r \\xa0take\\t\\r \\xa0part\\t\\r \\xa0in\\t\\r \\xa0KFPM?\\t\\r \\xa0Yes\\t\\r \\xa0–\\t\\r \\xa0any\\t\\r \\xa0player\\t\\r \\xa0who\\t\\r \\xa0is\\t\\r \\xa0temporarily\\t\\r \\xa0off\\t\\r \\xa0the\\t\\r \\xa0field\\t\\r \\xa0for\\t\\r \\xa0a\\t\\r \\xa0valid\\t\\r \\xa0reason\\t\\r \\xa0(injury,\\t\\r \\xa0changing\\t\\r \\xa0equipment\\t\\r \\xa0etc…)\\t\\r \\xa0is\\t\\r \\xa0allowed\\t\\r \\xa0to\\t\\r \\xa0take\\t\\r \\xa0part\\t\\r \\xa0in\\t\\r \\xa0KFPM.\\t\\r \\xa0However,\\t\\r \\xa0a\\t\\r \\xa0substitution\\t\\r \\xa0can\\t\\r \\xa0not\\t\\r \\xa0be\\t\\r \\xa0made\\t\\r \\xa0after\\t\\r \\xa0the\\t\\r \\xa0final\\t\\r \\xa0whistle.\\t\\r \\xa0\\t\\r \\xa0Q5'),\n",
       " Document(metadata={'producer': 'Mac OS X 10.10.5 Quartz PDFContext', 'creator': 'Word', 'creationdate': '2016-06-27T12:13:07+00:00', 'aapl:keywords': '[]', 'keywords': '', 'moddate': '2017-03-21T14:43:23-04:00', 'title': 'Microsoft Word - IFAB_LoG_FAQ_v4.0 (clean).docx', 'source': '../documents/FIFA MEMO QA.pdf', 'total_pages': 12, 'page': 5, 'page_label': '6', 'id': '../documents/FIFA MEMO QA.pdf:5:3'}, page_content='ury,\\t\\r \\xa0changing\\t\\r \\xa0equipment\\t\\r \\xa0etc…)\\t\\r \\xa0is\\t\\r \\xa0allowed\\t\\r \\xa0to\\t\\r \\xa0take\\t\\r \\xa0part\\t\\r \\xa0in\\t\\r \\xa0KFPM.\\t\\r \\xa0However,\\t\\r \\xa0a\\t\\r \\xa0substitution\\t\\r \\xa0can\\t\\r \\xa0not\\t\\r \\xa0be\\t\\r \\xa0made\\t\\r \\xa0after\\t\\r \\xa0the\\t\\r \\xa0final\\t\\r \\xa0whistle.\\t\\r \\xa0\\t\\r \\xa0Q5:\\t\\r \\xa0When\\t\\r \\xa0is\\t\\r \\xa0a\\t\\r \\xa0kick\\t\\r \\xa0from\\t\\r \\xa0the\\t\\r \\xa0penalty\\t\\r \\xa0mark\\t\\r \\xa0completed\\t\\r \\xa0(over)\\t\\r \\xa0during\\t\\r \\xa0KFPM\\t\\r \\xa0and\\t\\r \\xa0can\\t\\r \\xa0the\\t\\r \\xa0kicker\\t\\r \\xa0score\\t\\r \\xa0from\\t\\r \\xa0a\\t\\r \\xa0rebound\\t\\r \\xa0or\\t\\r \\xa0save?\\t\\r \\xa0A\\t\\r \\xa0KFPM\\t\\r \\xa0is\\t\\r \\xa0over\\t\\r \\xa0when\\t\\r \\xa0the\\t\\r \\xa0ball\\t\\r \\xa0stops\\t\\r \\xa0moving\\t\\r \\xa0(including\\t\\r \\xa0being\\t\\r \\xa0held\\t\\r \\xa0by\\t\\r \\xa0the\\t\\r \\xa0goalkeeper)\\t\\r \\xa0or\\t\\r \\xa0goes\\t\\r \\xa0out\\t\\r \\xa0of\\t\\r \\xa0play\\t\\r \\xa0or\\t\\r \\xa0if\\t\\r \\xa0there\\t\\r \\xa0is\\t\\r \\xa0an\\t\\r \\xa0offence\\t\\r \\xa0by\\t\\r \\xa0the\\t\\r \\xa0kicker.\\t\\r \\xa0The\\t\\r \\xa0wording\\t\\r \\xa0was\\t\\r \\xa0revised\\t\\r \\xa0because\\t\\r \\xa0it\\t\\r \\xa0was\\t\\r \\xa0unclear,\\t\\r \\xa0for\\t\\r \\xa0example,\\t\\r \\xa0when\\t\\r \\xa0a\\t\\r \\xa0goalkeeper\\t\\r \\xa0partly\\t\\r \\xa0saved\\t\\r \\xa0the\\t\\r \\xa0ball\\t\\r \\xa0and\\t\\r \\xa0the\\t\\r \\xa0ball\\t\\r \\xa0carried\\t\\r \\xa0on\\t\\r \\xa0moving\\t\\r \\xa0towards\\t\\r \\xa0the\\t\\r \\xa0goal\\t\\r \\xa0whether\\t\\r \\xa0it\\t\\r \\xa0was\\t\\r \\xa0still\\t\\r \\xa0‘in\\t\\r \\xa0play’.\\t\\r \\xa0\\t\\r \\xa0As\\t\\r \\xa0the\\t\\r \\xa0Law\\t\\r \\xa0says\\t\\r \\xa0that\\t\\r \\xa0each\\t\\r \\xa0player\\t\\r \\xa0takes\\t\\r \\xa0a\\t\\r \\xa0kick\\t\\r \\xa0this\\t\\r \\xa0means\\t\\r \\xa0that\\t\\r \\xa0the\\t\\r \\xa0kicker\\t\\r \\xa0can\\t\\r \\xa0not\\t\\r \\xa0play\\t\\r \\xa0the\\t\\r \\xa0ball\\t\\r \\xa0a\\t\\r \\xa0second\\t\\r \\xa0time\\t\\r \\xa0(even\\t\\r \\xa0if\\t\\r \\xa0it\\t\\r \\xa0rebounds\\t\\r \\xa0from\\t\\r \\xa0the\\t\\r \\xa0goalpost,\\t\\r \\xa0crossbar\\t\\r \\xa0or\\t\\r \\xa0goalkeeper).'),\n",
       " Document(metadata={'producer': 'Mac OS X 10.10.5 Quartz PDFContext', 'creator': 'Word', 'creationdate': '2016-06-27T12:13:07+00:00', 'aapl:keywords': '[]', 'keywords': '', 'moddate': '2017-03-21T14:43:23-04:00', 'title': 'Microsoft Word - IFAB_LoG_FAQ_v4.0 (clean).docx', 'source': '../documents/FIFA MEMO QA.pdf', 'total_pages': 12, 'page': 6, 'page_label': '7', 'id': '../documents/FIFA MEMO QA.pdf:6:0'}, page_content='7/12'),\n",
       " Document(metadata={'producer': 'Mac OS X 10.10.5 Quartz PDFContext', 'creator': 'Word', 'creationdate': '2016-06-27T12:13:07+00:00', 'aapl:keywords': '[]', 'keywords': '', 'moddate': '2017-03-21T14:43:23-04:00', 'title': 'Microsoft Word - IFAB_LoG_FAQ_v4.0 (clean).docx', 'source': '../documents/FIFA MEMO QA.pdf', 'total_pages': 12, 'page': 6, 'page_label': '7', 'id': '../documents/FIFA MEMO QA.pdf:6:1'}, page_content='Q6:\\t\\r \\xa0When\\t\\r \\xa0can\\t\\r \\xa0a\\t\\r \\xa0goalkeeper\\t\\r \\xa0be\\t\\r \\xa0replaced\\t\\r \\xa0and\\t\\r \\xa0who\\t\\r \\xa0can\\t\\r \\xa0replace\\t\\r \\xa0the\\t\\r \\xa0goalkeeper?\\t\\r \\xa0The\\t\\r \\xa0goalkeeper\\t\\r \\xa0can\\t\\r \\xa0be\\t\\r \\xa0replaced\\t\\r \\xa0at\\t\\r \\xa0any\\t\\r \\xa0time.\\t\\r \\xa0The\\t\\r \\xa0replacement\\t\\r \\xa0can\\t\\r \\xa0be\\t\\r \\xa0one\\t\\r \\xa0of\\t\\r \\xa0the\\t\\r \\xa0players\\t\\r \\xa0who\\t\\r \\xa0is\\t\\r \\xa0allowed\\t\\r \\xa0to\\t\\r \\xa0take\\t\\r \\xa0a\\t\\r \\xa0kick,\\t\\r \\xa0a\\t\\r \\xa0substitute\\t\\r \\xa0(if\\t\\r \\xa0the\\t\\r \\xa0team\\t\\r \\xa0has\\t\\r \\xa0not\\t\\r \\xa0used\\t\\r \\xa0its\\t\\r \\xa0maximum\\t\\r \\xa0number\\t\\r \\xa0of\\t\\r \\xa0substitutes)\\t\\r \\xa0or\\t\\r \\xa0a\\t\\r \\xa0player\\t\\r \\xa0who\\t\\r \\xa0was\\t\\r \\xa0excluded\\t\\r \\xa0from\\t\\r \\xa0KFPM\\t\\r \\xa0to\\t\\r \\xa0make\\t\\r \\xa0the\\t\\r \\xa0number\\t\\r \\xa0of\\t\\r \\xa0players\\t\\r \\xa0in\\t\\r \\xa0each\\t\\r \\xa0team\\t\\r \\xa0equal.\\t\\r \\xa0A\\t\\r \\xa0goalkeeper\\t\\r \\xa0who\\t\\r \\xa0is\\t\\r \\xa0replaced\\t\\r \\xa0by\\t\\r \\xa0one\\t\\r \\xa0of\\t\\r \\xa0the\\t\\r \\xa0other\\t\\r \\xa0kickers,\\t\\r \\xa0may\\t\\r \\xa0take\\t\\r \\xa0a\\t\\r \\xa0kick\\t\\r \\xa0but\\t\\r \\xa0if\\t\\r \\xa0the\\t\\r \\xa0goalkeeper\\t\\r \\xa0is\\t\\r \\xa0replaced\\t\\r \\xa0by\\t\\r \\xa0a\\t\\r \\xa0substitute\\t\\r \\xa0or\\t\\r \\xa0excluded\\t\\r \\xa0player,\\t\\r \\xa0the\\t\\r \\xa0goalkeeper\\t\\r \\xa0can\\t\\r \\xa0not\\t\\r \\xa0take\\t\\r \\xa0a\\t\\r \\xa0kick.\\t\\r \\xa0\\t\\r \\xa0Q7:\\t\\r \\xa0What\\t\\r \\xa0should\\t\\r \\xa0the\\t\\r \\xa0referee\\t\\r \\xa0do\\t\\r \\xa0if\\t\\r \\xa0a\\t\\r \\xa0player\\t\\r \\xa0wants\\t\\r \\xa0to\\t\\r \\xa0leave\\t\\r \\xa0the\\t\\r \\xa0field\\t\\r \\xa0of\\t\\r \\xa0play\\t\\r \\xa0during\\t\\r \\xa0KFPM?\\t\\r \\xa0The\\t\\r \\xa0player\\t\\r \\xa0must\\t\\r \\xa0be\\t\\r \\xa0warned\\t\\r \\xa0there\\t\\r \\xa0will\\t\\r \\xa0be\\t\\r \\xa0no\\t\\r \\xa0delay\\t\\r \\xa0and\\t\\r \\xa0to\\t\\r \\xa0return\\t\\r \\xa0in\\t\\r \\xa0time\\t\\r \\xa0to\\t\\r \\xa0take\\t\\r \\xa0a\\t\\r \\xa0kick\\t\\r \\xa0(i.e.\\t\\r \\xa0by\\t\\r \\xa0the\\t\\r \\xa0time\\t\\r \\xa0all\\t\\r \\xa0the\\t\\r \\xa0rest\\t\\r \\xa0of\\t\\r \\xa0the\\t\\r \\xa0team\\t\\r \\xa0have\\t\\r \\xa0taken\\t\\r \\xa0a\\t\\r \\xa0kick)\\t\\r \\xa0or\\t\\r \\xa0their\\t\\r \\xa0kick\\t\\r \\xa0will\\t\\r \\xa0be\\t\\r \\xa0recorded\\t\\r \\xa0as\\t\\r \\xa0a\\t\\r \\xa0miss/not\\t\\r \\xa0scored.\\t\\r \\xa0This\\t\\r \\xa0is\\t\\r \\xa0because\\t\\r \\xa0there\\t\\r \\xa0is\\t\\r \\xa0a\\t\\r \\xa0risk\\t\\r \\xa0of\\t\\r \\xa0players\\t\\r \\xa0leaving\\t\\r \\xa0the\\t\\r \\xa0field\\t\\r \\xa0of\\t\\r \\xa0play\\t\\r \\xa0for\\t\\r \\xa0unfair\\t\\r \\xa0reasons\\t\\r \\xa0e.g.\\t\\r \\xa0getting\\t\\r \\xa0tactical\\t\\r \\xa0instructions'),\n",
       " Document(metadata={'producer': 'Mac OS X 10.10.5 Quartz PDFContext', 'creator': 'Word', 'creationdate': '2016-06-27T12:13:07+00:00', 'aapl:keywords': '[]', 'keywords': '', 'moddate': '2017-03-21T14:43:23-04:00', 'title': 'Microsoft Word - IFAB_LoG_FAQ_v4.0 (clean).docx', 'source': '../documents/FIFA MEMO QA.pdf', 'total_pages': 12, 'page': 6, 'page_label': '7', 'id': '../documents/FIFA MEMO QA.pdf:6:2'}, page_content='scored.\\t\\r \\xa0This\\t\\r \\xa0is\\t\\r \\xa0because\\t\\r \\xa0there\\t\\r \\xa0is\\t\\r \\xa0a\\t\\r \\xa0risk\\t\\r \\xa0of\\t\\r \\xa0players\\t\\r \\xa0leaving\\t\\r \\xa0the\\t\\r \\xa0field\\t\\r \\xa0of\\t\\r \\xa0play\\t\\r \\xa0for\\t\\r \\xa0unfair\\t\\r \\xa0reasons\\t\\r \\xa0e.g.\\t\\r \\xa0getting\\t\\r \\xa0tactical\\t\\r \\xa0instructions\\t\\r \\xa0from\\t\\r \\xa0the\\t\\r \\xa0coach,\\t\\r \\xa0delaying\\t\\r \\xa0the\\t\\r \\xa0kicks\\t\\r \\xa0to\\t\\r \\xa0put\\t\\r \\xa0pressure\\t\\r \\xa0on\\t\\r \\xa0the\\t\\r \\xa0opponents\\t\\r \\xa0or\\t\\r \\xa0even\\t\\r \\xa0for\\t\\r \\xa0match-\\xad‐fixing.\\t\\r \\xa0\\t\\r \\xa011\\t\\r \\xa0Offside\\t\\r \\xa0Q1:\\t\\r \\xa0Can\\t\\r \\xa0a\\t\\r \\xa0player\\t\\r \\xa0on\\t\\r \\xa0the\\t\\r \\xa0halfway\\t\\r \\xa0line\\t\\r \\xa0be\\t\\r \\xa0offside?\\t\\r \\xa0\\t\\r \\xa0NO\\t\\r \\xa0–\\t\\r \\xa0the\\t\\r \\xa0halfway\\t\\r \\xa0line\\t\\r \\xa0is\\t\\r \\xa0‘neutral’\\t\\r \\xa0for\\t\\r \\xa0offside\\t\\r \\xa0–\\t\\r \\xa0a\\t\\r \\xa0player\\t\\r \\xa0has\\t\\r \\xa0to\\t\\r \\xa0be\\t\\r \\xa0in\\t\\r \\xa0the\\t\\r \\xa0opponents’\\t\\r \\xa0half\\t\\r \\xa0to\\t\\r \\xa0be\\t\\r \\xa0in\\t\\r \\xa0an\\t\\r \\xa0offside\\t\\r \\xa0position.\\t\\r \\xa0\\t\\r \\xa0Q2:\\t\\r \\xa0Are\\t\\r \\xa0a\\t\\r \\xa0player’s\\t\\r \\xa0arms/hands\\t\\r \\xa0considered\\t\\r \\xa0as\\t\\r \\xa0part\\t\\r \\xa0of\\t\\r \\xa0the\\t\\r \\xa0player’s\\t\\r \\xa0body\\t\\r \\xa0when\\t\\r \\xa0judging\\t\\r \\xa0offside?\\t\\r \\xa0The\\t\\r \\xa0hands\\t\\r \\xa0or\\t\\r \\xa0arms\\t\\r \\xa0are\\t\\r \\xa0not\\t\\r \\xa0included\\t\\r \\xa0when\\t\\r \\xa0judging\\t\\r \\xa0offside\\t\\r \\xa0position;\\t\\r \\xa0this\\t\\r \\xa0is\\t\\r \\xa0true\\t\\r \\xa0for\\t\\r \\xa0all\\t\\r \\xa0players,\\t\\r \\xa0including\\t\\r \\xa0the\\t\\r \\xa0goalkeepers.\\t\\r \\xa0This\\t\\r \\xa0view\\t\\r \\xa0is\\t\\r \\xa0supported\\t\\r \\xa0by\\t\\r \\xa0and\\t\\r \\xa0helps\\t\\r \\xa0assistant\\t\\r \\xa0referees\\t\\r \\xa0throughout\\t\\r \\xa0the\\t\\r \\xa0world\\t\\r \\xa0as\\t\\r \\xa0it\\t\\r \\xa0is\\t\\r \\xa0often\\t\\r \\xa0difficult\\t\\r \\xa0to\\t\\r \\xa0identify\\t\\r \\xa0the\\t\\r \\xa0exact\\t\\r \\xa0position\\t\\r \\xa0of\\t\\r \\xa0the\\t\\r \\xa0hands\\t\\r \\xa0and\\t\\r \\xa0arms.\\t\\r \\xa0\\t\\r \\xa0Q3:\\t\\r \\xa0The\\t\\r \\xa0Law\\t\\r \\xa0now\\t\\r \\xa0says\\t\\r \\xa0that\\t\\r \\xa0the\\t\\r \\xa0IDFK\\t\\r \\xa0for\\t\\r \\xa0offside\\t\\r \\xa0can\\t\\r \\xa0be\\t\\r \\xa0taken\\t\\r \\xa0in\\t\\r \\xa0the\\t\\r \\xa0player’s\\t\\r \\xa0own\\t\\r \\xa0half\\t\\r \\xa0but\\t\\r \\xa0how\\t\\r \\xa0can\\t\\r \\xa0this\\t\\r \\xa0be\\t\\r \\xa0correct?\\t\\r \\xa0\\t\\r \\xa0It\\t\\r \\xa0is\\t\\r \\xa0correct\\t\\r \\xa0because:\\t\\r \\xa0• a\\t\\r \\xa0player\\t\\r \\xa0CAN\\t\\r \\xa0NOT\\t\\r \\xa0be\\t\\r \\xa0in\\t\\r \\xa0an\\t\\r \\xa0offside\\t\\r \\xa0POSITI'),\n",
       " Document(metadata={'producer': 'Mac OS X 10.10.5 Quartz PDFContext', 'creator': 'Word', 'creationdate': '2016-06-27T12:13:07+00:00', 'aapl:keywords': '[]', 'keywords': '', 'moddate': '2017-03-21T14:43:23-04:00', 'title': 'Microsoft Word - IFAB_LoG_FAQ_v4.0 (clean).docx', 'source': '../documents/FIFA MEMO QA.pdf', 'total_pages': 12, 'page': 6, 'page_label': '7', 'id': '../documents/FIFA MEMO QA.pdf:6:3'}, page_content='aken\\t\\r \\xa0in\\t\\r \\xa0the\\t\\r \\xa0player’s\\t\\r \\xa0own\\t\\r \\xa0half\\t\\r \\xa0but\\t\\r \\xa0how\\t\\r \\xa0can\\t\\r \\xa0this\\t\\r \\xa0be\\t\\r \\xa0correct?\\t\\r \\xa0\\t\\r \\xa0It\\t\\r \\xa0is\\t\\r \\xa0correct\\t\\r \\xa0because:\\t\\r \\xa0• a\\t\\r \\xa0player\\t\\r \\xa0CAN\\t\\r \\xa0NOT\\t\\r \\xa0be\\t\\r \\xa0in\\t\\r \\xa0an\\t\\r \\xa0offside\\t\\r \\xa0POSITION\\t\\r \\xa0in\\t\\r \\xa0their\\t\\r \\xa0own\\t\\r \\xa0half\\t\\r \\xa0• a\\t\\r \\xa0player\\t\\r \\xa0CAN\\t\\r \\xa0commit\\t\\r \\xa0an\\t\\r \\xa0offside\\t\\r \\xa0OFFENCE\\t\\r \\xa0in\\t\\r \\xa0their\\t\\r \\xa0own\\t\\r \\xa0half\\t\\r \\xa0if\\t\\r \\xa0they\\t\\r \\xa0go\\t\\r \\xa0back\\t\\r \\xa0into\\t\\r \\xa0their\\t\\r \\xa0own\\t\\r \\xa0half\\t\\r \\xa0from\\t\\r \\xa0an\\t\\r \\xa0offside\\t\\r \\xa0position\\t\\r \\xa0\\t\\r \\xa0With\\t\\r \\xa0the\\t\\r \\xa0exception\\t\\r \\xa0of\\t\\r \\xa0offences\\t\\r \\xa0in\\t\\r \\xa0the\\t\\r \\xa0goal\\t\\r \\xa0area,\\t\\r \\xa0throughout\\t\\r \\xa0the\\t\\r \\xa0Laws\\t\\r \\xa0every\\t\\r \\xa0free\\t\\r \\xa0kick\\t\\r \\xa0is\\t\\r \\xa0awarded\\t\\r \\xa0from\\t\\r \\xa0the\\t\\r \\xa0place\\t\\r \\xa0where\\t\\r \\xa0the\\t\\r \\xa0offence\\t\\r \\xa0occurs,\\t\\r \\xa0so\\t\\r \\xa0it\\t\\r \\xa0is\\t\\r \\xa0logical\\t\\r \\xa0that\\t\\r \\xa0this\\t\\r \\xa0should\\t\\r \\xa0also\\t\\r \\xa0apply\\t\\r \\xa0to\\t\\r \\xa0offside.\\t\\r \\xa0\\t\\r \\xa0Q4:\\t\\r \\xa0Can\\t\\r \\xa0a\\t\\r \\xa0player\\t\\r \\xa0who\\t\\r \\xa0interferes\\t\\r \\xa0with\\t\\r \\xa0play\\t\\r \\xa0after\\t\\r \\xa0a\\t\\r \\xa0rebound\\t\\r \\xa0or\\t\\r \\xa0save\\t\\r \\xa0be\\t\\r \\xa0given\\t\\r \\xa0offside?\\t\\r \\xa0\\t\\r \\xa0YES\\t\\r \\xa0–\\t\\r \\xa0interfering\\t\\r \\xa0with\\t\\r \\xa0an\\t\\r \\xa0opponent\\t\\r \\xa0or\\t\\r \\xa0play\\t\\r \\xa0after\\t\\r \\xa0a\\t\\r \\xa0rebound\\t\\r \\xa0or\\t\\r \\xa0save\\t\\r \\xa0is\\t\\r \\xa0clearly\\t\\r \\xa0an\\t\\r \\xa0offside\\t\\r \\xa0offence\\t\\r \\xa0if\\t\\r \\xa0the\\t\\r \\xa0player\\t\\r \\xa0was\\t\\r \\xa0originally\\t\\r \\xa0in\\t\\r \\xa0an\\t\\r \\xa0offside\\t\\r \\xa0position.'),\n",
       " Document(metadata={'producer': 'Mac OS X 10.10.5 Quartz PDFContext', 'creator': 'Word', 'creationdate': '2016-06-27T12:13:07+00:00', 'aapl:keywords': '[]', 'keywords': '', 'moddate': '2017-03-21T14:43:23-04:00', 'title': 'Microsoft Word - IFAB_LoG_FAQ_v4.0 (clean).docx', 'source': '../documents/FIFA MEMO QA.pdf', 'total_pages': 12, 'page': 7, 'page_label': '8', 'id': '../documents/FIFA MEMO QA.pdf:7:0'}, page_content='8/12'),\n",
       " Document(metadata={'producer': 'Mac OS X 10.10.5 Quartz PDFContext', 'creator': 'Word', 'creationdate': '2016-06-27T12:13:07+00:00', 'aapl:keywords': '[]', 'keywords': '', 'moddate': '2017-03-21T14:43:23-04:00', 'title': 'Microsoft Word - IFAB_LoG_FAQ_v4.0 (clean).docx', 'source': '../documents/FIFA MEMO QA.pdf', 'total_pages': 12, 'page': 7, 'page_label': '8', 'id': '../documents/FIFA MEMO QA.pdf:7:1'}, page_content='Q5:\\t\\r \\xa0For\\t\\r \\xa0how\\t\\r \\xa0long\\t\\r \\xa0is\\t\\r \\xa0a\\t\\r \\xa0defending\\t\\r \\xa0player\\t\\r \\xa0who\\t\\r \\xa0goes\\t\\r \\xa0off\\t\\r \\xa0the\\t\\r \\xa0field\\t\\r \\xa0of\\t\\r \\xa0play\\t\\r \\xa0during\\t\\r \\xa0an\\t\\r \\xa0opponents’\\t\\r \\xa0attack\\t\\r \\xa0technically\\t\\r \\xa0on\\t\\r \\xa0the\\t\\r \\xa0goal\\t\\r \\xa0line\\t\\r \\xa0for\\t\\r \\xa0offside?\\t\\r \\xa0It\\t\\r \\xa0is\\t\\r \\xa0unfair\\t\\r \\xa0that\\t\\r \\xa0a\\t\\r \\xa0defender\\t\\r \\xa0who\\t\\r \\xa0goes\\t\\r \\xa0off\\t\\r \\xa0the\\t\\r \\xa0field\\t\\r \\xa0of\\t\\r \\xa0play\\t\\r \\xa0(often\\t\\r \\xa0through\\t\\r \\xa0injury)\\t\\r \\xa0remains\\t\\r \\xa0‘active’\\t\\r \\xa0on\\t\\r \\xa0the\\t\\r \\xa0goal\\t\\r \\xa0line\\t\\r \\xa0until\\t\\r \\xa0play\\t\\r \\xa0next\\t\\r \\xa0stops\\t\\r \\xa0as\\t\\r \\xa0play\\t\\r \\xa0can\\t\\r \\xa0continue\\t\\r \\xa0for\\t\\r \\xa0a\\t\\r \\xa0long\\t\\r \\xa0time.\\t\\r \\xa0The\\t\\r \\xa0new\\t\\r \\xa0wording\\t\\r \\xa0makes\\t\\r \\xa0it\\t\\r \\xa0clear\\t\\r \\xa0that\\t\\r \\xa0once\\t\\r \\xa0the\\t\\r \\xa0defending\\t\\r \\xa0team\\t\\r \\xa0has\\t\\r \\xa0played\\t\\r \\xa0the\\t\\r \\xa0ball\\t\\r \\xa0towards\\t\\r \\xa0the\\t\\r \\xa0halfway\\t\\r \\xa0line\\t\\r \\xa0and\\t\\r \\xa0it\\t\\r \\xa0is\\t\\r \\xa0outside\\t\\r \\xa0their\\t\\r \\xa0penalty\\t\\r \\xa0area,\\t\\r \\xa0that\\t\\r \\xa0‘phase\\t\\r \\xa0of\\t\\r \\xa0play’\\t\\r \\xa0has\\t\\r \\xa0ended\\t\\r \\xa0and\\t\\r \\xa0the\\t\\r \\xa0defender\\t\\r \\xa0is\\t\\r \\xa0no\\t\\r \\xa0longer\\t\\r \\xa0‘active’\\t\\r \\xa0for\\t\\r \\xa0offside.\\t\\r \\xa0This\\t\\r \\xa0will\\t\\r \\xa0require\\t\\r \\xa0alertness\\t\\r \\xa0from\\t\\r \\xa0assistant\\t\\r \\xa0referees\\t\\r \\xa0and\\t\\r \\xa0good\\t\\r \\xa0communication\\t\\r \\xa0between\\t\\r \\xa0the\\t\\r \\xa0referee\\t\\r \\xa0and\\t\\r \\xa0assistant.\\t\\r \\xa0\\t\\r \\xa0Q6:\\t\\r \\xa0How\\t\\r \\xa0can\\t\\r \\xa0an\\t\\r \\xa0attacking\\t\\r \\xa0player\\t\\r \\xa0gain\\t\\r \\xa0a\\t\\r \\xa0non-\\xad‐offside\\t\\r \\xa0advantage\\t\\r \\xa0when\\t\\r \\xa0returning\\t\\r \\xa0to\\t\\r \\xa0the\\t\\r \\xa0field\\t\\r \\xa0of\\t\\r \\xa0play?\\t\\r \\xa0The\\t\\r \\xa0player\\t\\r \\xa0could\\t\\r \\xa0come\\t\\r \\xa0back\\t\\r \\xa0onto\\t\\r \\xa0the\\t\\r \\xa0field\\t\\r \\xa0of\\t\\r \\xa0play\\t\\r \\xa0without\\t\\r \\xa0the\\t\\r \\xa0other\\t\\r \\xa0team\\t\\r \\xa0being\\t\\r \\xa0aware\\t\\r \\xa0and\\t\\r \\xa0then\\t\\r \\xa0receive\\t\\r \\xa0a\\t\\r \\xa0pass\\t\\r \\xa0or\\t\\r \\xa0make\\t\\r \\xa0a\\t\\r \\xa0challenge.\\t\\r \\xa0\\t\\r \\xa0\\t\\r \\xa0If\\t\\r \\xa0the\\t\\r \\xa0player\\t\\r \\xa0is\\t\\r \\xa0penalised\\t\\r \\xa0for\\t\\r \\xa0offside\\t\\r \\xa0no\\t\\r \\xa0advantage\\t\\r \\xa0has\\t\\r \\xa0been\\t\\r \\xa0gained\\t\\r \\xa0so\\t\\r \\xa0there\\t\\r \\xa0is\\t\\r \\xa0no'),\n",
       " Document(metadata={'producer': 'Mac OS X 10.10.5 Quartz PDFContext', 'creator': 'Word', 'creationdate': '2016-06-27T12:13:07+00:00', 'aapl:keywords': '[]', 'keywords': '', 'moddate': '2017-03-21T14:43:23-04:00', 'title': 'Microsoft Word - IFAB_LoG_FAQ_v4.0 (clean).docx', 'source': '../documents/FIFA MEMO QA.pdf', 'total_pages': 12, 'page': 7, 'page_label': '8', 'id': '../documents/FIFA MEMO QA.pdf:7:2'}, page_content='n\\t\\r \\xa0receive\\t\\r \\xa0a\\t\\r \\xa0pass\\t\\r \\xa0or\\t\\r \\xa0make\\t\\r \\xa0a\\t\\r \\xa0challenge.\\t\\r \\xa0\\t\\r \\xa0\\t\\r \\xa0If\\t\\r \\xa0the\\t\\r \\xa0player\\t\\r \\xa0is\\t\\r \\xa0penalised\\t\\r \\xa0for\\t\\r \\xa0offside\\t\\r \\xa0no\\t\\r \\xa0advantage\\t\\r \\xa0has\\t\\r \\xa0been\\t\\r \\xa0gained\\t\\r \\xa0so\\t\\r \\xa0there\\t\\r \\xa0is\\t\\r \\xa0no\\t\\r \\xa0need\\t\\r \\xa0for\\t\\r \\xa0a\\t\\r \\xa0caution\\t\\r \\xa0(YC).\\t\\r \\xa0\\t\\r \\xa0Q7:\\t\\r \\xa0Can\\t\\r \\xa0an\\t\\r \\xa0attacking\\t\\r \\xa0player\\t\\r \\xa0in\\t\\r \\xa0the\\t\\r \\xa0goal\\t\\r \\xa0net\\t\\r \\xa0be\\t\\r \\xa0penalised\\t\\r \\xa0for\\t\\r \\xa0offside?\\t\\r \\xa0Yes,\\t\\r \\xa0if\\t\\r \\xa0the\\t\\r \\xa0player\\t\\r \\xa0commits\\t\\r \\xa0an\\t\\r \\xa0offside\\t\\r \\xa0offence.\\t\\r \\xa0\\t\\r \\xa012\\t\\r \\xa0Fouls\\t\\r \\xa0and\\t\\r \\xa0Misconduct\\t\\r \\xa0Q1:\\t\\r \\xa0If\\t\\r \\xa0an\\t\\r \\xa0offence\\t\\r \\xa0involves\\t\\r \\xa0contact\\t\\r \\xa0can\\t\\r \\xa0it\\t\\r \\xa0be\\t\\r \\xa0an\\t\\r \\xa0indirect\\t\\r \\xa0free\\t\\r \\xa0kick?\\t\\r \\xa0NO\\t\\r \\xa0–\\t\\r \\xa0if\\t\\r \\xa0an\\t\\r \\xa0offence\\t\\r \\xa0(including\\t\\r \\xa0dangerous\\t\\r \\xa0play)\\t\\r \\xa0involves\\t\\r \\xa0contact\\t\\r \\xa0with\\t\\r \\xa0the\\t\\r \\xa0opponent\\t\\r \\xa0it\\t\\r \\xa0must\\t\\r \\xa0be\\t\\r \\xa0penalised\\t\\r \\xa0with\\t\\r \\xa0a\\t\\r \\xa0direct\\t\\r \\xa0free\\t\\r \\xa0kick.\\t\\r \\xa0\\t\\r \\xa0Q2:\\t\\r \\xa0If\\t\\r \\xa0the\\t\\r \\xa0referee\\t\\r \\xa0plays\\t\\r \\xa0advantage\\t\\r \\xa0for\\t\\r \\xa0a\\t\\r \\xa0sending-\\xad‐off\\t\\r \\xa0offence\\t\\r \\xa0(including\\t\\r \\xa0a\\t\\r \\xa0second\\t\\r \\xa0caution)\\t\\r \\xa0and\\t\\r \\xa0the\\t\\r \\xa0offending\\t\\r \\xa0player\\t\\r \\xa0then\\t\\r \\xa0gets\\t\\r \\xa0involved\\t\\r \\xa0in\\t\\r \\xa0the\\t\\r \\xa0game,\\t\\r \\xa0why\\t\\r \\xa0is\\t\\r \\xa0it\\t\\r \\xa0an\\t\\r \\xa0IDFK?\\t\\r \\xa0The\\t\\r \\xa0previous\\t\\r \\xa0wording\\t\\r \\xa0meant\\t\\r \\xa0that\\t\\r \\xa0if\\t\\r \\xa0a\\t\\r \\xa0player\\t\\r \\xa0committed\\t\\r \\xa0a\\t\\r \\xa0sending-\\xad‐off\\t\\r \\xa0offence\\t\\r \\xa0but\\t\\r \\xa0the\\t\\r \\xa0opponents\\t\\r \\xa0had\\t\\r \\xa0a\\t\\r \\xa0good\\t\\r \\xa0scoring\\t\\r \\xa0opportunity,\\t\\r \\xa0the\\t\\r \\xa0referee\\t\\r \\xa0could\\t\\r \\xa0play\\t\\r \\xa0advantage.\\t\\r \\xa0However,\\t\\r \\xa0the\\t\\r \\xa0player\\t\\r \\xa0was\\t\\r \\xa0not\\t\\r \\xa0sent\\t\\r \\xa0off\\t\\r \\xa0until\\t\\r \\xa0play\\t\\r \\xa0next\\t\\r \\xa0stopped\\t\\r \\xa0which\\t\\r \\xa0meant\\t\\r \\xa0the\\t\\r \\xa0player\\t\\r \\xa0could\\t\\r \\xa0score\\t\\r \\xa0a\\t\\r \\xa0goal,\\t\\r \\xa0or\\t\\r \\xa0stop\\t\\r \\xa0a\\t\\r \\xa0goal.\\t\\r \\xa0This\\t\\r \\xa0is\\t\\r \\xa0clearly\\t\\r \\xa0unfair\\t\\r \\xa0as\\t\\r \\xa0the\\t\\r \\xa0pl'),\n",
       " Document(metadata={'producer': 'Mac OS X 10.10.5 Quartz PDFContext', 'creator': 'Word', 'creationdate': '2016-06-27T12:13:07+00:00', 'aapl:keywords': '[]', 'keywords': '', 'moddate': '2017-03-21T14:43:23-04:00', 'title': 'Microsoft Word - IFAB_LoG_FAQ_v4.0 (clean).docx', 'source': '../documents/FIFA MEMO QA.pdf', 'total_pages': 12, 'page': 7, 'page_label': '8', 'id': '../documents/FIFA MEMO QA.pdf:7:3'}, page_content='sent\\t\\r \\xa0off\\t\\r \\xa0until\\t\\r \\xa0play\\t\\r \\xa0next\\t\\r \\xa0stopped\\t\\r \\xa0which\\t\\r \\xa0meant\\t\\r \\xa0the\\t\\r \\xa0player\\t\\r \\xa0could\\t\\r \\xa0score\\t\\r \\xa0a\\t\\r \\xa0goal,\\t\\r \\xa0or\\t\\r \\xa0stop\\t\\r \\xa0a\\t\\r \\xa0goal.\\t\\r \\xa0This\\t\\r \\xa0is\\t\\r \\xa0clearly\\t\\r \\xa0unfair\\t\\r \\xa0as\\t\\r \\xa0the\\t\\r \\xa0player\\t\\r \\xa0should\\t\\r \\xa0not\\t\\r \\xa0be\\t\\r \\xa0on\\t\\r \\xa0the\\t\\r \\xa0field\\t\\r \\xa0of\\t\\r \\xa0play\\t\\r \\xa0to\\t\\r \\xa0do\\t\\r \\xa0this.\\t\\r \\xa0The\\t\\r \\xa0Law\\t\\r \\xa0now\\t\\r \\xa0requires\\t\\r \\xa0the\\t\\r \\xa0referee\\t\\r \\xa0to\\t\\r \\xa0stop\\t\\r \\xa0play\\t\\r \\xa0and\\t\\r \\xa0send\\t\\r \\xa0the\\t\\r \\xa0player\\t\\r \\xa0off\\t\\r \\xa0as\\t\\r \\xa0soon\\t\\r \\xa0as\\t\\r \\xa0the\\t\\r \\xa0player\\t\\r \\xa0becomes\\t\\r \\xa0involved\\t\\r \\xa0–\\t\\r \\xa0the\\t\\r \\xa0restart\\t\\r \\xa0is\\t\\r \\xa0an\\t\\r \\xa0IDFK\\t\\r \\xa0unless\\t\\r \\xa0the\\t\\r \\xa0player\\t\\r \\xa0commits\\t\\r \\xa0a\\t\\r \\xa0direct\\t\\r \\xa0free\\t\\r \\xa0kick\\t\\r \\xa0offence.\\t\\r \\xa0This\\t\\r \\xa0applies\\t\\r \\xa0for\\t\\r \\xa0‘direct’\\t\\r \\xa0sending-\\xad‐off\\t\\r \\xa0(RC)\\t\\r \\xa0offences\\t\\r \\xa0and\\t\\r \\xa0for\\t\\r \\xa0a\\t\\r \\xa0second\\t\\r \\xa0caution\\t\\r \\xa0(YC).\\t\\r \\xa0\\t\\r \\xa0Q3:\\t\\r \\xa0Why\\t\\r \\xa0has\\t\\r \\xa0the\\t\\r \\xa0wording\\t\\r \\xa0for\\t\\r \\xa0a\\t\\r \\xa0caution\\t\\r \\xa0(YC)\\t\\r \\xa0for\\t\\r \\xa0handball\\t\\r \\xa0changed?\\t\\r \\xa0Some\\t\\r \\xa0referees\\t\\r \\xa0were\\t\\r \\xa0interpreting\\t\\r \\xa0every\\t\\r \\xa0handball\\t\\r \\xa0as\\t\\r \\xa0‘denying\\t\\r \\xa0the\\t\\r \\xa0opponents\\t\\r \\xa0possession’\\t\\r \\xa0so\\t\\r \\xa0every\\t\\r \\xa0handball\\t\\r \\xa0was\\t\\r \\xa0punished\\t\\r \\xa0with\\t\\r \\xa0a\\t\\r \\xa0caution\\t\\r \\xa0(YC)\\t\\r \\xa0-\\xad‐\\t\\r \\xa0this\\t\\r \\xa0was\\t\\r \\xa0not\\t\\r \\xa0the\\t\\r \\xa0intention\\t\\r \\xa0of\\t\\r \\xa0the\\t\\r \\xa0Law.\\t\\r \\xa0Where\\t\\r \\xa0a\\t\\r \\xa0handball\\t\\r \\xa0affects\\t\\r \\xa0the\\t\\r \\xa0opponents\\t\\r \\xa0it\\t\\r \\xa0should\\t\\r \\xa0be\\t\\r \\xa0judged\\t\\r \\xa0like\\t\\r \\xa0a\\t\\r \\xa0foul\\t\\r \\xa0–\\t\\r \\xa0if\\t\\r \\xa0it\\t\\r \\xa0stops\\t\\r \\xa0or\\t\\r \\xa0interferes\\t\\r \\xa0with\\t\\r \\xa0a\\t\\r \\xa0promising\\t\\r \\xa0attack\\t\\r \\xa0then\\t\\r \\xa0it\\t\\r \\xa0is\\t\\r \\xa0a\\t\\r \\xa0caution\\t\\r \\xa0(YC).'),\n",
       " Document(metadata={'producer': 'Mac OS X 10.10.5 Quartz PDFContext', 'creator': 'Word', 'creationdate': '2016-06-27T12:13:07+00:00', 'aapl:keywords': '[]', 'keywords': '', 'moddate': '2017-03-21T14:43:23-04:00', 'title': 'Microsoft Word - IFAB_LoG_FAQ_v4.0 (clean).docx', 'source': '../documents/FIFA MEMO QA.pdf', 'total_pages': 12, 'page': 8, 'page_label': '9', 'id': '../documents/FIFA MEMO QA.pdf:8:0'}, page_content='9/12'),\n",
       " Document(metadata={'producer': 'Mac OS X 10.10.5 Quartz PDFContext', 'creator': 'Word', 'creationdate': '2016-06-27T12:13:07+00:00', 'aapl:keywords': '[]', 'keywords': '', 'moddate': '2017-03-21T14:43:23-04:00', 'title': 'Microsoft Word - IFAB_LoG_FAQ_v4.0 (clean).docx', 'source': '../documents/FIFA MEMO QA.pdf', 'total_pages': 12, 'page': 8, 'page_label': '9', 'id': '../documents/FIFA MEMO QA.pdf:8:1'}, page_content='Q4:\\t\\r \\xa0How\\t\\r \\xa0can\\t\\r \\xa0an\\t\\r \\xa0offence\\t\\r \\xa0be\\t\\r \\xa0violent\\t\\r \\xa0conduct\\t\\r \\xa0if\\t\\r \\xa0no\\t\\r \\xa0contact\\t\\r \\xa0is\\t\\r \\xa0made?\\t\\r \\xa0In\\t\\r \\xa0Law\\t\\r \\xa012\\t\\r \\xa0‘attempts\\t\\r \\xa0to\\t\\r \\xa0kick’\\t\\r \\xa0and\\t\\r \\xa0‘attempts\\t\\r \\xa0to\\t\\r \\xa0strike’\\t\\r \\xa0are\\t\\r \\xa0offences\\t\\r \\xa0–\\t\\r \\xa0so\\t\\r \\xa0attempted\\t\\r \\xa0offences\\t\\r \\xa0should\\t\\r \\xa0be\\t\\r \\xa0punished.\\t\\r \\xa0Just\\t\\r \\xa0because\\t\\r \\xa0a\\t\\r \\xa0player\\t\\r \\xa0avoids\\t\\r \\xa0an\\t\\r \\xa0opponent’s\\t\\r \\xa0punch\\t\\r \\xa0or\\t\\r \\xa0violent\\t\\r \\xa0kick\\t\\r \\xa0it\\t\\r \\xa0does\\t\\r \\xa0not\\t\\r \\xa0mean\\t\\r \\xa0that\\t\\r \\xa0the\\t\\r \\xa0violent\\t\\r \\xa0action\\t\\r \\xa0is\\t\\r \\xa0not\\t\\r \\xa0serious.\\t\\r \\xa0Attempted\\t\\r \\xa0violence\\t\\r \\xa0must\\t\\r \\xa0be\\t\\r \\xa0punished\\t\\r \\xa0as\\t\\r \\xa0a\\t\\r \\xa0sending-\\xad‐off\\t\\r \\xa0(RC)\\t\\r \\xa0offence\\t\\r \\xa0as\\t\\r \\xa0it\\t\\r \\xa0has\\t\\r \\xa0no\\t\\r \\xa0place\\t\\r \\xa0in\\t\\r \\xa0football.\\t\\r \\xa0\\t\\r \\xa0Q5:\\t\\r \\xa0Why\\t\\r \\xa0is\\t\\r \\xa0striking/hitting\\t\\r \\xa0someone’s\\t\\r \\xa0head\\t\\r \\xa0or\\t\\r \\xa0face\\t\\r \\xa0(when\\t\\r \\xa0not\\t\\r \\xa0challenging\\t\\r \\xa0for\\t\\r \\xa0the\\t\\r \\xa0ball)\\t\\r \\xa0regarded\\t\\r \\xa0as\\t\\r \\xa0violent\\t\\r \\xa0conduct?\\t\\r \\xa0There\\t\\r \\xa0has\\t\\r \\xa0always\\t\\r \\xa0been\\t\\r \\xa0an\\t\\r \\xa0expectation\\t\\r \\xa0from\\t\\r \\xa0football\\t\\r \\xa0that\\t\\r \\xa0someone\\t\\r \\xa0who\\t\\r \\xa0deliberately\\t\\r \\xa0hits\\t\\r \\xa0someone\\t\\r \\xa0on\\t\\r \\xa0the\\t\\r \\xa0head\\t\\r \\xa0or\\t\\r \\xa0face\\t\\r \\xa0should\\t\\r \\xa0be\\t\\r \\xa0sent\\t\\r \\xa0off\\t\\r \\xa0–\\t\\r \\xa0striking\\t\\r \\xa0the\\t\\r \\xa0head\\t\\r \\xa0or\\t\\r \\xa0face\\t\\r \\xa0is\\t\\r \\xa0potentially\\t\\r \\xa0very\\t\\r \\xa0dangerous\\t\\r \\xa0so\\t\\r \\xa0unless\\t\\r \\xa0there\\t\\r \\xa0is\\t\\r \\xa0very\\t\\r \\xa0little\\t\\r \\xa0force\\t\\r \\xa0used,\\t\\r \\xa0this\\t\\r \\xa0will\\t\\r \\xa0be\\t\\r \\xa0a\\t\\r \\xa0sending-\\xad‐off\\t\\r \\xa0(RC)\\t\\r \\xa0as\\t\\r \\xa0football\\t\\r \\xa0must\\t\\r \\xa0discourage\\t\\r \\xa0this\\t\\r \\xa0unacceptable\\t\\r \\xa0behaviour.\\t\\r \\xa0\\t\\r \\xa0Q6:\\t\\r \\xa0Why\\t\\r \\xa0is\\t\\r \\xa0an\\t\\r \\xa0offence\\t\\r \\xa0against\\t\\r \\xa0someone\\t\\r \\xa0who\\t\\r \\xa0is\\t\\r \\xa0not\\t\\r \\xa0an\\t\\r \\xa0opponent\\t\\r \\xa0now\\t\\r \\xa0a\\t\\r \\xa0direct\\t\\r \\xa0free\\t\\r \\xa0kick?\\t\\r \\xa0Does\\t\\r \\xa0this\\t\\r \\xa0include\\t\\r \\xa0dissent/offensive\\t\\r \\xa0language?\\t\\r \\xa0If,\\t\\r \\xa0for\\t\\r \\xa0example,'),\n",
       " Document(metadata={'producer': 'Mac OS X 10.10.5 Quartz PDFContext', 'creator': 'Word', 'creationdate': '2016-06-27T12:13:07+00:00', 'aapl:keywords': '[]', 'keywords': '', 'moddate': '2017-03-21T14:43:23-04:00', 'title': 'Microsoft Word - IFAB_LoG_FAQ_v4.0 (clean).docx', 'source': '../documents/FIFA MEMO QA.pdf', 'total_pages': 12, 'page': 8, 'page_label': '9', 'id': '../documents/FIFA MEMO QA.pdf:8:2'}, page_content='offence\\t\\r \\xa0against\\t\\r \\xa0someone\\t\\r \\xa0who\\t\\r \\xa0is\\t\\r \\xa0not\\t\\r \\xa0an\\t\\r \\xa0opponent\\t\\r \\xa0now\\t\\r \\xa0a\\t\\r \\xa0direct\\t\\r \\xa0free\\t\\r \\xa0kick?\\t\\r \\xa0Does\\t\\r \\xa0this\\t\\r \\xa0include\\t\\r \\xa0dissent/offensive\\t\\r \\xa0language?\\t\\r \\xa0If,\\t\\r \\xa0for\\t\\r \\xa0example,\\t\\r \\xa0a\\t\\r \\xa0player\\t\\r \\xa0strikes\\t\\r \\xa0a\\t\\r \\xa0team-\\xad‐mate,\\t\\r \\xa0substitute,\\t\\r \\xa0team\\t\\r \\xa0official\\t\\r \\xa0or,\\t\\r \\xa0perhaps\\t\\r \\xa0even\\t\\r \\xa0worse,\\t\\r \\xa0a\\t\\r \\xa0match\\t\\r \\xa0official\\t\\r \\xa0this\\t\\r \\xa0is\\t\\r \\xa0serious\\t\\r \\xa0but\\t\\r \\xa0only\\t\\r \\xa0restarting\\t\\r \\xa0with\\t\\r \\xa0an\\t\\r \\xa0IDFK\\t\\r \\xa0suggested\\t\\r \\xa0that\\t\\r \\xa0the\\t\\r \\xa0offence\\t\\r \\xa0was\\t\\r \\xa0not\\t\\r \\xa0serious\\t\\r \\xa0so\\t\\r \\xa0it\\t\\r \\xa0is\\t\\r \\xa0now\\t\\r \\xa0a\\t\\r \\xa0direct\\t\\r \\xa0free\\t\\r \\xa0kick\\t\\r \\xa0for\\t\\r \\xa0any\\t\\r \\xa0offence\\t\\r \\xa0(directly)\\t\\r \\xa0against\\t\\r \\xa0anyone\\t\\r \\xa0(except\\t\\r \\xa0an\\t\\r \\xa0opponent).\\t\\r \\xa0This\\t\\r \\xa0does\\t\\r \\xa0not\\t\\r \\xa0include\\t\\r \\xa0dissent/offensive\\t\\r \\xa0language\\t\\r \\xa0etc.\\t\\r \\xa0as\\t\\r \\xa0this\\t\\r \\xa0is\\t\\r \\xa0not\\t\\r \\xa0a\\t\\r \\xa0direct/physical\\t\\r \\xa0offence\\t\\r \\xa0against\\t\\r \\xa0a\\t\\r \\xa0person\\t\\r \\xa0(see\\t\\r \\xa0below).\\t\\r \\xa0\\t\\r \\xa0Q7:\\t\\r \\xa0What\\t\\r \\xa0is\\t\\r \\xa0the\\t\\r \\xa0restart\\t\\r \\xa0of\\t\\r \\xa0the\\t\\r \\xa0referee\\t\\r \\xa0stops\\t\\r \\xa0play\\t\\r \\xa0for\\t\\r \\xa0dissent/offensive\\t\\r \\xa0language\\t\\r \\xa0etc.?\\t\\r \\xa0\\t\\r \\xa0If\\t\\r \\xa0the\\t\\r \\xa0referee\\t\\r \\xa0stops\\t\\r \\xa0play\\t\\r \\xa0to\\t\\r \\xa0penalise\\t\\r \\xa0a\\t\\r \\xa0player\\t\\r \\xa0for\\t\\r \\xa0dissent/offensive\\t\\r \\xa0language\\t\\r \\xa0etc.\\t\\r \\xa0the\\t\\r \\xa0restart\\t\\r \\xa0is\\t\\r \\xa0an\\t\\r \\xa0IDFK.\\t\\r \\xa0\\t\\r \\xa0Q8:\\t\\r \\xa0Why\\t\\r \\xa0can\\t\\r \\xa0a\\t\\r \\xa0free\\t\\r \\xa0kick\\t\\r \\xa0be\\t\\r \\xa0awarded\\t\\r \\xa0for\\t\\r \\xa0an\\t\\r \\xa0offence\\t\\r \\xa0which\\t\\r \\xa0takes\\t\\r \\xa0place\\t\\r \\xa0off\\t\\r \\xa0the\\t\\r \\xa0field\\t\\r \\xa0of\\t\\r \\xa0play?\\t\\r \\xa0Imagine\\t\\r \\xa0two\\t\\r \\xa0players\\t\\r \\xa0fall\\t\\r \\xa0off\\t\\r \\xa0the\\t\\r \\xa0field\\t\\r \\xa0of\\t\\r \\xa0play\\t\\r \\xa0as\\t\\r \\xa0part\\t\\r \\xa0of\\t\\r \\xa0‘normal’\\t\\r \\xa0play\\t\\r \\xa0and\\t\\r \\xa0one\\t\\r \\xa0player\\t\\r \\xa0holds\\t\\r \\xa0the\\t\\r \\xa0other\\t\\r \\xa0to\\t\\r \\xa0prevent\\t\\r \\xa0them\\t\\r \\xa0getting\\t\\r \\xa0back\\t\\r \\xa0onto\\t\\r \\xa0the\\t\\r \\xa0field\\t\\r \\xa0to'),\n",
       " Document(metadata={'producer': 'Mac OS X 10.10.5 Quartz PDFContext', 'creator': 'Word', 'creationdate': '2016-06-27T12:13:07+00:00', 'aapl:keywords': '[]', 'keywords': '', 'moddate': '2017-03-21T14:43:23-04:00', 'title': 'Microsoft Word - IFAB_LoG_FAQ_v4.0 (clean).docx', 'source': '../documents/FIFA MEMO QA.pdf', 'total_pages': 12, 'page': 8, 'page_label': '9', 'id': '../documents/FIFA MEMO QA.pdf:8:3'}, page_content='off\\t\\r \\xa0the\\t\\r \\xa0field\\t\\r \\xa0of\\t\\r \\xa0play\\t\\r \\xa0as\\t\\r \\xa0part\\t\\r \\xa0of\\t\\r \\xa0‘normal’\\t\\r \\xa0play\\t\\r \\xa0and\\t\\r \\xa0one\\t\\r \\xa0player\\t\\r \\xa0holds\\t\\r \\xa0the\\t\\r \\xa0other\\t\\r \\xa0to\\t\\r \\xa0prevent\\t\\r \\xa0them\\t\\r \\xa0getting\\t\\r \\xa0back\\t\\r \\xa0onto\\t\\r \\xa0the\\t\\r \\xa0field\\t\\r \\xa0to\\t\\r \\xa0get\\t\\r \\xa0the\\t\\r \\xa0ball.\\t\\r \\xa0Everyone\\t\\r \\xa0would\\t\\r \\xa0agree\\t\\r \\xa0when\\t\\r \\xa0the\\t\\r \\xa0referee\\t\\r \\xa0stops\\t\\r \\xa0plays\\t\\r \\xa0and\\t\\r \\xa0gives\\t\\r \\xa0a\\t\\r \\xa0caution\\t\\r \\xa0(YC)\\t\\r \\xa0but\\t\\r \\xa0no\\t\\r \\xa0one\\t\\r \\xa0would\\t\\r \\xa0agree\\t\\r \\xa0if\\t\\r \\xa0the\\t\\r \\xa0game\\t\\r \\xa0was\\t\\r \\xa0restarted\\t\\r \\xa0with\\t\\r \\xa0a\\t\\r \\xa0dropped\\t\\r \\xa0ball.\\t\\r \\xa0Giving\\t\\r \\xa0a\\t\\r \\xa0free\\t\\r \\xa0kick\\t\\r \\xa0on\\t\\r \\xa0the\\t\\r \\xa0nearest\\t\\r \\xa0boundary\\t\\r \\xa0line\\t\\r \\xa0to\\t\\r \\xa0the\\t\\r \\xa0offence\\t\\r \\xa0is\\t\\r \\xa0what\\t\\r \\xa0football\\t\\r \\xa0expects;\\t\\r \\xa0if\\t\\r \\xa0this\\t\\r \\xa0position\\t\\r \\xa0is\\t\\r \\xa0inside\\t\\r \\xa0the\\t\\r \\xa0offender’s\\t\\r \\xa0penalty\\t\\r \\xa0area\\t\\r \\xa0it\\t\\r \\xa0will\\t\\r \\xa0be\\t\\r \\xa0a\\t\\r \\xa0penalty\\t\\r \\xa0kick.\\t\\r \\xa0\\t\\r \\xa0Q9:\\t\\r \\xa0Why\\t\\r \\xa0was\\t\\r \\xa0the\\t\\r \\xa0‘triple\\t\\r \\xa0punishment’\\t\\r \\xa0for\\t\\r \\xa0denial\\t\\r \\xa0of\\t\\r \\xa0an\\t\\r \\xa0obvious\\t\\r \\xa0goal-\\xad‐scoring\\t\\r \\xa0opportunity\\t\\r \\xa0(DOGSO)\\t\\r \\xa0offences\\t\\r \\xa0changed\\t\\r \\xa0for\\t\\r \\xa0offences\\t\\r \\xa0in\\t\\r \\xa0the\\t\\r \\xa0penalty\\t\\r \\xa0area?\\t\\r \\xa0The\\t\\r \\xa0main\\t\\r \\xa0reason\\t\\r \\xa0is\\t\\r \\xa0that\\t\\r \\xa0the\\t\\r \\xa0award\\t\\r \\xa0of\\t\\r \\xa0a\\t\\r \\xa0penalty\\t\\r \\xa0kick\\t\\r \\xa0effectively\\t\\r \\xa0‘restores’\\t\\r \\xa0the\\t\\r \\xa0obvious\\t\\r \\xa0goal-\\xad‐scoring\\t\\r \\xa0opportunity\\t\\r \\xa0that\\t\\r \\xa0was\\t\\r \\xa0denied\\t\\r \\xa0by\\t\\r \\xa0the\\t\\r \\xa0foul.\\t\\r \\xa0It\\t\\r \\xa0was\\t\\r \\xa0felt\\t\\r \\xa0that\\t\\r \\xa0a\\t\\r \\xa0penalty,\\t\\r \\xa0red\\t\\r \\xa0card\\t\\r \\xa0and\\t\\r \\xa0suspension\\t\\r \\xa0(the\\t\\r \\xa0three/triple\\t\\r \\xa0punishment)\\t\\r \\xa0was\\t\\r \\xa0too\\t\\r \\xa0strong\\t\\r \\xa0so\\t\\r \\xa0the\\t\\r \\xa0red\\t\\r \\xa0card\\t\\r \\xa0has\\t\\r \\xa0become\\t\\r \\xa0a\\t\\r \\xa0caution\\t\\r \\xa0(YC)\\t\\r \\xa0but\\t\\r \\xa0only\\t\\r \\xa0for\\t\\r \\xa0DOGSO\\t\\r \\xa0offences\\t\\r \\xa0which\\t\\r \\xa0are\\t\\r \\xa0an\\t\\r \\xa0attempt\\t\\r \\xa0to\\t\\r \\xa0play\\t\\r \\xa0the\\t\\r \\xa0ball\\t\\r \\xa0or\\t\\r \\xa0challenge\\t\\r \\xa0an\\t\\r \\xa0opponent\\t\\r \\xa0fo'),\n",
       " Document(metadata={'producer': 'Mac OS X 10.10.5 Quartz PDFContext', 'creator': 'Word', 'creationdate': '2016-06-27T12:13:07+00:00', 'aapl:keywords': '[]', 'keywords': '', 'moddate': '2017-03-21T14:43:23-04:00', 'title': 'Microsoft Word - IFAB_LoG_FAQ_v4.0 (clean).docx', 'source': '../documents/FIFA MEMO QA.pdf', 'total_pages': 12, 'page': 8, 'page_label': '9', 'id': '../documents/FIFA MEMO QA.pdf:8:4'}, page_content='red\\t\\r \\xa0card\\t\\r \\xa0has\\t\\r \\xa0become\\t\\r \\xa0a\\t\\r \\xa0caution\\t\\r \\xa0(YC)\\t\\r \\xa0but\\t\\r \\xa0only\\t\\r \\xa0for\\t\\r \\xa0DOGSO\\t\\r \\xa0offences\\t\\r \\xa0which\\t\\r \\xa0are\\t\\r \\xa0an\\t\\r \\xa0attempt\\t\\r \\xa0to\\t\\r \\xa0play\\t\\r \\xa0the\\t\\r \\xa0ball\\t\\r \\xa0or\\t\\r \\xa0challenge\\t\\r \\xa0an\\t\\r \\xa0opponent\\t\\r \\xa0for\\t\\r \\xa0the\\t\\r \\xa0ball.'),\n",
       " Document(metadata={'producer': 'Mac OS X 10.10.5 Quartz PDFContext', 'creator': 'Word', 'creationdate': '2016-06-27T12:13:07+00:00', 'aapl:keywords': '[]', 'keywords': '', 'moddate': '2017-03-21T14:43:23-04:00', 'title': 'Microsoft Word - IFAB_LoG_FAQ_v4.0 (clean).docx', 'source': '../documents/FIFA MEMO QA.pdf', 'total_pages': 12, 'page': 9, 'page_label': '10', 'id': '../documents/FIFA MEMO QA.pdf:9:0'}, page_content='10/12'),\n",
       " Document(metadata={'producer': 'Mac OS X 10.10.5 Quartz PDFContext', 'creator': 'Word', 'creationdate': '2016-06-27T12:13:07+00:00', 'aapl:keywords': '[]', 'keywords': '', 'moddate': '2017-03-21T14:43:23-04:00', 'title': 'Microsoft Word - IFAB_LoG_FAQ_v4.0 (clean).docx', 'source': '../documents/FIFA MEMO QA.pdf', 'total_pages': 12, 'page': 9, 'page_label': '10', 'id': '../documents/FIFA MEMO QA.pdf:9:1'}, page_content='Q10:\\t\\r \\xa0Is\\t\\r \\xa0every\\t\\r \\xa0DOGSO\\t\\r \\xa0offence\\t\\r \\xa0in\\t\\r \\xa0the\\t\\r \\xa0penalty\\t\\r \\xa0now\\t\\r \\xa0only\\t\\r \\xa0a\\t\\r \\xa0caution\\t\\r \\xa0(YC)?\\t\\r \\xa0NO\\t\\r \\xa0–\\t\\r \\xa0the\\t\\r \\xa0Law\\t\\r \\xa0has\\t\\r \\xa0only\\t\\r \\xa0changed\\t\\r \\xa0for\\t\\r \\xa0those\\t\\r \\xa0DOGSO\\t\\r \\xa0offences\\t\\r \\xa0in\\t\\r \\xa0the\\t\\r \\xa0penalty\\t\\r \\xa0area\\t\\r \\xa0where\\t\\r \\xa0the\\t\\r \\xa0offender\\t\\r \\xa0makes\\t\\r \\xa0an\\t\\r \\xa0attempt\\t\\r \\xa0to\\t\\r \\xa0play\\t\\r \\xa0the\\t\\r \\xa0ball\\t\\r \\xa0or\\t\\r \\xa0challenge\\t\\r \\xa0an\\t\\r \\xa0opponent\\t\\r \\xa0for\\t\\r \\xa0the\\t\\r \\xa0ball.\\t\\r \\xa0The\\t\\r \\xa0sending-\\xad‐off\\t\\r \\xa0(RC)\\t\\r \\xa0remains\\t\\r \\xa0for:\\t\\r \\xa0• handball\\t\\r \\xa0• holding,\\t\\r \\xa0pulling\\t\\r \\xa0and\\t\\r \\xa0pushing\\t\\r \\xa0(as\\t\\r \\xa0these\\t\\r \\xa0offences\\t\\r \\xa0are\\t\\r \\xa0not\\t\\r \\xa0an\\t\\r \\xa0attempt\\t\\r \\xa0to\\t\\r \\xa0play\\t\\r \\xa0the\\t\\r \\xa0ball)\\t\\r \\xa0• making\\t\\r \\xa0no\\t\\r \\xa0attempt\\t\\r \\xa0to\\t\\r \\xa0play\\t\\r \\xa0the\\t\\r \\xa0ball\\t\\r \\xa0e.g.\\t\\r \\xa0a\\t\\r \\xa0deliberate\\t\\r \\xa0trip\\t\\r \\xa0• an\\t\\r \\xa0offence\\t\\r \\xa0when\\t\\r \\xa0there\\t\\r \\xa0was\\t\\r \\xa0no\\t\\r \\xa0chance/possibility\\t\\r \\xa0of\\t\\r \\xa0the\\t\\r \\xa0ball\\t\\r \\xa0being\\t\\r \\xa0played\\t\\r \\xa0\\t\\r \\xa0Q11:\\t\\r \\xa0Can\\t\\r \\xa0a\\t\\r \\xa0DOGSO\\t\\r \\xa0offence\\t\\r \\xa0outside\\t\\r \\xa0the\\t\\r \\xa0penalty\\t\\r \\xa0area\\t\\r \\xa0be\\t\\r \\xa0punished\\t\\r \\xa0with\\t\\r \\xa0a\\t\\r \\xa0caution\\t\\r \\xa0(YC)?\\t\\r \\xa0NO\\t\\r \\xa0–\\t\\r \\xa0unlike\\t\\r \\xa0a\\t\\r \\xa0penalty\\t\\r \\xa0kick,\\t\\r \\xa0a\\t\\r \\xa0free\\t\\r \\xa0kick\\t\\r \\xa0is\\t\\r \\xa0not\\t\\r \\xa0an\\t\\r \\xa0obvious\\t\\r \\xa0chance\\t\\r \\xa0to\\t\\r \\xa0score\\t\\r \\xa0a\\t\\r \\xa0goal\\t\\r \\xa0so\\t\\r \\xa0it\\t\\r \\xa0does\\t\\r \\xa0not\\t\\r \\xa0‘restore’\\t\\r \\xa0the\\t\\r \\xa0obvious\\t\\r \\xa0goal-\\xad‐scoring\\t\\r \\xa0opportunity\\t\\r \\xa0that\\t\\r \\xa0was\\t\\r \\xa0denied\\t\\r \\xa0by\\t\\r \\xa0the\\t\\r \\xa0offence\\t\\r \\xa0-\\xad‐\\t\\r \\xa0the\\t\\r \\xa0disciplinary\\t\\r \\xa0sanction\\t\\r \\xa0for\\t\\r \\xa0all\\t\\r \\xa0DOGSO\\t\\r \\xa0offences\\t\\r \\xa0outside\\t\\r \\xa0the\\t\\r \\xa0penalty\\t\\r \\xa0area\\t\\r \\xa0remains\\t\\r \\xa0a\\t\\r \\xa0sending-\\xad‐off\\t\\r \\xa0(RC).\\t\\r \\xa0\\t\\r \\xa0Q12:\\t\\r \\xa0If\\t\\r \\xa0a\\t\\r \\xa0player\\t\\r \\xa0commits\\t\\r \\xa0a\\t\\r \\xa0DOGSO\\t\\r \\xa0offence\\t\\r \\xa0punished\\t\\r \\xa0by\\t\\r \\xa0an\\t\\r \\xa0indirect\\t\\r \\xa0free\\t\\r \\xa0kick\\t\\r \\xa0(IDFK)\\t\\r \\xa0in\\t\\r \\xa0the\\t\\r \\xa0penalty\\t\\r \\xa0area'),\n",
       " Document(metadata={'producer': 'Mac OS X 10.10.5 Quartz PDFContext', 'creator': 'Word', 'creationdate': '2016-06-27T12:13:07+00:00', 'aapl:keywords': '[]', 'keywords': '', 'moddate': '2017-03-21T14:43:23-04:00', 'title': 'Microsoft Word - IFAB_LoG_FAQ_v4.0 (clean).docx', 'source': '../documents/FIFA MEMO QA.pdf', 'total_pages': 12, 'page': 9, 'page_label': '10', 'id': '../documents/FIFA MEMO QA.pdf:9:2'}, page_content='ains\\t\\r \\xa0a\\t\\r \\xa0sending-\\xad‐off\\t\\r \\xa0(RC).\\t\\r \\xa0\\t\\r \\xa0Q12:\\t\\r \\xa0If\\t\\r \\xa0a\\t\\r \\xa0player\\t\\r \\xa0commits\\t\\r \\xa0a\\t\\r \\xa0DOGSO\\t\\r \\xa0offence\\t\\r \\xa0punished\\t\\r \\xa0by\\t\\r \\xa0an\\t\\r \\xa0indirect\\t\\r \\xa0free\\t\\r \\xa0kick\\t\\r \\xa0(IDFK)\\t\\r \\xa0in\\t\\r \\xa0the\\t\\r \\xa0penalty\\t\\r \\xa0area\\t\\r \\xa0what\\t\\r \\xa0is\\t\\r \\xa0the\\t\\r \\xa0disciplinary\\t\\r \\xa0sanction?\\t\\r \\xa0The\\t\\r \\xa0change\\t\\r \\xa0relating\\t\\r \\xa0to\\t\\r \\xa0DOGSO\\t\\r \\xa0offences\\t\\r \\xa0is\\t\\r \\xa0only\\t\\r \\xa0when\\t\\r \\xa0the\\t\\r \\xa0referee\\t\\r \\xa0awards\\t\\r \\xa0a\\t\\r \\xa0penalty\\t\\r \\xa0kick.\\t\\r \\xa0This\\t\\r \\xa0is\\t\\r \\xa0because\\t\\r \\xa0the\\t\\r \\xa0penalty\\t\\r \\xa0kick\\t\\r \\xa0effectively\\t\\r \\xa0restores\\t\\r \\xa0the\\t\\r \\xa0lost\\t\\r \\xa0obvious\\t\\r \\xa0goal-\\xad‐scoring\\t\\r \\xa0opportunity.\\t\\r \\xa0As\\t\\r \\xa0an\\t\\r \\xa0IDFK\\t\\r \\xa0does\\t\\r \\xa0not\\t\\r \\xa0restore\\t\\r \\xa0the\\t\\r \\xa0lost\\t\\r \\xa0obvious\\t\\r \\xa0goal-\\xad‐scoring\\t\\r \\xa0opportunity,\\t\\r \\xa0the\\t\\r \\xa0sanction\\t\\r \\xa0for\\t\\r \\xa0any\\t\\r \\xa0DOGSO\\t\\r \\xa0offence\\t\\r \\xa0resulting\\t\\r \\xa0in\\t\\r \\xa0an\\t\\r \\xa0IDFK\\t\\r \\xa0is\\t\\r \\xa0a\\t\\r \\xa0sending-\\xad‐off\\t\\r \\xa0(RC).\\t\\r \\xa0\\t\\r \\xa013\\t\\r \\xa0Free\\t\\r \\xa0Kicks\\t\\r \\xa0Q1:\\t\\r \\xa0What\\t\\r \\xa0is\\t\\r \\xa0the\\t\\r \\xa0difference\\t\\r \\xa0between\\t\\r \\xa0‘preventing’\\t\\r \\xa0a\\t\\r \\xa0free\\t\\r \\xa0kick\\t\\r \\xa0and\\t\\r \\xa0‘intercepting’\\t\\r \\xa0a\\t\\r \\xa0free\\t\\r \\xa0kick?\\t\\r \\xa0When\\t\\r \\xa0an\\t\\r \\xa0opposing\\t\\r \\xa0player\\t\\r \\xa0who\\t\\r \\xa0is\\t\\r \\xa0close\\t\\r \\xa0to\\t\\r \\xa0a\\t\\r \\xa0free\\t\\r \\xa0kick\\t\\r \\xa0stops\\t\\r \\xa0the\\t\\r \\xa0kick\\t\\r \\xa0being\\t\\r \\xa0taken\\t\\r \\xa0this\\t\\r \\xa0must\\t\\r \\xa0be\\t\\r \\xa0sanctioned\\t\\r \\xa0with\\t\\r \\xa0a\\t\\r \\xa0caution\\t\\r \\xa0(YC).\\t\\r \\xa0However,\\t\\r \\xa0if\\t\\r \\xa0a\\t\\r \\xa0player\\t\\r \\xa0decides\\t\\r \\xa0to\\t\\r \\xa0take\\t\\r \\xa0a\\t\\r \\xa0free\\t\\r \\xa0kick\\t\\r \\xa0quickly,\\t\\r \\xa0when\\t\\r \\xa0an\\t\\r \\xa0opponent\\t\\r \\xa0is\\t\\r \\xa0less\\t\\r \\xa0than\\t\\r \\xa09.15m\\t\\r \\xa0away\\t\\r \\xa0and,\\t\\r \\xa0after\\t\\r \\xa0the\\t\\r \\xa0kick\\t\\r \\xa0has\\t\\r \\xa0been\\t\\r \\xa0taken,\\t\\r \\xa0the\\t\\r \\xa0opponent\\t\\r \\xa0gets\\t\\r \\xa0possession\\t\\r \\xa0of\\t\\r \\xa0the\\t\\r \\xa0ball\\t\\r \\xa0(even\\t\\r \\xa0though\\t\\r \\xa0less\\t\\r \\xa0than\\t\\r \\xa09.15\\t\\r \\xa0away)\\t\\r \\xa0this\\t\\r \\xa0is\\t\\r \\xa0allowed\\t\\r \\xa0as\\t\\r \\xa0the\\t\\r \\xa0player\\t\\r \\xa0took\\t\\r \\xa0a\\t\\r \\xa0ri'),\n",
       " Document(metadata={'producer': 'Mac OS X 10.10.5 Quartz PDFContext', 'creator': 'Word', 'creationdate': '2016-06-27T12:13:07+00:00', 'aapl:keywords': '[]', 'keywords': '', 'moddate': '2017-03-21T14:43:23-04:00', 'title': 'Microsoft Word - IFAB_LoG_FAQ_v4.0 (clean).docx', 'source': '../documents/FIFA MEMO QA.pdf', 'total_pages': 12, 'page': 9, 'page_label': '10', 'id': '../documents/FIFA MEMO QA.pdf:9:3'}, page_content='s\\t\\r \\xa0been\\t\\r \\xa0taken,\\t\\r \\xa0the\\t\\r \\xa0opponent\\t\\r \\xa0gets\\t\\r \\xa0possession\\t\\r \\xa0of\\t\\r \\xa0the\\t\\r \\xa0ball\\t\\r \\xa0(even\\t\\r \\xa0though\\t\\r \\xa0less\\t\\r \\xa0than\\t\\r \\xa09.15\\t\\r \\xa0away)\\t\\r \\xa0this\\t\\r \\xa0is\\t\\r \\xa0allowed\\t\\r \\xa0as\\t\\r \\xa0the\\t\\r \\xa0player\\t\\r \\xa0took\\t\\r \\xa0a\\t\\r \\xa0risk\\t\\r \\xa0by\\t\\r \\xa0taking\\t\\r \\xa0the\\t\\r \\xa0free\\t\\r \\xa0kick\\t\\r \\xa0quickly.\\t\\r \\xa0\\t\\r \\xa014\\t\\r \\xa0The\\t\\r \\xa0Penalty\\t\\r \\xa0Kick\\t\\r \\xa0Q1:\\t\\r \\xa0When\\t\\r \\xa0is\\t\\r \\xa0a\\t\\r \\xa0penalty\\t\\r \\xa0kick\\t\\r \\xa0completed\\t\\r \\xa0(over)?\\t\\r \\xa0The\\t\\r \\xa0penalty\\t\\r \\xa0kick\\t\\r \\xa0is\\t\\r \\xa0completed\\t\\r \\xa0(over)\\t\\r \\xa0when\\t\\r \\xa0the\\t\\r \\xa0ball\\t\\r \\xa0stops\\t\\r \\xa0moving\\t\\r \\xa0(including\\t\\r \\xa0being\\t\\r \\xa0held\\t\\r \\xa0by\\t\\r \\xa0the\\t\\r \\xa0goalkeeper)\\t\\r \\xa0or\\t\\r \\xa0goes\\t\\r \\xa0out\\t\\r \\xa0of\\t\\r \\xa0play\\t\\r \\xa0or\\t\\r \\xa0if\\t\\r \\xa0the\\t\\r \\xa0referee\\t\\r \\xa0stops\\t\\r \\xa0play.\\t\\r \\xa0\\t\\r \\xa0\\t\\r \\xa0Q2:\\t\\r \\xa0Why\\t\\r \\xa0is\\t\\r \\xa0illegal\\t\\r \\xa0feinting\\t\\r \\xa0by\\t\\r \\xa0the\\t\\r \\xa0penalty\\t\\r \\xa0kicker\\t\\r \\xa0an\\t\\r \\xa0IDFK\\t\\r \\xa0even\\t\\r \\xa0when\\t\\r \\xa0the\\t\\r \\xa0player\\t\\r \\xa0scores?\\t\\r \\xa0A\\t\\r \\xa0player\\t\\r \\xa0who\\t\\r \\xa0deliberately\\t\\r \\xa0stops\\t\\r \\xa0at\\t\\r \\xa0the\\t\\r \\xa0end\\t\\r \\xa0of\\t\\r \\xa0their\\t\\r \\xa0run\\t\\r \\xa0and\\t\\r \\xa0then\\t\\r \\xa0feints\\t\\r \\xa0to\\t\\r \\xa0gain\\t\\r \\xa0an\\t\\r \\xa0advantage\\t\\r \\xa0is\\t\\r \\xa0deliberately\\t\\r \\xa0breaking\\t\\r \\xa0the\\t\\r \\xa0Law.\\t\\r \\xa0This\\t\\r \\xa0is\\t\\r \\xa0an\\t\\r \\xa0act\\t\\r \\xa0of\\t\\r \\xa0deliberate\\t\\r \\xa0unsporting\\t\\r \\xa0behaviour\\t\\r \\xa0so,\\t\\r \\xa0as\\t\\r \\xa0well\\t\\r \\xa0as\\t\\r \\xa0the\\t\\r \\xa0caution\\t\\r \\xa0(YC),\\t\\r \\xa0the\\t\\r \\xa0player\\t\\r \\xa0does\\t\\r \\xa0not\\t\\r \\xa0deserve\\t\\r \\xa0to\\t\\r \\xa0have\\t\\r \\xa0a\\t\\r \\xa0second'),\n",
       " Document(metadata={'producer': 'Mac OS X 10.10.5 Quartz PDFContext', 'creator': 'Word', 'creationdate': '2016-06-27T12:13:07+00:00', 'aapl:keywords': '[]', 'keywords': '', 'moddate': '2017-03-21T14:43:23-04:00', 'title': 'Microsoft Word - IFAB_LoG_FAQ_v4.0 (clean).docx', 'source': '../documents/FIFA MEMO QA.pdf', 'total_pages': 12, 'page': 10, 'page_label': '11', 'id': '../documents/FIFA MEMO QA.pdf:10:0'}, page_content='11/12'),\n",
       " Document(metadata={'producer': 'Mac OS X 10.10.5 Quartz PDFContext', 'creator': 'Word', 'creationdate': '2016-06-27T12:13:07+00:00', 'aapl:keywords': '[]', 'keywords': '', 'moddate': '2017-03-21T14:43:23-04:00', 'title': 'Microsoft Word - IFAB_LoG_FAQ_v4.0 (clean).docx', 'source': '../documents/FIFA MEMO QA.pdf', 'total_pages': 12, 'page': 10, 'page_label': '11', 'id': '../documents/FIFA MEMO QA.pdf:10:1'}, page_content='chance\\t\\r \\xa0to\\t\\r \\xa0score.\\t\\r \\xa0This\\t\\r \\xa0stronger\\t\\r \\xa0punishment\\t\\r \\xa0should\\t\\r \\xa0deter\\t\\r \\xa0an\\t\\r \\xa0offence\\t\\r \\xa0which\\t\\r \\xa0is\\t\\r \\xa0sometimes\\t\\r \\xa0difficult\\t\\r \\xa0to\\t\\r \\xa0detect.\\t\\r \\xa0\\t\\r \\xa0Q3:\\t\\r \\xa0Why\\t\\r \\xa0must\\t\\r \\xa0the\\t\\r \\xa0goalkeeper\\t\\r \\xa0who\\t\\r \\xa0infringes\\t\\r \\xa0the\\t\\r \\xa0Law\\t\\r \\xa0at\\t\\r \\xa0a\\t\\r \\xa0penalty\\t\\r \\xa0kick\\t\\r \\xa0and\\t\\r \\xa0causes\\t\\r \\xa0the\\t\\r \\xa0kick\\t\\r \\xa0to\\t\\r \\xa0be\\t\\r \\xa0retaken,\\t\\r \\xa0be\\t\\r \\xa0cautioned\\t\\r \\xa0(YC)?\\t\\r \\xa0\\t\\r \\xa0If\\t\\r \\xa0the\\t\\r \\xa0goalkeeper\\t\\r \\xa0moves\\t\\r \\xa0early\\t\\r \\xa0(or\\t\\r \\xa0infringes\\t\\r \\xa0in\\t\\r \\xa0any\\t\\r \\xa0other\\t\\r \\xa0way)\\t\\r \\xa0this\\t\\r \\xa0can\\t\\r \\xa0directly\\t\\r \\xa0affect\\t\\r \\xa0the\\t\\r \\xa0outcome\\t\\r \\xa0of\\t\\r \\xa0the\\t\\r \\xa0penalty\\t\\r \\xa0kick\\t\\r \\xa0so\\t\\r \\xa0introducing\\t\\r \\xa0a\\t\\r \\xa0caution(YC)\\t\\r \\xa0is\\t\\r \\xa0consistent\\t\\r \\xa0with\\t\\r \\xa0the\\t\\r \\xa0increased\\t\\r \\xa0punishment\\t\\r \\xa0for\\t\\r \\xa0the\\t\\r \\xa0kicker\\t\\r \\xa0and\\t\\r \\xa0should\\t\\r \\xa0deter\\t\\r \\xa0goalkeepers\\t\\r \\xa0from\\t\\r \\xa0moving\\t\\r \\xa0early.\\t\\r \\xa0\\t\\r \\xa0Q4:\\t\\r \\xa0Why\\t\\r \\xa0is\\t\\r \\xa0it\\t\\r \\xa0not\\t\\r \\xa0a\\t\\r \\xa0caution\\t\\r \\xa0(YC)\\t\\r \\xa0for\\t\\r \\xa0players\\t\\r \\xa0who\\t\\r \\xa0encroach\\t\\r \\xa0early?\\t\\r \\xa0If\\t\\r \\xa0the\\t\\r \\xa0kicker\\t\\r \\xa0or\\t\\r \\xa0goalkeeper\\t\\r \\xa0infringes\\t\\r \\xa0the\\t\\r \\xa0Law\\t\\r \\xa0their\\t\\r \\xa0illegal\\t\\r \\xa0action\\t\\r \\xa0can\\t\\r \\xa0directly\\t\\r \\xa0affect\\t\\r \\xa0the\\t\\r \\xa0outcome\\t\\r \\xa0of\\t\\r \\xa0the\\t\\r \\xa0penalty\\t\\r \\xa0kick\\t\\r \\xa0but\\t\\r \\xa0encroachment\\t\\r \\xa0does\\t\\r \\xa0not\\t\\r \\xa0directly\\t\\r \\xa0affect\\t\\r \\xa0the\\t\\r \\xa0outcome\\t\\r \\xa0of\\t\\r \\xa0the\\t\\r \\xa0penalty\\t\\r \\xa0kick\\t\\r \\xa0so\\t\\r \\xa0is\\t\\r \\xa0not\\t\\r \\xa0as\\t\\r \\xa0serious.\\t\\r \\xa0\\t\\r \\xa0Q5:\\t\\r \\xa0Why\\t\\r \\xa0is\\t\\r \\xa0it\\t\\r \\xa0an\\t\\r \\xa0IDFK\\t\\r \\xa0if\\t\\r \\xa0the\\t\\r \\xa0ball\\t\\r \\xa0is\\t\\r \\xa0kicked\\t\\r \\xa0backwards?\\t\\r \\xa0The\\t\\r \\xa0Law\\t\\r \\xa0requires\\t\\r \\xa0the\\t\\r \\xa0ball\\t\\r \\xa0to\\t\\r \\xa0be\\t\\r \\xa0kicked\\t\\r \\xa0forward\\t\\r \\xa0–\\t\\r \\xa0if\\t\\r \\xa0it\\t\\r \\xa0is\\t\\r \\xa0not\\t\\r \\xa0then\\t\\r \\xa0the\\t\\r \\xa0procedure\\t\\r \\xa0has\\t\\r \\xa0been\\t\\r \\xa0broken\\t\\r \\xa0and,\\t\\r \\xa0as\\t\\r \\xa0a\\t\\r \\xa0goal\\t\\r \\xa0has\\t\\r \\xa0not\\t\\r \\xa0been\\t\\r \\xa0scored\\t\\r \\xa0an\\t\\r \\xa0IDFK\\t\\r \\xa0is\\t\\r \\xa0awa'),\n",
       " Document(metadata={'producer': 'Mac OS X 10.10.5 Quartz PDFContext', 'creator': 'Word', 'creationdate': '2016-06-27T12:13:07+00:00', 'aapl:keywords': '[]', 'keywords': '', 'moddate': '2017-03-21T14:43:23-04:00', 'title': 'Microsoft Word - IFAB_LoG_FAQ_v4.0 (clean).docx', 'source': '../documents/FIFA MEMO QA.pdf', 'total_pages': 12, 'page': 10, 'page_label': '11', 'id': '../documents/FIFA MEMO QA.pdf:10:2'}, page_content='to\\t\\r \\xa0be\\t\\r \\xa0kicked\\t\\r \\xa0forward\\t\\r \\xa0–\\t\\r \\xa0if\\t\\r \\xa0it\\t\\r \\xa0is\\t\\r \\xa0not\\t\\r \\xa0then\\t\\r \\xa0the\\t\\r \\xa0procedure\\t\\r \\xa0has\\t\\r \\xa0been\\t\\r \\xa0broken\\t\\r \\xa0and,\\t\\r \\xa0as\\t\\r \\xa0a\\t\\r \\xa0goal\\t\\r \\xa0has\\t\\r \\xa0not\\t\\r \\xa0been\\t\\r \\xa0scored\\t\\r \\xa0an\\t\\r \\xa0IDFK\\t\\r \\xa0is\\t\\r \\xa0awarded.\\t\\r \\xa0If\\t\\r \\xa0a\\t\\r \\xa0‘goal’\\t\\r \\xa0is\\t\\r \\xa0scored\\t\\r \\xa0from\\t\\r \\xa0a\\t\\r \\xa0shot\\t\\r \\xa0after\\t\\r \\xa0the\\t\\r \\xa0penalty\\t\\r \\xa0kick\\t\\r \\xa0went\\t\\r \\xa0backwards\\t\\r \\xa0this\\t\\r \\xa0is\\t\\r \\xa0not\\t\\r \\xa0a\\t\\r \\xa0re-\\xad‐take\\t\\r \\xa0as\\t\\r \\xa0the\\t\\r \\xa0‘goal’\\t\\r \\xa0was\\t\\r \\xa0not\\t\\r \\xa0scored\\t\\r \\xa0directly\\t\\r \\xa0from\\t\\r \\xa0the\\t\\r \\xa0penalty\\t\\r \\xa0kick.\\t\\r \\xa0\\t\\r \\xa015\\t\\r \\xa0The\\t\\r \\xa0Throw-\\xad‐in\\t\\r \\xa0Q1:\\t\\r \\xa0Why\\t\\r \\xa0has\\t\\r \\xa0the\\t\\r \\xa0wording\\t\\r \\xa0about\\t\\r \\xa0the\\t\\r \\xa0hands\\t\\r \\xa0been\\t\\r \\xa0changed?\\t\\r \\xa0The\\t\\r \\xa0Law\\t\\r \\xa0has\\t\\r \\xa0been\\t\\r \\xa0reworded\\t\\r \\xa0to\\t\\r \\xa0emphasise\\t\\r \\xa0that\\t\\r \\xa0the\\t\\r \\xa0ball\\t\\r \\xa0must\\t\\r \\xa0be\\t\\r \\xa0thrown\\t\\r \\xa0by\\t\\r \\xa0BOTH\\t\\r \\xa0hands\\t\\r \\xa0so\\t\\r \\xa0throwing\\t\\r \\xa0the\\t\\r \\xa0ball\\t\\r \\xa0with\\t\\r \\xa0one\\t\\r \\xa0hand\\t\\r \\xa0and\\t\\r \\xa0using\\t\\r \\xa0the\\t\\r \\xa0other\\t\\r \\xa0hand\\t\\r \\xa0just\\t\\r \\xa0to\\t\\r \\xa0‘guide’\\t\\r \\xa0the\\t\\r \\xa0direction\\t\\r \\xa0of\\t\\r \\xa0the\\t\\r \\xa0throw\\t\\r \\xa0is\\t\\r \\xa0not\\t\\r \\xa0permitted.\\t\\r \\xa0\\t\\r \\xa016\\t\\r \\xa0The\\t\\r \\xa0Goal\\t\\r \\xa0Kick\\t\\r \\xa0Q1:\\t\\r \\xa0Why\\t\\r \\xa0is\\t\\r \\xa0the\\t\\r \\xa0word\\t\\r \\xa0‘stationary’\\t\\r \\xa0highlighted\\t\\r \\xa0as\\t\\r \\xa0a\\t\\r \\xa0change\\t\\r \\xa0to\\t\\r \\xa0Law\\t\\r \\xa016?\\t\\r \\xa0This\\t\\r \\xa0was\\t\\r \\xa0one\\t\\r \\xa0of\\t\\r \\xa0the\\t\\r \\xa0strangest\\t\\r \\xa0discoveries\\t\\r \\xa0when\\t\\r \\xa0The\\t\\r \\xa0IFAB\\t\\r \\xa0started\\t\\r \\xa0the\\t\\r \\xa0revision\\t\\r \\xa0work\\t\\r \\xa0as\\t\\r \\xa0the\\t\\r \\xa0old\\t\\r \\xa0wording\\t\\r \\xa0did\\t\\r \\xa0not\\t\\r \\xa0say\\t\\r \\xa0anywhere\\t\\r \\xa0that\\t\\r \\xa0the\\t\\r \\xa0ball\\t\\r \\xa0had\\t\\r \\xa0to\\t\\r \\xa0be\\t\\r \\xa0stationary\\t\\r \\xa0(not\\t\\r \\xa0moving)\\t\\r \\xa0for\\t\\r \\xa0\\t\\r \\xa0a\\t\\r \\xa0goal\\t\\r \\xa0kick.\\t\\r \\xa0We\\t\\r \\xa0think\\t\\r \\xa0this\\t\\r \\xa0omission\\t\\r \\xa0occurred\\t\\r \\xa0many\\t\\r \\xa0years\\t\\r \\xa0ago\\t\\r \\xa0when\\t\\r \\xa0it\\t\\r \\xa0was\\t\\r \\xa0decided,\\t\\r \\xa0to\\t\\r \\xa0stop\\t\\r \\xa0time-\\xad‐wasting,\\t\\r \\xa0that\\t\\r \\xa0the\\t\\r \\xa0goal\\t\\r \\xa0kick\\t\\r \\xa0could'),\n",
       " Document(metadata={'producer': 'Mac OS X 10.10.5 Quartz PDFContext', 'creator': 'Word', 'creationdate': '2016-06-27T12:13:07+00:00', 'aapl:keywords': '[]', 'keywords': '', 'moddate': '2017-03-21T14:43:23-04:00', 'title': 'Microsoft Word - IFAB_LoG_FAQ_v4.0 (clean).docx', 'source': '../documents/FIFA MEMO QA.pdf', 'total_pages': 12, 'page': 10, 'page_label': '11', 'id': '../documents/FIFA MEMO QA.pdf:10:3'}, page_content='a\\t\\r \\xa0goal\\t\\r \\xa0kick.\\t\\r \\xa0We\\t\\r \\xa0think\\t\\r \\xa0this\\t\\r \\xa0omission\\t\\r \\xa0occurred\\t\\r \\xa0many\\t\\r \\xa0years\\t\\r \\xa0ago\\t\\r \\xa0when\\t\\r \\xa0it\\t\\r \\xa0was\\t\\r \\xa0decided,\\t\\r \\xa0to\\t\\r \\xa0stop\\t\\r \\xa0time-\\xad‐wasting,\\t\\r \\xa0that\\t\\r \\xa0the\\t\\r \\xa0goal\\t\\r \\xa0kick\\t\\r \\xa0could\\t\\r \\xa0be\\t\\r \\xa0taken\\t\\r \\xa0from\\t\\r \\xa0anywhere\\t\\r \\xa0in\\t\\r \\xa0the\\t\\r \\xa0goal\\t\\r \\xa0area.\\t\\r \\xa0\\t\\r \\xa0Q2:\\t\\r \\xa0Why\\t\\r \\xa0is\\t\\r \\xa0the\\t\\r \\xa0goal\\t\\r \\xa0kick\\t\\r \\xa0retaken\\t\\r \\xa0if\\t\\r \\xa0an\\t\\r \\xa0attacking\\t\\r \\xa0player\\t\\r \\xa0who\\t\\r \\xa0was\\t\\r \\xa0in\\t\\r \\xa0the\\t\\r \\xa0penalty\\t\\r \\xa0area\\t\\r \\xa0when\\t\\r \\xa0the\\t\\r \\xa0goal\\t\\r \\xa0kick\\t\\r \\xa0was\\t\\r \\xa0taken\\t\\r \\xa0is\\t\\r \\xa0the\\t\\r \\xa0first\\t\\r \\xa0player\\t\\r \\xa0to\\t\\r \\xa0touch\\t\\r \\xa0the\\t\\r \\xa0ball\\t\\r \\xa0outside\\t\\r \\xa0the\\t\\r \\xa0penalty\\t\\r \\xa0area?\\t\\r \\xa0This\\t\\r \\xa0is\\t\\r \\xa0to\\t\\r \\xa0prevent\\t\\r \\xa0the\\t\\r \\xa0attacking\\t\\r \\xa0player\\t\\r \\xa0gaining\\t\\r \\xa0an\\t\\r \\xa0advantage\\t\\r \\xa0from\\t\\r \\xa0being\\t\\r \\xa0in\\t\\r \\xa0the\\t\\r \\xa0penalty\\t\\r \\xa0area\\t\\r \\xa0which\\t\\r \\xa0is\\t\\r \\xa0not\\t\\r \\xa0permitted\\t\\r \\xa0by\\t\\r \\xa0Law\\t\\r \\xa016.\\t\\r \\xa0The\\t\\r \\xa0player\\t\\r \\xa0is\\t\\r \\xa0NOT\\t\\r \\xa0penalised\\t\\r \\xa0with\\t\\r \\xa0a\\t\\r \\xa0free\\t\\r \\xa0kick\\t\\r \\xa0as\\t\\r \\xa0the\\t\\r \\xa0goal\\t\\r \\xa0kick\\t\\r \\xa0is\\t\\r \\xa0often\\t\\r \\xa0taken\\t\\r \\xa0before\\t\\r \\xa0the\\t\\r \\xa0player\\t\\r \\xa0has\\t\\r \\xa0had\\t\\r \\xa0time\\t\\r \\xa0to\\t\\r \\xa0leave\\t\\r \\xa0the\\t\\r \\xa0penalty\\t\\r \\xa0area.'),\n",
       " Document(metadata={'producer': 'Mac OS X 10.10.5 Quartz PDFContext', 'creator': 'Word', 'creationdate': '2016-06-27T12:13:07+00:00', 'aapl:keywords': '[]', 'keywords': '', 'moddate': '2017-03-21T14:43:23-04:00', 'title': 'Microsoft Word - IFAB_LoG_FAQ_v4.0 (clean).docx', 'source': '../documents/FIFA MEMO QA.pdf', 'total_pages': 12, 'page': 11, 'page_label': '12', 'id': '../documents/FIFA MEMO QA.pdf:11:0'}, page_content='12/12 \\n17\\t\\r \\xa0The\\t\\r \\xa0Corner\\t\\r \\xa0Kick\\t\\r \\xa0Q1:\\t\\r \\xa0Why\\t\\r \\xa0does\\t\\r \\xa0the\\t\\r \\xa0Law\\t\\r \\xa0mention\\t\\r \\xa0scoring\\t\\r \\xa0an\\t\\r \\xa0‘own\\t\\r \\xa0goal’\\t\\r \\xa0from\\t\\r \\xa0a\\t\\r \\xa0corner\\t\\r \\xa0kick\\t\\r \\xa0as\\t\\r \\xa0that\\t\\r \\xa0must\\t\\r \\xa0be\\t\\r \\xa0almost\\t\\r \\xa0impossible?\\t\\r \\xa0The\\t\\r \\xa0Laws\\t\\r \\xa0try\\t\\r \\xa0to\\t\\r \\xa0cover\\t\\r \\xa0all\\t\\r \\xa0possible\\t\\r \\xa0situations\\t\\r \\xa0and\\t\\r \\xa0there\\t\\r \\xa0is\\t\\r \\xa0a\\t\\r \\xa0(small)\\t\\r \\xa0chance\\t\\r \\xa0that\\t\\r \\xa0on\\t\\r \\xa0a\\t\\r \\xa0sloping\\t\\r \\xa0field\\t\\r \\xa0in\\t\\r \\xa0a\\t\\r \\xa0very\\t\\r \\xa0strong\\t\\r \\xa0winds\\t\\r \\xa0this\\t\\r \\xa0could\\t\\r \\xa0happen.')]"
      ]
     },
     "execution_count": 9,
     "metadata": {},
     "output_type": "execute_result"
    }
   ],
   "source": [
    "calculate_chunk_ids(chunks)"
   ]
  },
  {
   "cell_type": "code",
   "execution_count": 10,
   "metadata": {},
   "outputs": [
    {
     "data": {
      "text/plain": [
       "47"
      ]
     },
     "execution_count": 10,
     "metadata": {},
     "output_type": "execute_result"
    }
   ],
   "source": [
    "len(chunks)"
   ]
  },
  {
   "cell_type": "markdown",
   "metadata": {},
   "source": [
    "## 1.1 Store chunks in a Chroma db\n",
    "\n",
    "Using OpenAI embeddings function and local db from Chroma. The chunks are identified by an id so that we avoid uploading the same chunk twice to the database."
   ]
  },
  {
   "cell_type": "code",
   "execution_count": 11,
   "metadata": {},
   "outputs": [],
   "source": [
    "def get_embeddings():\n",
    "    embeddings = OpenAIEmbeddings( model= \"text-embedding-ada-002\", openai_api_key = OPENAI_API_KEY)\n",
    "    return embeddings\n",
    "embedding_function = get_embeddings()\n",
    "#test_vector = embedding_function.embed_query(\"cat\")"
   ]
  },
  {
   "cell_type": "code",
   "execution_count": 12,
   "metadata": {},
   "outputs": [
    {
     "data": {
      "text/plain": [
       "{'score': 0.1745443723078154}"
      ]
     },
     "execution_count": 12,
     "metadata": {},
     "output_type": "execute_result"
    }
   ],
   "source": [
    "from langchain.evaluation import load_evaluator\n",
    "\n",
    "evaluator = load_evaluator(evaluator = \"embedding_distance\", embeddings = embedding_function)\n",
    "evaluator.evaluate_strings(prediction=\"Amsterdam\", reference = \"coffeeshop\")"
   ]
  },
  {
   "cell_type": "code",
   "execution_count": 13,
   "metadata": {},
   "outputs": [],
   "source": [
    "def add_to_chroma(chunks: list, vectorstore_path: str):\n",
    "    # Load the existing database.\n",
    "    db = Chroma(\n",
    "        persist_directory= vectorstore_path, embedding_function=get_embeddings()\n",
    "    )\n",
    "\n",
    "    # Calculate Page IDs.\n",
    "    chunks_with_ids = calculate_chunk_ids(chunks)\n",
    "\n",
    "    # Add or Update the documents.\n",
    "    existing_items = db.get(include=[])  # IDs are always included by default\n",
    "    existing_ids = set(existing_items[\"ids\"])\n",
    "    print(f\"Number of existing documents in DB: {len(existing_ids)}\")\n",
    "\n",
    "    # Only add documents that don't exist in the DB.\n",
    "    new_chunks = []\n",
    "    for chunk in chunks_with_ids:\n",
    "        if chunk.metadata[\"id\"] not in existing_ids:\n",
    "            new_chunks.append(chunk)\n",
    "\n",
    "    if len(new_chunks):\n",
    "        print(f\"👉 Adding new documents: {len(new_chunks)}\")\n",
    "        new_chunk_ids = [chunk.metadata[\"id\"] for chunk in new_chunks]\n",
    "        db.add_documents(new_chunks, ids=new_chunk_ids)\n",
    "        db.persist()\n",
    "    else:\n",
    "        print(\"✅ No new documents to add\")"
   ]
  },
  {
   "cell_type": "code",
   "execution_count": 14,
   "metadata": {},
   "outputs": [
    {
     "name": "stderr",
     "output_type": "stream",
     "text": [
      "C:\\Users\\carlo\\AppData\\Local\\Temp\\ipykernel_22176\\2512774597.py:3: LangChainDeprecationWarning: The class `Chroma` was deprecated in LangChain 0.2.9 and will be removed in 1.0. An updated version of the class exists in the :class:`~langchain-chroma package and should be used instead. To use it run `pip install -U :class:`~langchain-chroma` and import as `from :class:`~langchain_chroma import Chroma``.\n",
      "  db = Chroma(\n"
     ]
    },
    {
     "name": "stdout",
     "output_type": "stream",
     "text": [
      "Number of existing documents in DB: 334\n",
      "✅ No new documents to add\n"
     ]
    }
   ],
   "source": [
    "# Create vectorstore\n",
    "add_to_chroma(chunks, \"vectorstore_chroma\")"
   ]
  },
  {
   "cell_type": "markdown",
   "metadata": {},
   "source": [
    "## 2. Access to database\n",
    "\n",
    "Accessing Chroma db by creating a variable db and set a retriever. The retriever will perform a cosine similarity on the input text with the database and deliver the k (default 5) chunks more similar to the input."
   ]
  },
  {
   "cell_type": "code",
   "execution_count": null,
   "metadata": {},
   "outputs": [],
   "source": [
    "db = Chroma(persist_directory=\"vectorstore_chroma\", embedding_function=get_embeddings())"
   ]
  },
  {
   "cell_type": "code",
   "execution_count": 27,
   "metadata": {},
   "outputs": [],
   "source": [
    "## Query relevant data\n",
    "retriever = db.as_retriever(seach_type=\"similarity\")\n",
    "relevant_chunks = retriever.invoke(\"A defender touches the ball with his hand in his own penalty area, however the ball was deflected by another player. Should this be ruled as a penalty?\")\n",
    "sources = [doc.metadata.get(\"id\", None) for doc in relevant_chunks]"
   ]
  },
  {
   "cell_type": "code",
   "execution_count": 28,
   "metadata": {},
   "outputs": [
    {
     "data": {
      "text/plain": [
       "[]"
      ]
     },
     "execution_count": 28,
     "metadata": {},
     "output_type": "execute_result"
    }
   ],
   "source": [
    "sources"
   ]
  },
  {
   "cell_type": "markdown",
   "metadata": {},
   "source": [
    "## 3. Prompt creation\n",
    "\n",
    "The prompt is a copy of Than Vu used prompt in her video RAG elements. Defines *instructions* for the model to not make up any piece of information. Forming the answer from a *context* which would be the k most relevant pieces of information from the pdf and a *question* which will be the user's input."
   ]
  },
  {
   "cell_type": "code",
   "execution_count": 18,
   "metadata": {},
   "outputs": [],
   "source": [
    "# Prompt template\n",
    "PROMPT_TEMPLATE = \"\"\"\n",
    "You are an assistant for question-answering tasks.\n",
    "Use the following pieces of retrieved context to answer\n",
    "the question. If you don't know the answer, say that you\n",
    "don't know. DON'T MAKE UP ANYTHING.\n",
    "\n",
    "{context}\n",
    "\n",
    "---\n",
    "\n",
    "Answer the question based on the above context: {question}\n",
    "\"\"\""
   ]
  },
  {
   "cell_type": "code",
   "execution_count": 19,
   "metadata": {},
   "outputs": [
    {
     "name": "stdout",
     "output_type": "stream",
     "text": [
      "Human: \n",
      "You are an assistant for question-answering tasks.\n",
      "Use the following pieces of retrieved context to answer\n",
      "the question. If you don't know the answer, say that you\n",
      "don't know. DON'T MAKE UP ANYTHING.\n",
      "\n",
      "player outside the penalty area.  If the goalkeeper handles the ball inside their \n",
      "penalty area when not permitted to do so, an indirect free kick is awarded but \n",
      "there is no disciplinary sanction. However, if the offence is playing the ball a \n",
      "second time (with or without the hand/arm) after a restart before it touches \n",
      "another player, the goalkeeper must be sanctioned if the offence stops a \n",
      "promising attack or denies an opponent or the opposing team a goal or an \n",
      "obvious goal-scoring opportunity.\n",
      "11\n",
      "No handball\n",
      "Handball\n",
      "1111\n",
      "No handball\n",
      "Handball\n",
      "Handball\n",
      "\n",
      "---\n",
      "\n",
      "Where a player denies the opposing team a goal or an obvious goal-scoring \n",
      "opportunity by committing a non-deliberate handball offence and the referee \n",
      "awards a penalty kick, the offender is cautioned.\n",
      "\n",
      "---\n",
      "\n",
      "128\n",
      "If, after the penalty kick has been taken:\n",
      "• the kicker touches the ball again before it has touched another player:\n",
      " •  an indirect free kick (or direct free kick for a handball offence) is awarded \n",
      "• the ball is touched by an outside agent as it moves forward:\n",
      " •  the kick is retaken unless the ball is going into the goal and the interference \n",
      "does not prevent the goalkeeper or a defending player playing the ball, in \n",
      "which case the goal is awarded if the ball enters the goal (even if contact was \n",
      "made with the ball) unless the interference was by the attacking team\n",
      "•  the ball rebounds into the field of play from the goalkeeper, the crossbar or  \n",
      "the goalposts and is then touched by an outside agent:  \n",
      " • the referee stops play\n",
      " •  play is restarted with a dropped ball at the position where it touched the \n",
      "outside agent\n",
      "\n",
      "---\n",
      "\n",
      "or attempted to kick the ball to release it into play, after:\n",
      " • it has been deliberately kicked to the goalkeeper by a team-mate\n",
      " • receiving it directly from a throw-in taken by a team-mate \n",
      "A goalkeeper is considered to be in control of the ball with the hand(s) when:\n",
      "•  the ball is between the hands or between the hand and any surface  \n",
      "(e.g. ground, own body) or by touching it with any part of the hands  \n",
      "or arms, except if the ball rebounds from  the goalkeeper or the goalkeeper \n",
      "has made a save\n",
      "\n",
      "---\n",
      "\n",
      "Answer the question based on the above context: A defender touches the ball with his hand in his own penalty area, however the ball was deflected by another player. Should this be ruled as a penalty?\n",
      "\n"
     ]
    }
   ],
   "source": [
    "# Concatenate context text\n",
    "context_text = \"\\n\\n---\\n\\n\".join([doc.page_content for doc in relevant_chunks])\n",
    "\n",
    "# Create prompt\n",
    "prompt_template = ChatPromptTemplate.from_template(PROMPT_TEMPLATE)\n",
    "prompt = prompt_template.format(context=context_text, \n",
    "                                question=\"A defender touches the ball with his hand in his own penalty area, however the ball was deflected by another player. Should this be ruled as a penalty?\")\n",
    "print(prompt)"
   ]
  },
  {
   "cell_type": "code",
   "execution_count": 20,
   "metadata": {},
   "outputs": [
    {
     "data": {
      "text/plain": [
       "AIMessage(content=\"Based on the context provided, if the defender's handball was non-deliberate and it does not deny an obvious goal-scoring opportunity, it would not necessarily result in a penalty kick being awarded. However, if the referee determines that the handball meets the criteria for a penalty due to denying a goal or opportunity, a penalty may be awarded. Since the situation involves a deflection by another player, a penalty may not be given, but it ultimately depends on the referee's interpretation of the circumstances. Therefore, the decision on whether it should be ruled as a penalty is not straightforward and would depend on additional factors.\", additional_kwargs={'refusal': None}, response_metadata={'token_usage': {'completion_tokens': 126, 'prompt_tokens': 580, 'total_tokens': 706, 'completion_tokens_details': {'accepted_prediction_tokens': 0, 'audio_tokens': 0, 'reasoning_tokens': 0, 'rejected_prediction_tokens': 0}, 'prompt_tokens_details': {'audio_tokens': 0, 'cached_tokens': 0}}, 'model_name': 'gpt-4o-mini-2024-07-18', 'system_fingerprint': 'fp_f7d56a8a2c', 'id': 'chatcmpl-BPQkBwiubBlGkBb1BLWoEzrycG9R2', 'finish_reason': 'stop', 'logprobs': None}, id='run-d22b7fa2-97c1-46a0-a51d-3175bf8170e6-0', usage_metadata={'input_tokens': 580, 'output_tokens': 126, 'total_tokens': 706, 'input_token_details': {'audio': 0, 'cache_read': 0}, 'output_token_details': {'audio': 0, 'reasoning': 0}})"
      ]
     },
     "execution_count": 20,
     "metadata": {},
     "output_type": "execute_result"
    }
   ],
   "source": [
    "llm.invoke(prompt)"
   ]
  },
  {
   "cell_type": "code",
   "execution_count": 21,
   "metadata": {},
   "outputs": [
    {
     "data": {
      "text/plain": [
       "['../documents/Laws_of_the Game_2024_25.pdf:105:1',\n",
       " '../documents/Laws_of_the Game_2024_25.pdf:163:1',\n",
       " '../documents/Laws_of_the Game_2024_25.pdf:127:0',\n",
       " '../documents/Laws_of_the Game_2024_25.pdf:107:1']"
      ]
     },
     "execution_count": 21,
     "metadata": {},
     "output_type": "execute_result"
    }
   ],
   "source": [
    "sources"
   ]
  },
  {
   "cell_type": "code",
   "execution_count": 22,
   "metadata": {},
   "outputs": [
    {
     "data": {
      "text/plain": [
       "[Document(metadata={'creationdate': '2024-05-22T13:59:41+02:00', 'creator': 'Adobe InDesign 19.4 (Windows)', 'id': '../documents/Laws_of_the Game_2024_25.pdf:105:1', 'moddate': '2024-05-22T14:00:15+02:00', 'page': 105, 'page_label': '106', 'producer': 'Adobe PDF Library 17.0', 'source': '../documents/Laws_of_the Game_2024_25.pdf', 'total_pages': 230, 'trapped': '/False'}, page_content='player outside the penalty area.  If the goalkeeper handles the ball inside their \\npenalty area when not permitted to do so, an indirect free kick is awarded but \\nthere is no disciplinary sanction. However, if the offence is playing the ball a \\nsecond time (with or without the hand/arm) after a restart before it touches \\nanother player, the goalkeeper must be sanctioned if the offence stops a \\npromising attack or denies an opponent or the opposing team a goal or an \\nobvious goal-scoring opportunity.\\n11\\nNo handball\\nHandball\\n1111\\nNo handball\\nHandball\\nHandball'),\n",
       " Document(metadata={'creationdate': '2024-05-22T13:59:41+02:00', 'creator': 'Adobe InDesign 19.4 (Windows)', 'id': '../documents/Laws_of_the Game_2024_25.pdf:163:1', 'moddate': '2024-05-22T14:00:15+02:00', 'page': 163, 'page_label': '164', 'producer': 'Adobe PDF Library 17.0', 'source': '../documents/Laws_of_the Game_2024_25.pdf', 'total_pages': 230, 'trapped': '/False'}, page_content='Where a player denies the opposing team a goal or an obvious goal-scoring \\nopportunity by committing a non-deliberate handball offence and the referee \\nawards a penalty kick, the offender is cautioned.'),\n",
       " Document(metadata={'creationdate': '2024-05-22T13:59:41+02:00', 'creator': 'Adobe InDesign 19.4 (Windows)', 'id': '../documents/Laws_of_the Game_2024_25.pdf:127:0', 'moddate': '2024-05-22T14:00:15+02:00', 'page': 127, 'page_label': '128', 'producer': 'Adobe PDF Library 17.0', 'source': '../documents/Laws_of_the Game_2024_25.pdf', 'total_pages': 230, 'trapped': '/False'}, page_content='128\\nIf, after the penalty kick has been taken:\\n•\\u2002the kicker touches the ball again before it has touched another player:\\n\\u2002•  an indirect free kick (or direct free kick for a handball offence) is awarded \\n•\\u2002the ball is touched by an outside agent as it moves forward:\\n\\u2002•  the kick is retaken unless the ball is going into the goal and the interference \\ndoes not prevent the goalkeeper or a defending player playing the ball, in \\nwhich case the goal is awarded if the ball enters the goal (even if contact was \\nmade with the ball) unless the interference was by the attacking team\\n•\\u2002 the ball rebounds into the field of play from the goalkeeper, the crossbar or  \\nthe goalposts and is then touched by an outside agent:  \\n\\u2002• the referee stops play\\n\\u2002•  play is restarted with a dropped ball at the position where it touched the \\noutside agent'),\n",
       " Document(metadata={'creationdate': '2024-05-22T13:59:41+02:00', 'creator': 'Adobe InDesign 19.4 (Windows)', 'id': '../documents/Laws_of_the Game_2024_25.pdf:107:1', 'moddate': '2024-05-22T14:00:15+02:00', 'page': 107, 'page_label': '108', 'producer': 'Adobe PDF Library 17.0', 'source': '../documents/Laws_of_the Game_2024_25.pdf', 'total_pages': 230, 'trapped': '/False'}, page_content='or attempted to kick the ball to release it into play, after:\\n\\u2002• it has been deliberately kicked to the goalkeeper by a team-mate\\n\\u2002• receiving it directly from a throw-in taken by a team-mate \\nA goalkeeper is considered to be in control of the ball with the hand(s) when:\\n•\\u2002 the ball is between the hands or between the hand and any surface  \\n(e.g. ground, own body) or by touching it with any part of the hands  \\nor arms, except if the ball rebounds from  the goalkeeper or the goalkeeper \\nhas made a save')]"
      ]
     },
     "execution_count": 22,
     "metadata": {},
     "output_type": "execute_result"
    }
   ],
   "source": [
    "relevant_chunks"
   ]
  },
  {
   "cell_type": "code",
   "execution_count": 23,
   "metadata": {},
   "outputs": [
    {
     "data": {
      "text/plain": [
       "'player outside the penalty area.  If the goalkeeper handles the ball inside their \\npenalty area when not permitted to do so, an indirect free kick is awarded but \\nthere is no disciplinary sanction. However, if the offence is playing the ball a \\nsecond time (with or without the hand/arm) after a restart before it touches \\nanother player, the goalkeeper must be sanctioned if the offence stops a \\npromising attack or denies an opponent or the opposing team a goal or an \\nobvious goal-scoring opportunity.\\n11\\nNo handball\\nHandball\\n1111\\nNo handball\\nHandball\\nHandball'"
      ]
     },
     "execution_count": 23,
     "metadata": {},
     "output_type": "execute_result"
    }
   ],
   "source": [
    "relevant_chunks[0].page_content"
   ]
  },
  {
   "cell_type": "code",
   "execution_count": 24,
   "metadata": {},
   "outputs": [
    {
     "data": {
      "text/plain": [
       "[Document(metadata={'creationdate': '2024-05-22T13:59:41+02:00', 'creator': 'Adobe InDesign 19.4 (Windows)', 'id': '../documents/Laws_of_the Game_2024_25.pdf:105:1', 'moddate': '2024-05-22T14:00:15+02:00', 'page': 105, 'page_label': '106', 'producer': 'Adobe PDF Library 17.0', 'source': '../documents/Laws_of_the Game_2024_25.pdf', 'total_pages': 230, 'trapped': '/False'}, page_content='player outside the penalty area.  If the goalkeeper handles the ball inside their \\npenalty area when not permitted to do so, an indirect free kick is awarded but \\nthere is no disciplinary sanction. However, if the offence is playing the ball a \\nsecond time (with or without the hand/arm) after a restart before it touches \\nanother player, the goalkeeper must be sanctioned if the offence stops a \\npromising attack or denies an opponent or the opposing team a goal or an \\nobvious goal-scoring opportunity.\\n11\\nNo handball\\nHandball\\n1111\\nNo handball\\nHandball\\nHandball'),\n",
       " Document(metadata={'creationdate': '2024-05-22T13:59:41+02:00', 'creator': 'Adobe InDesign 19.4 (Windows)', 'id': '../documents/Laws_of_the Game_2024_25.pdf:163:1', 'moddate': '2024-05-22T14:00:15+02:00', 'page': 163, 'page_label': '164', 'producer': 'Adobe PDF Library 17.0', 'source': '../documents/Laws_of_the Game_2024_25.pdf', 'total_pages': 230, 'trapped': '/False'}, page_content='Where a player denies the opposing team a goal or an obvious goal-scoring \\nopportunity by committing a non-deliberate handball offence and the referee \\nawards a penalty kick, the offender is cautioned.'),\n",
       " Document(metadata={'creationdate': '2024-05-22T13:59:41+02:00', 'creator': 'Adobe InDesign 19.4 (Windows)', 'id': '../documents/Laws_of_the Game_2024_25.pdf:127:0', 'moddate': '2024-05-22T14:00:15+02:00', 'page': 127, 'page_label': '128', 'producer': 'Adobe PDF Library 17.0', 'source': '../documents/Laws_of_the Game_2024_25.pdf', 'total_pages': 230, 'trapped': '/False'}, page_content='128\\nIf, after the penalty kick has been taken:\\n•\\u2002the kicker touches the ball again before it has touched another player:\\n\\u2002•  an indirect free kick (or direct free kick for a handball offence) is awarded \\n•\\u2002the ball is touched by an outside agent as it moves forward:\\n\\u2002•  the kick is retaken unless the ball is going into the goal and the interference \\ndoes not prevent the goalkeeper or a defending player playing the ball, in \\nwhich case the goal is awarded if the ball enters the goal (even if contact was \\nmade with the ball) unless the interference was by the attacking team\\n•\\u2002 the ball rebounds into the field of play from the goalkeeper, the crossbar or  \\nthe goalposts and is then touched by an outside agent:  \\n\\u2002• the referee stops play\\n\\u2002•  play is restarted with a dropped ball at the position where it touched the \\noutside agent'),\n",
       " Document(metadata={'creationdate': '2024-05-22T13:59:41+02:00', 'creator': 'Adobe InDesign 19.4 (Windows)', 'id': '../documents/Laws_of_the Game_2024_25.pdf:107:1', 'moddate': '2024-05-22T14:00:15+02:00', 'page': 107, 'page_label': '108', 'producer': 'Adobe PDF Library 17.0', 'source': '../documents/Laws_of_the Game_2024_25.pdf', 'total_pages': 230, 'trapped': '/False'}, page_content='or attempted to kick the ball to release it into play, after:\\n\\u2002• it has been deliberately kicked to the goalkeeper by a team-mate\\n\\u2002• receiving it directly from a throw-in taken by a team-mate \\nA goalkeeper is considered to be in control of the ball with the hand(s) when:\\n•\\u2002 the ball is between the hands or between the hand and any surface  \\n(e.g. ground, own body) or by touching it with any part of the hands  \\nor arms, except if the ball rebounds from  the goalkeeper or the goalkeeper \\nhas made a save')]"
      ]
     },
     "execution_count": 24,
     "metadata": {},
     "output_type": "execute_result"
    }
   ],
   "source": [
    "relevant_chunks"
   ]
  },
  {
   "cell_type": "markdown",
   "metadata": {},
   "source": [
    "This auxiliary function will store in a dataframe information from the k most relevant chunks. This information will entail document name, in case there are multiple documents in the db, document page where to find the given information, and content of the chunk."
   ]
  },
  {
   "cell_type": "code",
   "execution_count": 25,
   "metadata": {},
   "outputs": [
    {
     "data": {
      "text/html": [
       "<div>\n",
       "<style scoped>\n",
       "    .dataframe tbody tr th:only-of-type {\n",
       "        vertical-align: middle;\n",
       "    }\n",
       "\n",
       "    .dataframe tbody tr th {\n",
       "        vertical-align: top;\n",
       "    }\n",
       "\n",
       "    .dataframe thead th {\n",
       "        text-align: right;\n",
       "    }\n",
       "</style>\n",
       "<table border=\"1\" class=\"dataframe\">\n",
       "  <thead>\n",
       "    <tr style=\"text-align: right;\">\n",
       "      <th></th>\n",
       "      <th>document_name</th>\n",
       "      <th>page</th>\n",
       "      <th>content</th>\n",
       "    </tr>\n",
       "  </thead>\n",
       "  <tbody>\n",
       "    <tr>\n",
       "      <th>0</th>\n",
       "      <td>Laws_of_the Game_2024_25.pdf</td>\n",
       "      <td>105</td>\n",
       "      <td>player outside the penalty area.  If the goalk...</td>\n",
       "    </tr>\n",
       "    <tr>\n",
       "      <th>1</th>\n",
       "      <td>Laws_of_the Game_2024_25.pdf</td>\n",
       "      <td>163</td>\n",
       "      <td>Where a player denies the opposing team a goal...</td>\n",
       "    </tr>\n",
       "    <tr>\n",
       "      <th>2</th>\n",
       "      <td>Laws_of_the Game_2024_25.pdf</td>\n",
       "      <td>127</td>\n",
       "      <td>128\\nIf, after the penalty kick has been taken...</td>\n",
       "    </tr>\n",
       "    <tr>\n",
       "      <th>3</th>\n",
       "      <td>Laws_of_the Game_2024_25.pdf</td>\n",
       "      <td>107</td>\n",
       "      <td>or attempted to kick the ball to release it in...</td>\n",
       "    </tr>\n",
       "  </tbody>\n",
       "</table>\n",
       "</div>"
      ],
      "text/plain": [
       "                  document_name  page  \\\n",
       "0  Laws_of_the Game_2024_25.pdf   105   \n",
       "1  Laws_of_the Game_2024_25.pdf   163   \n",
       "2  Laws_of_the Game_2024_25.pdf   127   \n",
       "3  Laws_of_the Game_2024_25.pdf   107   \n",
       "\n",
       "                                             content  \n",
       "0  player outside the penalty area.  If the goalk...  \n",
       "1  Where a player denies the opposing team a goal...  \n",
       "2  128\\nIf, after the penalty kick has been taken...  \n",
       "3  or attempted to kick the ball to release it in...  "
      ]
     },
     "execution_count": 25,
     "metadata": {},
     "output_type": "execute_result"
    }
   ],
   "source": [
    "def process_relevant_chunks(relevant_chunks):\n",
    "    data = []\n",
    "    \n",
    "    for doc in relevant_chunks:\n",
    "        metadata = doc.metadata\n",
    "        data.append({\n",
    "            \"document_name\": metadata.get(\"source\", \"\").split(\"/\")[-1],  # Extract filename\n",
    "            \"page\": metadata.get(\"page\", \"\"),  # Page number\n",
    "            \"content\": doc.page_content.strip()  # Clean text content\n",
    "        })\n",
    "    \n",
    "    return pd.DataFrame(data)\n",
    "\n",
    "process_relevant_chunks(relevant_chunks)"
   ]
  },
  {
   "cell_type": "code",
   "execution_count": null,
   "metadata": {},
   "outputs": [],
   "source": []
  }
 ],
 "metadata": {
  "kernelspec": {
   "display_name": "venv",
   "language": "python",
   "name": "python3"
  },
  "language_info": {
   "codemirror_mode": {
    "name": "ipython",
    "version": 3
   },
   "file_extension": ".py",
   "mimetype": "text/x-python",
   "name": "python",
   "nbconvert_exporter": "python",
   "pygments_lexer": "ipython3",
   "version": "3.13.1"
  }
 },
 "nbformat": 4,
 "nbformat_minor": 2
}
